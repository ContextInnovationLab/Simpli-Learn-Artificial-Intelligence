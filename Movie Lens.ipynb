{
 "cells": [
  {
   "cell_type": "markdown",
   "metadata": {},
   "source": [
    "## https://drive.google.com/drive/folders/1rGuDlNRqCUFgKxKcwphpUaPFo7CcMlUC"
   ]
  },
  {
   "cell_type": "raw",
   "metadata": {},
   "source": [
    "DESCRIPTION\n",
    "\n",
    "Background of Problem Statement :\n",
    "\n",
    "The GroupLens Research Project is a research group in the Department of Computer Science and Engineering at the University of Minnesota. Members of the GroupLens Research Project are involved in many research projects related to the fields of information filtering, collaborative filtering, and recommender systems. The project is led by professors John Riedl and Joseph Konstan. The project began to explore automated collaborative filtering in 1992 but is most well known for its worldwide trial of an automated collaborative filtering system for Usenet news in 1996. Since then the project has expanded its scope to research overall information by filtering solutions, integrating into content-based methods, as well as, improving current collaborative filtering technology.\n",
    "\n",
    "Problem Objective :\n",
    "\n",
    "Here, we ask you to perform the analysis using the Exploratory Data Analysis technique. You need to find features affecting the ratings of any particular movie and build a model to predict the movie ratings.\n",
    "\n",
    "Domain: Entertainment\n",
    "\n",
    "Analysis Tasks to be performed:\n",
    "\n",
    "Import the three datasets\n",
    "Create a new dataset [Master_Data] with the following columns MovieID Title UserID Age Gender Occupation Rating. (Hint: (i) Merge two tables at a time. (ii) Merge the tables using two primary keys MovieID & UserId)\n",
    "Explore the datasets using visual representations (graphs or tables), also include your comments on the following:\n",
    "User Age Distribution\n",
    "User rating of the movie “Toy Story”\n",
    "Top 25 movies by viewership rating\n",
    "Find the ratings for all the movies reviewed by for a particular user of user id = 2696\n",
    "Feature Engineering:\n",
    "            Use column genres:\n",
    "\n",
    "Find out all the unique genres (Hint: split the data in column genre making a list and then process the data to find out only the unique categories of genres)\n",
    "Create a separate column for each genre category with a one-hot encoding ( 1 and 0) whether or not the movie belongs to that genre. \n",
    "Determine the features affecting the ratings of any particular movie.\n",
    "Develop an appropriate model to predict the movie ratings\n",
    "Dataset Description :\n",
    "\n",
    "These files contain 1,000,209 anonymous ratings of approximately 3,900 movies made by 6,040 MovieLens users who joined MovieLens in 2000."
   ]
  },
  {
   "cell_type": "code",
   "execution_count": null,
   "metadata": {},
   "outputs": [],
   "source": []
  },
  {
   "cell_type": "code",
   "execution_count": 1,
   "metadata": {},
   "outputs": [],
   "source": [
    "# df1 = pd.read_csv(\"movies.dat\" , sep = \"::\", names = [\"MovieID\", \"Title\",\"Genres\"])\n",
    "# df1 = pd.read_csv(\"movies.dat\" , sep = \"::\", names = [\"MovieID\", \"Title\",\"Genres\"])"
   ]
  },
  {
   "cell_type": "code",
   "execution_count": null,
   "metadata": {},
   "outputs": [],
   "source": [
    "# df1 = pd.read_csv(\"movies.dat\" , sep = \"::\", names = [\"MovieID\", \"Title\",\"Genres\"])\n",
    "# df2 = pd.read_csv(\"ratings.dat\" , sep = \"::\",names = [\"UserID\", \"MovieID\",\"Rating\",\"Timestamp\"])"
   ]
  },
  {
   "cell_type": "code",
   "execution_count": null,
   "metadata": {},
   "outputs": [],
   "source": [
    "# df3 = pd.read_csv(\"users.dat\" , sep = \"::\",names = [\"UserID\", \"Gender\",\"Age\",\"Occupation\",\"Zip-code\"])"
   ]
  },
  {
   "cell_type": "code",
   "execution_count": null,
   "metadata": {},
   "outputs": [],
   "source": [
    "## Last date to submit is 24th and 25th August 2019 7th September"
   ]
  }
 ],
 "metadata": {
  "kernelspec": {
   "display_name": "Python 3",
   "language": "python",
   "name": "python3"
  },
  "language_info": {
   "codemirror_mode": {
    "name": "ipython",
    "version": 3
   },
   "file_extension": ".py",
   "mimetype": "text/x-python",
   "name": "python",
   "nbconvert_exporter": "python",
   "pygments_lexer": "ipython3",
   "version": "3.7.3"
  }
 },
 "nbformat": 4,
 "nbformat_minor": 2
}
