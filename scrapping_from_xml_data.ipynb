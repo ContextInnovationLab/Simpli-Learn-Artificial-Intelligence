{
 "cells": [
  {
   "cell_type": "code",
   "execution_count": 14,
   "metadata": {},
   "outputs": [],
   "source": [
    "import xml.etree.ElementTree as ET"
   ]
  },
  {
   "cell_type": "code",
   "execution_count": 15,
   "metadata": {},
   "outputs": [],
   "source": [
    "xml_file = \"movies_parameter_file.xml\""
   ]
  },
  {
   "cell_type": "code",
   "execution_count": 16,
   "metadata": {},
   "outputs": [],
   "source": [
    "tree = ET.parse(xml_file)"
   ]
  },
  {
   "cell_type": "code",
   "execution_count": 17,
   "metadata": {},
   "outputs": [],
   "source": [
    "root = tree.getroot()"
   ]
  },
  {
   "cell_type": "code",
   "execution_count": 18,
   "metadata": {},
   "outputs": [],
   "source": [
    "data = []"
   ]
  },
  {
   "cell_type": "code",
   "execution_count": 19,
   "metadata": {},
   "outputs": [],
   "source": [
    "for child in root:\n",
    "    if child.tag == \"movie\":\n",
    "        movie_name = child.attrib[\"title\"]       \n",
    "        movie_type = child.find(\"type\").text\n",
    "        movie_format = child.find(\"format\").text\n",
    "        try:\n",
    "            movie_year = child.find(\"year\").text\n",
    "        except AttributeError:\n",
    "            movie_year = None\n",
    "        movie_rating = child.find(\"rating\").text\n",
    "        movie_stars = child.find(\"stars\").text\n",
    "        movie_description = child.find(\"description\").text       \n",
    "        \n",
    "        \n",
    "        data.append([movie_name,movie_type,movie_format,movie_year,movie_rating,movie_stars,movie_description])"
   ]
  },
  {
   "cell_type": "code",
   "execution_count": 20,
   "metadata": {},
   "outputs": [],
   "source": [
    "labels = [\"movie_name\",\"movie_type\",\"movie_format\",\"movie_year\",\"movie_rating\",\"movie_stars\",\"movie_description\"]"
   ]
  },
  {
   "cell_type": "code",
   "execution_count": 21,
   "metadata": {},
   "outputs": [],
   "source": [
    "import pandas as pd"
   ]
  },
  {
   "cell_type": "code",
   "execution_count": 22,
   "metadata": {},
   "outputs": [],
   "source": [
    "df = pd.DataFrame.from_records(data,columns = labels)"
   ]
  },
  {
   "cell_type": "code",
   "execution_count": 23,
   "metadata": {},
   "outputs": [
    {
     "data": {
      "text/html": [
       "<div>\n",
       "<style scoped>\n",
       "    .dataframe tbody tr th:only-of-type {\n",
       "        vertical-align: middle;\n",
       "    }\n",
       "\n",
       "    .dataframe tbody tr th {\n",
       "        vertical-align: top;\n",
       "    }\n",
       "\n",
       "    .dataframe thead th {\n",
       "        text-align: right;\n",
       "    }\n",
       "</style>\n",
       "<table border=\"1\" class=\"dataframe\">\n",
       "  <thead>\n",
       "    <tr style=\"text-align: right;\">\n",
       "      <th></th>\n",
       "      <th>movie_name</th>\n",
       "      <th>movie_type</th>\n",
       "      <th>movie_format</th>\n",
       "      <th>movie_year</th>\n",
       "      <th>movie_rating</th>\n",
       "      <th>movie_stars</th>\n",
       "      <th>movie_description</th>\n",
       "    </tr>\n",
       "  </thead>\n",
       "  <tbody>\n",
       "    <tr>\n",
       "      <th>0</th>\n",
       "      <td>Enemy Behind</td>\n",
       "      <td>War, Thriller</td>\n",
       "      <td>DVD</td>\n",
       "      <td>2003</td>\n",
       "      <td>PG</td>\n",
       "      <td>10</td>\n",
       "      <td>Talk about a US-Japan war</td>\n",
       "    </tr>\n",
       "    <tr>\n",
       "      <th>1</th>\n",
       "      <td>Transformers</td>\n",
       "      <td>Anime, Science Fiction</td>\n",
       "      <td>DVD</td>\n",
       "      <td>1989</td>\n",
       "      <td>R</td>\n",
       "      <td>8</td>\n",
       "      <td>A schientific fiction</td>\n",
       "    </tr>\n",
       "    <tr>\n",
       "      <th>2</th>\n",
       "      <td>Trigun</td>\n",
       "      <td>Anim e, Action</td>\n",
       "      <td>DVD</td>\n",
       "      <td>None</td>\n",
       "      <td>PG</td>\n",
       "      <td>10</td>\n",
       "      <td>Vash the Stam pede!</td>\n",
       "    </tr>\n",
       "    <tr>\n",
       "      <th>3</th>\n",
       "      <td>Ishtar</td>\n",
       "      <td>Com edy</td>\n",
       "      <td>VHS</td>\n",
       "      <td>None</td>\n",
       "      <td>PG</td>\n",
       "      <td>2</td>\n",
       "      <td>Viewable boredom</td>\n",
       "    </tr>\n",
       "  </tbody>\n",
       "</table>\n",
       "</div>"
      ],
      "text/plain": [
       "     movie_name              movie_type movie_format movie_year movie_rating  \\\n",
       "0  Enemy Behind           War, Thriller          DVD       2003           PG   \n",
       "1  Transformers  Anime, Science Fiction          DVD       1989            R   \n",
       "2        Trigun          Anim e, Action          DVD       None           PG   \n",
       "3        Ishtar                 Com edy          VHS       None           PG   \n",
       "\n",
       "  movie_stars          movie_description  \n",
       "0          10  Talk about a US-Japan war  \n",
       "1           8      A schientific fiction  \n",
       "2          10        Vash the Stam pede!  \n",
       "3           2          Viewable boredom   "
      ]
     },
     "execution_count": 23,
     "metadata": {},
     "output_type": "execute_result"
    }
   ],
   "source": [
    "df"
   ]
  },
  {
   "cell_type": "code",
   "execution_count": 39,
   "metadata": {},
   "outputs": [],
   "source": [
    "df.to_csv(\"scraped_movie_data.csv\", index = False)"
   ]
  },
  {
   "cell_type": "code",
   "execution_count": null,
   "metadata": {},
   "outputs": [],
   "source": []
  }
 ],
 "metadata": {
  "kernelspec": {
   "display_name": "Python 3",
   "language": "python",
   "name": "python3"
  },
  "language_info": {
   "codemirror_mode": {
    "name": "ipython",
    "version": 3
   },
   "file_extension": ".py",
   "mimetype": "text/x-python",
   "name": "python",
   "nbconvert_exporter": "python",
   "pygments_lexer": "ipython3",
   "version": "3.7.3"
  }
 },
 "nbformat": 4,
 "nbformat_minor": 2
}
