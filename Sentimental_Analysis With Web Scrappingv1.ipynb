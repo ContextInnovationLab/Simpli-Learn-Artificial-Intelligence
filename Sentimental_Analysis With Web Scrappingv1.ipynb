{
 "cells": [
  {
   "cell_type": "markdown",
   "metadata": {},
   "source": [
    "# Sentiment Analysis of \"The Lion King (2019)\" movie reviews"
   ]
  },
  {
   "cell_type": "markdown",
   "metadata": {},
   "source": [
    "## Web Scraping"
   ]
  },
  {
   "cell_type": "code",
   "execution_count": 8,
   "metadata": {},
   "outputs": [],
   "source": [
    "import requests\n",
    "import time\n",
    "import pandas as pd\n",
    "import json"
   ]
  },
  {
   "cell_type": "markdown",
   "metadata": {},
   "source": [
    "###### Connect to rottentomatoes.com and collect user reviews for movie Lion king(2019).\n",
    "\n",
    "#### Each session retrives 10 reviews. So run 300 iterations and have time gap of 5 seconds between each iteration. \n",
    "##### Save the result of each session as json file in 'reviews' folder. After the run completes we have 300 json files."
   ]
  },
  {
   "cell_type": "code",
   "execution_count": 9,
   "metadata": {},
   "outputs": [],
   "source": [
    "headers = {\n",
    "'Referer': 'https://www.rottentomatoes.com/m/the_lion_king_2019/reviews?type=user',\n",
    "'User-Agent': 'Mozilla/5.0 (Windows NT 10.0; Win64; x64) AppleWebKit/537.36 (KHTML, like Gecko) Chrome/74.0.3729.108 Safari/537.36',\n",
    "'X-Requested-With': 'XMLHttpRequest',\n",
    "}\n",
    "url = 'https://www.rottentomatoes.com/napi/movie/9057c2cf-7cab-317f-876f-e50b245ca76e/reviews/user'\n",
    "payload = {\n",
    "'direction': 'next',\n",
    "'endCursor': '',\n",
    "'startCursor': '',\n",
    "}\n",
    "s = requests.Session()"
   ]
  },
  {
   "cell_type": "code",
   "execution_count": null,
   "metadata": {},
   "outputs": [],
   "source": [
    "headers = {\n",
    "'Referer': 'https://www.rottentomatoes.com/m/the_lion_king_2019/reviews?type=user',\n",
    "'User-Agent': 'Mozilla/5.0 (Windows NT 10.0; Win64; x64) AppleWebKit/537.36 (KHTML, like Gecko) Chrome/74.0.3729.108 Safari/537.36',\n",
    "'X-Requested-With': 'XMLHttpRequest',\n",
    "}\n",
    "url = 'https://www.rottentomatoes.com/napi/movie/9057c2cf-7cab-317f-876f-e50b245ca76e/reviews/user'\n",
    "payload = {\n",
    "'direction': 'next',\n",
    "'endCursor': '',\n",
    "'startCursor': '',\n",
    "}\n",
    "s = requests.Session()\n",
    "i=1\n",
    "while i<=300:\n",
    "    r = s.get(url, headers=headers, params=payload)\n",
    "    data = r.json()\n",
    "    with open('reviews//review'+str(i)+'.json', 'w') as f:\n",
    "        json.dump(data['reviews'], f)\n",
    "    payload['endCursor'] = data['pageInfo']['endCursor']\n",
    "    payload['startCursor'] = data['pageInfo']['startCursor']\n",
    "    i+=1\n",
    "    time.sleep(5)"
   ]
  },
  {
   "cell_type": "markdown",
   "metadata": {},
   "source": [
    "# Combine json files to csv"
   ]
  },
  {
   "cell_type": "code",
   "execution_count": 1,
   "metadata": {},
   "outputs": [],
   "source": [
    "import json\n",
    "import os\n",
    "from glob import glob\n",
    "import pandas as pd"
   ]
  },
  {
   "cell_type": "code",
   "execution_count": 10,
   "metadata": {},
   "outputs": [],
   "source": [
    "pattern = os.path.join('reviews', '*.json')"
   ]
  },
  {
   "cell_type": "code",
   "execution_count": 11,
   "metadata": {},
   "outputs": [],
   "source": [
    "# This code combines reads all json files and writes the required features to a dataframe\n",
    "data = pd.DataFrame()\n",
    "for file_name in glob(pattern):\n",
    "    with open(file_name) as f:\n",
    "        json_data = json.load(f)\n",
    "        df = pd.DataFrame.from_dict(json_data, orient='columns')\n",
    "        user_data = pd.DataFrame()\n",
    "        for review in json_data:\n",
    "            user = pd.DataFrame([review['user']])\n",
    "            user_data = user_data.append(user, ignore_index=True)\n",
    "        df = pd.concat([df,user_data], axis=1)\n",
    "        data = data.append(df, ignore_index=True)"
   ]
  },
  {
   "cell_type": "code",
   "execution_count": 12,
   "metadata": {},
   "outputs": [
    {
     "data": {
      "text/html": [
       "<div>\n",
       "<style scoped>\n",
       "    .dataframe tbody tr th:only-of-type {\n",
       "        vertical-align: middle;\n",
       "    }\n",
       "\n",
       "    .dataframe tbody tr th {\n",
       "        vertical-align: top;\n",
       "    }\n",
       "\n",
       "    .dataframe thead th {\n",
       "        text-align: right;\n",
       "    }\n",
       "</style>\n",
       "<table border=\"1\" class=\"dataframe\">\n",
       "  <thead>\n",
       "    <tr style=\"text-align: right;\">\n",
       "      <th></th>\n",
       "      <th>createDate</th>\n",
       "      <th>displayImageUrl</th>\n",
       "      <th>displayName</th>\n",
       "      <th>hasProfanity</th>\n",
       "      <th>hasSpoilers</th>\n",
       "      <th>isSuperReviewer</th>\n",
       "      <th>isVerified</th>\n",
       "      <th>rating</th>\n",
       "      <th>review</th>\n",
       "      <th>score</th>\n",
       "      <th>timeFromCreation</th>\n",
       "      <th>updateDate</th>\n",
       "      <th>user</th>\n",
       "      <th>accountLink</th>\n",
       "      <th>displayName</th>\n",
       "      <th>realm</th>\n",
       "      <th>userId</th>\n",
       "    </tr>\n",
       "  </thead>\n",
       "  <tbody>\n",
       "    <tr>\n",
       "      <th>0</th>\n",
       "      <td>2019-09-01T15:09:28.356Z</td>\n",
       "      <td>None</td>\n",
       "      <td>LD</td>\n",
       "      <td>False</td>\n",
       "      <td>False</td>\n",
       "      <td>False</td>\n",
       "      <td>True</td>\n",
       "      <td>STAR_4</td>\n",
       "      <td>Pretty scenery and movie really tried to captu...</td>\n",
       "      <td>4.0</td>\n",
       "      <td>56m ago</td>\n",
       "      <td>2019-09-01T15:09:28.356Z</td>\n",
       "      <td>{'userId': '4126eeea-0101-4115-b1b1-4eb0913a07...</td>\n",
       "      <td>None</td>\n",
       "      <td>LD</td>\n",
       "      <td>Fandango</td>\n",
       "      <td>4126eeea-0101-4115-b1b1-4eb0913a071b</td>\n",
       "    </tr>\n",
       "    <tr>\n",
       "      <th>1</th>\n",
       "      <td>2019-09-01T15:03:09.678Z</td>\n",
       "      <td>None</td>\n",
       "      <td>Trisha</td>\n",
       "      <td>False</td>\n",
       "      <td>False</td>\n",
       "      <td>False</td>\n",
       "      <td>True</td>\n",
       "      <td>STAR_3</td>\n",
       "      <td>it did not have the snap crackle pop that the ...</td>\n",
       "      <td>3.0</td>\n",
       "      <td>1h ago</td>\n",
       "      <td>2019-09-01T15:03:09.678Z</td>\n",
       "      <td>{'userId': '1F4B543E-C7B2-434A-83D0-64B3250043...</td>\n",
       "      <td>None</td>\n",
       "      <td>Trisha</td>\n",
       "      <td>Fandango</td>\n",
       "      <td>1F4B543E-C7B2-434A-83D0-64B3250043E2</td>\n",
       "    </tr>\n",
       "    <tr>\n",
       "      <th>2</th>\n",
       "      <td>2019-09-01T14:42:12.088Z</td>\n",
       "      <td>None</td>\n",
       "      <td>Oscar G</td>\n",
       "      <td>False</td>\n",
       "      <td>False</td>\n",
       "      <td>False</td>\n",
       "      <td>False</td>\n",
       "      <td>STAR_3</td>\n",
       "      <td>The live-action movie was a nice attempt at re...</td>\n",
       "      <td>3.0</td>\n",
       "      <td>1h ago</td>\n",
       "      <td>2019-09-01T14:42:12.666Z</td>\n",
       "      <td>{'userId': '978220753', 'realm': 'RT', 'displa...</td>\n",
       "      <td>/user/id/978220753</td>\n",
       "      <td>Oscar G</td>\n",
       "      <td>RT</td>\n",
       "      <td>978220753</td>\n",
       "    </tr>\n",
       "    <tr>\n",
       "      <th>3</th>\n",
       "      <td>2019-09-01T12:58:19.986Z</td>\n",
       "      <td>None</td>\n",
       "      <td>None</td>\n",
       "      <td>False</td>\n",
       "      <td>False</td>\n",
       "      <td>False</td>\n",
       "      <td>False</td>\n",
       "      <td>STAR_4</td>\n",
       "      <td>go fmj. v v .knt mg mi n olmmrny mb s m mymhmr...</td>\n",
       "      <td>4.0</td>\n",
       "      <td>3h ago</td>\n",
       "      <td>2019-09-01T12:58:48.065Z</td>\n",
       "      <td>{'userId': '260317136', 'realm': 'RT', 'displa...</td>\n",
       "      <td>/user/id/260317136</td>\n",
       "      <td>None</td>\n",
       "      <td>RT</td>\n",
       "      <td>260317136</td>\n",
       "    </tr>\n",
       "    <tr>\n",
       "      <th>4</th>\n",
       "      <td>2019-09-01T11:17:27.650Z</td>\n",
       "      <td>None</td>\n",
       "      <td>Volker D</td>\n",
       "      <td>False</td>\n",
       "      <td>False</td>\n",
       "      <td>False</td>\n",
       "      <td>False</td>\n",
       "      <td>STAR_1_5</td>\n",
       "      <td>It´s like a cover of your favorite song, by th...</td>\n",
       "      <td>1.5</td>\n",
       "      <td>5h ago</td>\n",
       "      <td>2019-09-01T11:28:39.020Z</td>\n",
       "      <td>{'userId': '978220514', 'realm': 'RT', 'displa...</td>\n",
       "      <td>/user/id/978220514</td>\n",
       "      <td>Volker D</td>\n",
       "      <td>RT</td>\n",
       "      <td>978220514</td>\n",
       "    </tr>\n",
       "  </tbody>\n",
       "</table>\n",
       "</div>"
      ],
      "text/plain": [
       "                 createDate displayImageUrl displayName  hasProfanity  \\\n",
       "0  2019-09-01T15:09:28.356Z            None          LD         False   \n",
       "1  2019-09-01T15:03:09.678Z            None      Trisha         False   \n",
       "2  2019-09-01T14:42:12.088Z            None     Oscar G         False   \n",
       "3  2019-09-01T12:58:19.986Z            None        None         False   \n",
       "4  2019-09-01T11:17:27.650Z            None    Volker D         False   \n",
       "\n",
       "   hasSpoilers  isSuperReviewer  isVerified    rating  \\\n",
       "0        False            False        True    STAR_4   \n",
       "1        False            False        True    STAR_3   \n",
       "2        False            False       False    STAR_3   \n",
       "3        False            False       False    STAR_4   \n",
       "4        False            False       False  STAR_1_5   \n",
       "\n",
       "                                              review  score timeFromCreation  \\\n",
       "0  Pretty scenery and movie really tried to captu...    4.0          56m ago   \n",
       "1  it did not have the snap crackle pop that the ...    3.0           1h ago   \n",
       "2  The live-action movie was a nice attempt at re...    3.0           1h ago   \n",
       "3  go fmj. v v .knt mg mi n olmmrny mb s m mymhmr...    4.0           3h ago   \n",
       "4  It´s like a cover of your favorite song, by th...    1.5           5h ago   \n",
       "\n",
       "                 updateDate  \\\n",
       "0  2019-09-01T15:09:28.356Z   \n",
       "1  2019-09-01T15:03:09.678Z   \n",
       "2  2019-09-01T14:42:12.666Z   \n",
       "3  2019-09-01T12:58:48.065Z   \n",
       "4  2019-09-01T11:28:39.020Z   \n",
       "\n",
       "                                                user         accountLink  \\\n",
       "0  {'userId': '4126eeea-0101-4115-b1b1-4eb0913a07...                None   \n",
       "1  {'userId': '1F4B543E-C7B2-434A-83D0-64B3250043...                None   \n",
       "2  {'userId': '978220753', 'realm': 'RT', 'displa...  /user/id/978220753   \n",
       "3  {'userId': '260317136', 'realm': 'RT', 'displa...  /user/id/260317136   \n",
       "4  {'userId': '978220514', 'realm': 'RT', 'displa...  /user/id/978220514   \n",
       "\n",
       "  displayName     realm                                userId  \n",
       "0          LD  Fandango  4126eeea-0101-4115-b1b1-4eb0913a071b  \n",
       "1      Trisha  Fandango  1F4B543E-C7B2-434A-83D0-64B3250043E2  \n",
       "2     Oscar G        RT                             978220753  \n",
       "3        None        RT                             260317136  \n",
       "4    Volker D        RT                             978220514  "
      ]
     },
     "execution_count": 12,
     "metadata": {},
     "output_type": "execute_result"
    }
   ],
   "source": [
    "data.head()"
   ]
  },
  {
   "cell_type": "code",
   "execution_count": 13,
   "metadata": {},
   "outputs": [],
   "source": [
    "data.drop('user', axis=1, inplace=True)"
   ]
  },
  {
   "cell_type": "code",
   "execution_count": 14,
   "metadata": {},
   "outputs": [],
   "source": [
    "# write the collected review data to a csv file, that can be loaded later for training\n",
    "pd.DataFrame(data).to_csv(\"train_data.csv\")"
   ]
  },
  {
   "cell_type": "code",
   "execution_count": null,
   "metadata": {},
   "outputs": [],
   "source": []
  }
 ],
 "metadata": {
  "kernelspec": {
   "display_name": "Python 3",
   "language": "python",
   "name": "python3"
  },
  "language_info": {
   "codemirror_mode": {
    "name": "ipython",
    "version": 3
   },
   "file_extension": ".py",
   "mimetype": "text/x-python",
   "name": "python",
   "nbconvert_exporter": "python",
   "pygments_lexer": "ipython3",
   "version": "3.7.3"
  }
 },
 "nbformat": 4,
 "nbformat_minor": 2
}
