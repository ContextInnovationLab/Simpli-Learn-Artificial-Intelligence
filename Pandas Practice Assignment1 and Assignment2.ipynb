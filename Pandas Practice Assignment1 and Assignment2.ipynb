{
 "cells": [
  {
   "cell_type": "code",
   "execution_count": 1,
   "metadata": {},
   "outputs": [],
   "source": [
    "import numpy as np \n",
    "import pandas as pd"
   ]
  },
  {
   "cell_type": "code",
   "execution_count": 3,
   "metadata": {},
   "outputs": [],
   "source": [
    "first_series = pd.Series(list('abcdef'))"
   ]
  },
  {
   "cell_type": "code",
   "execution_count": 4,
   "metadata": {},
   "outputs": [
    {
     "name": "stdout",
     "output_type": "stream",
     "text": [
      "0    a\n",
      "1    b\n",
      "2    c\n",
      "3    d\n",
      "4    e\n",
      "5    f\n",
      "dtype: object\n"
     ]
    }
   ],
   "source": [
    "print(first_series)"
   ]
  },
  {
   "cell_type": "code",
   "execution_count": 5,
   "metadata": {},
   "outputs": [],
   "source": [
    "np_country = np.array(['Luxemborg','Norway','Japan','Switzerland','United States ','Qatar','Iceland','Sweden','Singapore','Denmark'])"
   ]
  },
  {
   "cell_type": "code",
   "execution_count": 6,
   "metadata": {},
   "outputs": [],
   "source": [
    "s_country = pd.Series(np_country )"
   ]
  },
  {
   "cell_type": "code",
   "execution_count": 7,
   "metadata": {},
   "outputs": [
    {
     "name": "stdout",
     "output_type": "stream",
     "text": [
      "0         Luxemborg\n",
      "1            Norway\n",
      "2             Japan\n",
      "3       Switzerland\n",
      "4    United States \n",
      "5             Qatar\n",
      "6           Iceland\n",
      "7            Sweden\n",
      "8         Singapore\n",
      "9           Denmark\n",
      "dtype: object\n"
     ]
    }
   ],
   "source": [
    "print(s_country)"
   ]
  },
  {
   "cell_type": "markdown",
   "metadata": {},
   "source": [
    "# Create Series form dict"
   ]
  },
  {
   "cell_type": "code",
   "execution_count": 8,
   "metadata": {},
   "outputs": [],
   "source": [
    "dict_country_gdp = pd.Series([52056.01781,40258.80863,40034.85063,39578.07441,39170.41371,37958.23146,37691.02733,36152.666,34706.19047,33630.24604,33529.83052,30860.12802],index=['Luxemborg','Macao','China','Norway','Japan','Switzerland','United States ','Qatar','Iceland','Sweden','Singapore','Denmark'] )"
   ]
  },
  {
   "cell_type": "code",
   "execution_count": 9,
   "metadata": {},
   "outputs": [
    {
     "name": "stdout",
     "output_type": "stream",
     "text": [
      "Luxemborg         52056.01781\n",
      "Macao             40258.80863\n",
      "China             40034.85063\n",
      "Norway            39578.07441\n",
      "Japan             39170.41371\n",
      "Switzerland       37958.23146\n",
      "United States     37691.02733\n",
      "Qatar             36152.66600\n",
      "Iceland           34706.19047\n",
      "Sweden            33630.24604\n",
      "Singapore         33529.83052\n",
      "Denmark           30860.12802\n",
      "dtype: float64\n"
     ]
    }
   ],
   "source": [
    "print(dict_country_gdp)"
   ]
  },
  {
   "cell_type": "markdown",
   "metadata": {},
   "source": [
    "# Create Series form scalar"
   ]
  },
  {
   "cell_type": "code",
   "execution_count": 10,
   "metadata": {},
   "outputs": [],
   "source": [
    "scalar_series = pd.Series(5.,index = ['a','b','c','d','e'])"
   ]
  },
  {
   "cell_type": "code",
   "execution_count": 11,
   "metadata": {},
   "outputs": [
    {
     "data": {
      "text/plain": [
       "a    5.0\n",
       "b    5.0\n",
       "c    5.0\n",
       "d    5.0\n",
       "e    5.0\n",
       "dtype: float64"
      ]
     },
     "execution_count": 11,
     "metadata": {},
     "output_type": "execute_result"
    }
   ],
   "source": [
    "scalar_series"
   ]
  },
  {
   "cell_type": "markdown",
   "metadata": {},
   "source": [
    "# Accessing Elements in Series "
   ]
  },
  {
   "cell_type": "code",
   "execution_count": 12,
   "metadata": {},
   "outputs": [
    {
     "data": {
      "text/plain": [
       "52056.01781"
      ]
     },
     "execution_count": 12,
     "metadata": {},
     "output_type": "execute_result"
    }
   ],
   "source": [
    "dict_country_gdp[0]"
   ]
  },
  {
   "cell_type": "code",
   "execution_count": 13,
   "metadata": {},
   "outputs": [
    {
     "data": {
      "text/plain": [
       "Luxemborg    52056.01781\n",
       "Macao        40258.80863\n",
       "China        40034.85063\n",
       "Norway       39578.07441\n",
       "Japan        39170.41371\n",
       "dtype: float64"
      ]
     },
     "execution_count": 13,
     "metadata": {},
     "output_type": "execute_result"
    }
   ],
   "source": [
    "dict_country_gdp[0:5]"
   ]
  },
  {
   "cell_type": "code",
   "execution_count": 14,
   "metadata": {},
   "outputs": [
    {
     "data": {
      "text/plain": [
       "39578.07441"
      ]
     },
     "execution_count": 14,
     "metadata": {},
     "output_type": "execute_result"
    }
   ],
   "source": [
    "dict_country_gdp.loc['Norway']"
   ]
  },
  {
   "cell_type": "code",
   "execution_count": 15,
   "metadata": {},
   "outputs": [
    {
     "data": {
      "text/plain": [
       "52056.01781"
      ]
     },
     "execution_count": 15,
     "metadata": {},
     "output_type": "execute_result"
    }
   ],
   "source": [
    "dict_country_gdp.iloc[0]"
   ]
  },
  {
   "cell_type": "markdown",
   "metadata": {},
   "source": [
    "# Vectorized Operations in Series "
   ]
  },
  {
   "cell_type": "code",
   "execution_count": 16,
   "metadata": {},
   "outputs": [],
   "source": [
    "v1 = pd.Series ([1,2,3,4],index = ['a','b','c','d'])\n",
    "v2 = pd.Series([10,20,30,40],index = ['a','b','c','d'])\n",
    "v3 = v1+v2"
   ]
  },
  {
   "cell_type": "code",
   "execution_count": 17,
   "metadata": {},
   "outputs": [
    {
     "data": {
      "text/plain": [
       "a    11\n",
       "b    22\n",
       "c    33\n",
       "d    44\n",
       "dtype: int64"
      ]
     },
     "execution_count": 17,
     "metadata": {},
     "output_type": "execute_result"
    }
   ],
   "source": [
    "v3"
   ]
  },
  {
   "cell_type": "code",
   "execution_count": 18,
   "metadata": {},
   "outputs": [],
   "source": [
    "v1 = pd.Series ([10,20,30,40],index = ['a','b','c','d'])"
   ]
  },
  {
   "cell_type": "code",
   "execution_count": 19,
   "metadata": {},
   "outputs": [
    {
     "data": {
      "text/plain": [
       "a    20\n",
       "b    40\n",
       "c    60\n",
       "d    80\n",
       "dtype: int64"
      ]
     },
     "execution_count": 19,
     "metadata": {},
     "output_type": "execute_result"
    }
   ],
   "source": [
    "v1+v2"
   ]
  },
  {
   "cell_type": "code",
   "execution_count": 20,
   "metadata": {},
   "outputs": [],
   "source": [
    "v2 = pd.Series([10,20,30,40],index = ['a','b','e','f'])"
   ]
  },
  {
   "cell_type": "code",
   "execution_count": 21,
   "metadata": {},
   "outputs": [
    {
     "data": {
      "text/plain": [
       "a    20.0\n",
       "b    40.0\n",
       "c     NaN\n",
       "d     NaN\n",
       "e     NaN\n",
       "f     NaN\n",
       "dtype: float64"
      ]
     },
     "execution_count": 21,
     "metadata": {},
     "output_type": "execute_result"
    }
   ],
   "source": [
    "v1+v2"
   ]
  },
  {
   "cell_type": "markdown",
   "metadata": {},
   "source": [
    "# Data Frame "
   ]
  },
  {
   "cell_type": "markdown",
   "metadata": {},
   "source": [
    "# Create Data Frame From Lists"
   ]
  },
  {
   "cell_type": "code",
   "execution_count": 22,
   "metadata": {},
   "outputs": [],
   "source": [
    "import pandas as pd \n",
    "Olympic_data_set ={ 'HostCity':['London','Beijing','Athens','Sydeny','Atlanta'],\n",
    "                 'Year' :[2012,2008,2004,2000,1996],\n",
    "                 'No_Of_Particpating_Countries':[205,204,201,200,197]\n",
    "                 }"
   ]
  },
  {
   "cell_type": "code",
   "execution_count": 23,
   "metadata": {},
   "outputs": [],
   "source": [
    "df_olympic = pd.DataFrame(Olympic_data_set)"
   ]
  },
  {
   "cell_type": "code",
   "execution_count": 24,
   "metadata": {},
   "outputs": [
    {
     "name": "stdout",
     "output_type": "stream",
     "text": [
      "  HostCity  Year  No_Of_Particpating_Countries\n",
      "0   London  2012                           205\n",
      "1  Beijing  2008                           204\n",
      "2   Athens  2004                           201\n",
      "3   Sydeny  2000                           200\n",
      "4  Atlanta  1996                           197\n"
     ]
    }
   ],
   "source": [
    "print(df_olympic)"
   ]
  },
  {
   "cell_type": "code",
   "execution_count": 25,
   "metadata": {},
   "outputs": [
    {
     "data": {
      "text/html": [
       "<div>\n",
       "<style scoped>\n",
       "    .dataframe tbody tr th:only-of-type {\n",
       "        vertical-align: middle;\n",
       "    }\n",
       "\n",
       "    .dataframe tbody tr th {\n",
       "        vertical-align: top;\n",
       "    }\n",
       "\n",
       "    .dataframe thead th {\n",
       "        text-align: right;\n",
       "    }\n",
       "</style>\n",
       "<table border=\"1\" class=\"dataframe\">\n",
       "  <thead>\n",
       "    <tr style=\"text-align: right;\">\n",
       "      <th></th>\n",
       "      <th>HostCity</th>\n",
       "      <th>Year</th>\n",
       "      <th>No_Of_Particpating_Countries</th>\n",
       "    </tr>\n",
       "  </thead>\n",
       "  <tbody>\n",
       "    <tr>\n",
       "      <th>0</th>\n",
       "      <td>London</td>\n",
       "      <td>2012</td>\n",
       "      <td>205</td>\n",
       "    </tr>\n",
       "    <tr>\n",
       "      <th>1</th>\n",
       "      <td>Beijing</td>\n",
       "      <td>2008</td>\n",
       "      <td>204</td>\n",
       "    </tr>\n",
       "    <tr>\n",
       "      <th>2</th>\n",
       "      <td>Athens</td>\n",
       "      <td>2004</td>\n",
       "      <td>201</td>\n",
       "    </tr>\n",
       "    <tr>\n",
       "      <th>3</th>\n",
       "      <td>Sydeny</td>\n",
       "      <td>2000</td>\n",
       "      <td>200</td>\n",
       "    </tr>\n",
       "    <tr>\n",
       "      <th>4</th>\n",
       "      <td>Atlanta</td>\n",
       "      <td>1996</td>\n",
       "      <td>197</td>\n",
       "    </tr>\n",
       "  </tbody>\n",
       "</table>\n",
       "</div>"
      ],
      "text/plain": [
       "  HostCity  Year  No_Of_Particpating_Countries\n",
       "0   London  2012                           205\n",
       "1  Beijing  2008                           204\n",
       "2   Athens  2004                           201\n",
       "3   Sydeny  2000                           200\n",
       "4  Atlanta  1996                           197"
      ]
     },
     "execution_count": 25,
     "metadata": {},
     "output_type": "execute_result"
    }
   ],
   "source": [
    "df_olympic"
   ]
  },
  {
   "cell_type": "markdown",
   "metadata": {},
   "source": [
    "# Create Data Frame Dict of Dictinaries "
   ]
  },
  {
   "cell_type": "code",
   "execution_count": 26,
   "metadata": {},
   "outputs": [],
   "source": [
    "olympic_data_dict = { 'London':{2012:205},'Beijing':{2008:204}}"
   ]
  },
  {
   "cell_type": "code",
   "execution_count": 27,
   "metadata": {},
   "outputs": [],
   "source": [
    "df_olympic_data_dict = pd.DataFrame(olympic_data_dict)"
   ]
  },
  {
   "cell_type": "code",
   "execution_count": 28,
   "metadata": {},
   "outputs": [
    {
     "data": {
      "text/html": [
       "<div>\n",
       "<style scoped>\n",
       "    .dataframe tbody tr th:only-of-type {\n",
       "        vertical-align: middle;\n",
       "    }\n",
       "\n",
       "    .dataframe tbody tr th {\n",
       "        vertical-align: top;\n",
       "    }\n",
       "\n",
       "    .dataframe thead th {\n",
       "        text-align: right;\n",
       "    }\n",
       "</style>\n",
       "<table border=\"1\" class=\"dataframe\">\n",
       "  <thead>\n",
       "    <tr style=\"text-align: right;\">\n",
       "      <th></th>\n",
       "      <th>London</th>\n",
       "      <th>Beijing</th>\n",
       "    </tr>\n",
       "  </thead>\n",
       "  <tbody>\n",
       "    <tr>\n",
       "      <th>2008</th>\n",
       "      <td>NaN</td>\n",
       "      <td>204.0</td>\n",
       "    </tr>\n",
       "    <tr>\n",
       "      <th>2012</th>\n",
       "      <td>205.0</td>\n",
       "      <td>NaN</td>\n",
       "    </tr>\n",
       "  </tbody>\n",
       "</table>\n",
       "</div>"
      ],
      "text/plain": [
       "      London  Beijing\n",
       "2008     NaN    204.0\n",
       "2012   205.0      NaN"
      ]
     },
     "execution_count": 28,
     "metadata": {},
     "output_type": "execute_result"
    }
   ],
   "source": [
    "df_olympic_data_dict"
   ]
  },
  {
   "cell_type": "markdown",
   "metadata": {},
   "source": [
    "# View Data Frame "
   ]
  },
  {
   "cell_type": "code",
   "execution_count": 29,
   "metadata": {},
   "outputs": [
    {
     "data": {
      "text/plain": [
       "0     London\n",
       "1    Beijing\n",
       "2     Athens\n",
       "3     Sydeny\n",
       "4    Atlanta\n",
       "Name: HostCity, dtype: object"
      ]
     },
     "execution_count": 29,
     "metadata": {},
     "output_type": "execute_result"
    }
   ],
   "source": [
    "df_olympic.HostCity"
   ]
  },
  {
   "cell_type": "code",
   "execution_count": 30,
   "metadata": {},
   "outputs": [
    {
     "data": {
      "text/plain": [
       "<bound method NDFrame.describe of   HostCity  Year  No_Of_Particpating_Countries\n",
       "0   London  2012                           205\n",
       "1  Beijing  2008                           204\n",
       "2   Athens  2004                           201\n",
       "3   Sydeny  2000                           200\n",
       "4  Atlanta  1996                           197>"
      ]
     },
     "execution_count": 30,
     "metadata": {},
     "output_type": "execute_result"
    }
   ],
   "source": [
    "df_olympic.describe"
   ]
  },
  {
   "cell_type": "code",
   "execution_count": 31,
   "metadata": {},
   "outputs": [
    {
     "data": {
      "text/plain": [
       "0    2012\n",
       "1    2008\n",
       "2    2004\n",
       "3    2000\n",
       "4    1996\n",
       "Name: Year, dtype: int64"
      ]
     },
     "execution_count": 31,
     "metadata": {},
     "output_type": "execute_result"
    }
   ],
   "source": [
    "df_olympic.Year"
   ]
  },
  {
   "cell_type": "code",
   "execution_count": 32,
   "metadata": {},
   "outputs": [
    {
     "data": {
      "text/plain": [
       "0    205\n",
       "1    204\n",
       "2    201\n",
       "3    200\n",
       "4    197\n",
       "Name: No_Of_Particpating_Countries, dtype: int64"
      ]
     },
     "execution_count": 32,
     "metadata": {},
     "output_type": "execute_result"
    }
   ],
   "source": [
    "df_olympic.No_Of_Particpating_Countries"
   ]
  },
  {
   "cell_type": "markdown",
   "metadata": {},
   "source": [
    "# Creat Data Frame From the dict of Series"
   ]
  },
  {
   "cell_type": "code",
   "execution_count": 33,
   "metadata": {},
   "outputs": [],
   "source": [
    "osp = pd.Series([205,204,201,200,197],index=[2012,2008,2004,2000,1996])\n",
    "osc = pd.Series(['London','Beijing','Athens','Sydney','Atlanta'],index = [2012,2008,2004,2000, 1996])\n"
   ]
  },
  {
   "cell_type": "code",
   "execution_count": 34,
   "metadata": {},
   "outputs": [],
   "source": [
    "df_os = pd.DataFrame({'Countries':osp,'HostCities':osc})"
   ]
  },
  {
   "cell_type": "code",
   "execution_count": 35,
   "metadata": {},
   "outputs": [
    {
     "data": {
      "text/html": [
       "<div>\n",
       "<style scoped>\n",
       "    .dataframe tbody tr th:only-of-type {\n",
       "        vertical-align: middle;\n",
       "    }\n",
       "\n",
       "    .dataframe tbody tr th {\n",
       "        vertical-align: top;\n",
       "    }\n",
       "\n",
       "    .dataframe thead th {\n",
       "        text-align: right;\n",
       "    }\n",
       "</style>\n",
       "<table border=\"1\" class=\"dataframe\">\n",
       "  <thead>\n",
       "    <tr style=\"text-align: right;\">\n",
       "      <th></th>\n",
       "      <th>Countries</th>\n",
       "      <th>HostCities</th>\n",
       "    </tr>\n",
       "  </thead>\n",
       "  <tbody>\n",
       "    <tr>\n",
       "      <th>2012</th>\n",
       "      <td>205</td>\n",
       "      <td>London</td>\n",
       "    </tr>\n",
       "    <tr>\n",
       "      <th>2008</th>\n",
       "      <td>204</td>\n",
       "      <td>Beijing</td>\n",
       "    </tr>\n",
       "    <tr>\n",
       "      <th>2004</th>\n",
       "      <td>201</td>\n",
       "      <td>Athens</td>\n",
       "    </tr>\n",
       "    <tr>\n",
       "      <th>2000</th>\n",
       "      <td>200</td>\n",
       "      <td>Sydney</td>\n",
       "    </tr>\n",
       "    <tr>\n",
       "      <th>1996</th>\n",
       "      <td>197</td>\n",
       "      <td>Atlanta</td>\n",
       "    </tr>\n",
       "  </tbody>\n",
       "</table>\n",
       "</div>"
      ],
      "text/plain": [
       "      Countries HostCities\n",
       "2012        205     London\n",
       "2008        204    Beijing\n",
       "2004        201     Athens\n",
       "2000        200     Sydney\n",
       "1996        197    Atlanta"
      ]
     },
     "execution_count": 35,
     "metadata": {},
     "output_type": "execute_result"
    }
   ],
   "source": [
    "df_os"
   ]
  },
  {
   "cell_type": "code",
   "execution_count": 36,
   "metadata": {},
   "outputs": [
    {
     "data": {
      "text/plain": [
       "<bound method NDFrame.describe of       Countries HostCities\n",
       "2012        205     London\n",
       "2008        204    Beijing\n",
       "2004        201     Athens\n",
       "2000        200     Sydney\n",
       "1996        197    Atlanta>"
      ]
     },
     "execution_count": 36,
     "metadata": {},
     "output_type": "execute_result"
    }
   ],
   "source": [
    "df_os.describe"
   ]
  },
  {
   "cell_type": "code",
   "execution_count": 37,
   "metadata": {},
   "outputs": [
    {
     "data": {
      "text/html": [
       "<div>\n",
       "<style scoped>\n",
       "    .dataframe tbody tr th:only-of-type {\n",
       "        vertical-align: middle;\n",
       "    }\n",
       "\n",
       "    .dataframe tbody tr th {\n",
       "        vertical-align: top;\n",
       "    }\n",
       "\n",
       "    .dataframe thead th {\n",
       "        text-align: right;\n",
       "    }\n",
       "</style>\n",
       "<table border=\"1\" class=\"dataframe\">\n",
       "  <thead>\n",
       "    <tr style=\"text-align: right;\">\n",
       "      <th></th>\n",
       "      <th>Countries</th>\n",
       "      <th>HostCities</th>\n",
       "    </tr>\n",
       "  </thead>\n",
       "  <tbody>\n",
       "    <tr>\n",
       "      <th>2012</th>\n",
       "      <td>205</td>\n",
       "      <td>London</td>\n",
       "    </tr>\n",
       "    <tr>\n",
       "      <th>2008</th>\n",
       "      <td>204</td>\n",
       "      <td>Beijing</td>\n",
       "    </tr>\n",
       "  </tbody>\n",
       "</table>\n",
       "</div>"
      ],
      "text/plain": [
       "      Countries HostCities\n",
       "2012        205     London\n",
       "2008        204    Beijing"
      ]
     },
     "execution_count": 37,
     "metadata": {},
     "output_type": "execute_result"
    }
   ],
   "source": [
    "df_os.head(2)"
   ]
  },
  {
   "cell_type": "code",
   "execution_count": 38,
   "metadata": {},
   "outputs": [
    {
     "data": {
      "text/html": [
       "<div>\n",
       "<style scoped>\n",
       "    .dataframe tbody tr th:only-of-type {\n",
       "        vertical-align: middle;\n",
       "    }\n",
       "\n",
       "    .dataframe tbody tr th {\n",
       "        vertical-align: top;\n",
       "    }\n",
       "\n",
       "    .dataframe thead th {\n",
       "        text-align: right;\n",
       "    }\n",
       "</style>\n",
       "<table border=\"1\" class=\"dataframe\">\n",
       "  <thead>\n",
       "    <tr style=\"text-align: right;\">\n",
       "      <th></th>\n",
       "      <th>Countries</th>\n",
       "      <th>HostCities</th>\n",
       "    </tr>\n",
       "  </thead>\n",
       "  <tbody>\n",
       "    <tr>\n",
       "      <th>2004</th>\n",
       "      <td>201</td>\n",
       "      <td>Athens</td>\n",
       "    </tr>\n",
       "    <tr>\n",
       "      <th>2000</th>\n",
       "      <td>200</td>\n",
       "      <td>Sydney</td>\n",
       "    </tr>\n",
       "    <tr>\n",
       "      <th>1996</th>\n",
       "      <td>197</td>\n",
       "      <td>Atlanta</td>\n",
       "    </tr>\n",
       "  </tbody>\n",
       "</table>\n",
       "</div>"
      ],
      "text/plain": [
       "      Countries HostCities\n",
       "2004        201     Athens\n",
       "2000        200     Sydney\n",
       "1996        197    Atlanta"
      ]
     },
     "execution_count": 38,
     "metadata": {},
     "output_type": "execute_result"
    }
   ],
   "source": [
    "df_os.tail(3)"
   ]
  },
  {
   "cell_type": "code",
   "execution_count": 39,
   "metadata": {},
   "outputs": [
    {
     "data": {
      "text/plain": [
       "Int64Index([2012, 2008, 2004, 2000, 1996], dtype='int64')"
      ]
     },
     "execution_count": 39,
     "metadata": {},
     "output_type": "execute_result"
    }
   ],
   "source": [
    "df_os.index"
   ]
  },
  {
   "cell_type": "code",
   "execution_count": 40,
   "metadata": {},
   "outputs": [
    {
     "data": {
      "text/plain": [
       "Index(['Countries', 'HostCities'], dtype='object')"
      ]
     },
     "execution_count": 40,
     "metadata": {},
     "output_type": "execute_result"
    }
   ],
   "source": [
    "df_os.columns"
   ]
  },
  {
   "cell_type": "code",
   "execution_count": 42,
   "metadata": {},
   "outputs": [
    {
     "data": {
      "text/plain": [
       "2012     London\n",
       "2008    Beijing\n",
       "2004     Athens\n",
       "2000     Sydney\n",
       "1996    Atlanta\n",
       "Name: HostCities, dtype: object"
      ]
     },
     "execution_count": 42,
     "metadata": {},
     "output_type": "execute_result"
    }
   ],
   "source": [
    "df_os['HostCities']"
   ]
  },
  {
   "cell_type": "code",
   "execution_count": 43,
   "metadata": {},
   "outputs": [
    {
     "data": {
      "text/plain": [
       "2012    205\n",
       "2008    204\n",
       "2004    201\n",
       "2000    200\n",
       "1996    197\n",
       "Name: Countries, dtype: int64"
      ]
     },
     "execution_count": 43,
     "metadata": {},
     "output_type": "execute_result"
    }
   ],
   "source": [
    "df_os['Countries']"
   ]
  },
  {
   "cell_type": "code",
   "execution_count": 46,
   "metadata": {},
   "outputs": [
    {
     "name": "stdout",
     "output_type": "stream",
     "text": [
      "0 205\n",
      "1 204\n",
      "2 201\n",
      "3 200\n",
      "4 197\n"
     ]
    }
   ],
   "source": [
    "for i1,i2 in enumerate(df_os['Countries']) :\n",
    "    print(i1,i2)\n",
    "    "
   ]
  },
  {
   "cell_type": "code",
   "execution_count": 47,
   "metadata": {},
   "outputs": [
    {
     "data": {
      "text/plain": [
       "Countries        205\n",
       "HostCities    London\n",
       "Name: 2012, dtype: object"
      ]
     },
     "execution_count": 47,
     "metadata": {},
     "output_type": "execute_result"
    }
   ],
   "source": [
    "df_os.loc[2012]"
   ]
  },
  {
   "cell_type": "code",
   "execution_count": 48,
   "metadata": {},
   "outputs": [
    {
     "data": {
      "text/html": [
       "<div>\n",
       "<style scoped>\n",
       "    .dataframe tbody tr th:only-of-type {\n",
       "        vertical-align: middle;\n",
       "    }\n",
       "\n",
       "    .dataframe tbody tr th {\n",
       "        vertical-align: top;\n",
       "    }\n",
       "\n",
       "    .dataframe thead th {\n",
       "        text-align: right;\n",
       "    }\n",
       "</style>\n",
       "<table border=\"1\" class=\"dataframe\">\n",
       "  <thead>\n",
       "    <tr style=\"text-align: right;\">\n",
       "      <th></th>\n",
       "      <th>Countries</th>\n",
       "      <th>HostCities</th>\n",
       "    </tr>\n",
       "  </thead>\n",
       "  <tbody>\n",
       "    <tr>\n",
       "      <th>2012</th>\n",
       "      <td>205</td>\n",
       "      <td>London</td>\n",
       "    </tr>\n",
       "    <tr>\n",
       "      <th>2008</th>\n",
       "      <td>204</td>\n",
       "      <td>Beijing</td>\n",
       "    </tr>\n",
       "  </tbody>\n",
       "</table>\n",
       "</div>"
      ],
      "text/plain": [
       "      Countries HostCities\n",
       "2012        205     London\n",
       "2008        204    Beijing"
      ]
     },
     "execution_count": 48,
     "metadata": {},
     "output_type": "execute_result"
    }
   ],
   "source": [
    "df_os.iloc[0:2]"
   ]
  },
  {
   "cell_type": "code",
   "execution_count": 49,
   "metadata": {},
   "outputs": [
    {
     "data": {
      "text/plain": [
       "'Sydney'"
      ]
     },
     "execution_count": 49,
     "metadata": {},
     "output_type": "execute_result"
    }
   ],
   "source": [
    "df_os.iat[3,1]"
   ]
  },
  {
   "cell_type": "code",
   "execution_count": 51,
   "metadata": {},
   "outputs": [
    {
     "data": {
      "text/html": [
       "<div>\n",
       "<style scoped>\n",
       "    .dataframe tbody tr th:only-of-type {\n",
       "        vertical-align: middle;\n",
       "    }\n",
       "\n",
       "    .dataframe tbody tr th {\n",
       "        vertical-align: top;\n",
       "    }\n",
       "\n",
       "    .dataframe thead th {\n",
       "        text-align: right;\n",
       "    }\n",
       "</style>\n",
       "<table border=\"1\" class=\"dataframe\">\n",
       "  <thead>\n",
       "    <tr style=\"text-align: right;\">\n",
       "      <th></th>\n",
       "      <th>Countries</th>\n",
       "      <th>HostCities</th>\n",
       "    </tr>\n",
       "  </thead>\n",
       "  <tbody>\n",
       "    <tr>\n",
       "      <th>2012</th>\n",
       "      <td>205</td>\n",
       "      <td>London</td>\n",
       "    </tr>\n",
       "    <tr>\n",
       "      <th>2008</th>\n",
       "      <td>204</td>\n",
       "      <td>Beijing</td>\n",
       "    </tr>\n",
       "    <tr>\n",
       "      <th>2004</th>\n",
       "      <td>201</td>\n",
       "      <td>Athens</td>\n",
       "    </tr>\n",
       "  </tbody>\n",
       "</table>\n",
       "</div>"
      ],
      "text/plain": [
       "      Countries HostCities\n",
       "2012        205     London\n",
       "2008        204    Beijing\n",
       "2004        201     Athens"
      ]
     },
     "execution_count": 51,
     "metadata": {},
     "output_type": "execute_result"
    }
   ],
   "source": [
    "df_os[df_os['Countries']>200]"
   ]
  },
  {
   "cell_type": "code",
   "execution_count": null,
   "metadata": {},
   "outputs": [],
   "source": []
  },
  {
   "cell_type": "markdown",
   "metadata": {},
   "source": [
    "# Create Data Frame from ndarray"
   ]
  },
  {
   "cell_type": "code",
   "execution_count": 86,
   "metadata": {},
   "outputs": [],
   "source": [
    "import numpy as np"
   ]
  },
  {
   "cell_type": "code",
   "execution_count": 87,
   "metadata": {},
   "outputs": [],
   "source": [
    "np_array = np.array([2012,2008,2004,2006])\n",
    "dict_ndarray = { 'year':np_array}\n",
    "df_ndarray = pd.DataFrame(dict_ndarray)"
   ]
  },
  {
   "cell_type": "code",
   "execution_count": 88,
   "metadata": {},
   "outputs": [
    {
     "data": {
      "text/html": [
       "<div>\n",
       "<style scoped>\n",
       "    .dataframe tbody tr th:only-of-type {\n",
       "        vertical-align: middle;\n",
       "    }\n",
       "\n",
       "    .dataframe tbody tr th {\n",
       "        vertical-align: top;\n",
       "    }\n",
       "\n",
       "    .dataframe thead th {\n",
       "        text-align: right;\n",
       "    }\n",
       "</style>\n",
       "<table border=\"1\" class=\"dataframe\">\n",
       "  <thead>\n",
       "    <tr style=\"text-align: right;\">\n",
       "      <th></th>\n",
       "      <th>year</th>\n",
       "    </tr>\n",
       "  </thead>\n",
       "  <tbody>\n",
       "    <tr>\n",
       "      <th>0</th>\n",
       "      <td>2012</td>\n",
       "    </tr>\n",
       "    <tr>\n",
       "      <th>1</th>\n",
       "      <td>2008</td>\n",
       "    </tr>\n",
       "    <tr>\n",
       "      <th>2</th>\n",
       "      <td>2004</td>\n",
       "    </tr>\n",
       "    <tr>\n",
       "      <th>3</th>\n",
       "      <td>2006</td>\n",
       "    </tr>\n",
       "  </tbody>\n",
       "</table>\n",
       "</div>"
      ],
      "text/plain": [
       "   year\n",
       "0  2012\n",
       "1  2008\n",
       "2  2004\n",
       "3  2006"
      ]
     },
     "execution_count": 88,
     "metadata": {},
     "output_type": "execute_result"
    }
   ],
   "source": [
    "df_ndarray"
   ]
  },
  {
   "cell_type": "markdown",
   "metadata": {},
   "source": [
    "# Create Data Frame from Data Frame"
   ]
  },
  {
   "cell_type": "code",
   "execution_count": 90,
   "metadata": {},
   "outputs": [],
   "source": [
    "df_from_df = pd.DataFrame(df_os)"
   ]
  },
  {
   "cell_type": "code",
   "execution_count": 91,
   "metadata": {},
   "outputs": [
    {
     "data": {
      "text/html": [
       "<div>\n",
       "<style scoped>\n",
       "    .dataframe tbody tr th:only-of-type {\n",
       "        vertical-align: middle;\n",
       "    }\n",
       "\n",
       "    .dataframe tbody tr th {\n",
       "        vertical-align: top;\n",
       "    }\n",
       "\n",
       "    .dataframe thead th {\n",
       "        text-align: right;\n",
       "    }\n",
       "</style>\n",
       "<table border=\"1\" class=\"dataframe\">\n",
       "  <thead>\n",
       "    <tr style=\"text-align: right;\">\n",
       "      <th></th>\n",
       "      <th>Countries</th>\n",
       "      <th>HostCities</th>\n",
       "    </tr>\n",
       "  </thead>\n",
       "  <tbody>\n",
       "    <tr>\n",
       "      <th>2012</th>\n",
       "      <td>205</td>\n",
       "      <td>London</td>\n",
       "    </tr>\n",
       "    <tr>\n",
       "      <th>2008</th>\n",
       "      <td>204</td>\n",
       "      <td>Beijing</td>\n",
       "    </tr>\n",
       "    <tr>\n",
       "      <th>2004</th>\n",
       "      <td>201</td>\n",
       "      <td>Athens</td>\n",
       "    </tr>\n",
       "    <tr>\n",
       "      <th>2000</th>\n",
       "      <td>200</td>\n",
       "      <td>Sydney</td>\n",
       "    </tr>\n",
       "    <tr>\n",
       "      <th>1996</th>\n",
       "      <td>197</td>\n",
       "      <td>Atlanta</td>\n",
       "    </tr>\n",
       "  </tbody>\n",
       "</table>\n",
       "</div>"
      ],
      "text/plain": [
       "      Countries HostCities\n",
       "2012        205     London\n",
       "2008        204    Beijing\n",
       "2004        201     Athens\n",
       "2000        200     Sydney\n",
       "1996        197    Atlanta"
      ]
     },
     "execution_count": 91,
     "metadata": {},
     "output_type": "execute_result"
    }
   ],
   "source": [
    "df_from_df"
   ]
  },
  {
   "cell_type": "markdown",
   "metadata": {},
   "source": [
    "# Data Operation"
   ]
  },
  {
   "cell_type": "code",
   "execution_count": 52,
   "metadata": {},
   "outputs": [],
   "source": [
    "import pandas as pd"
   ]
  },
  {
   "cell_type": "code",
   "execution_count": 68,
   "metadata": {},
   "outputs": [],
   "source": [
    "df_movie_rating = pd.DataFrame({'movie1':[5,4,3,3,2,1],\n",
    "                              'movie2':[4,5,2,3,4,2]},\n",
    "                             index = ['Tom','Jeff','Peter','Ramu','Ted','Paul'])"
   ]
  },
  {
   "cell_type": "code",
   "execution_count": 69,
   "metadata": {},
   "outputs": [
    {
     "data": {
      "text/html": [
       "<div>\n",
       "<style scoped>\n",
       "    .dataframe tbody tr th:only-of-type {\n",
       "        vertical-align: middle;\n",
       "    }\n",
       "\n",
       "    .dataframe tbody tr th {\n",
       "        vertical-align: top;\n",
       "    }\n",
       "\n",
       "    .dataframe thead th {\n",
       "        text-align: right;\n",
       "    }\n",
       "</style>\n",
       "<table border=\"1\" class=\"dataframe\">\n",
       "  <thead>\n",
       "    <tr style=\"text-align: right;\">\n",
       "      <th></th>\n",
       "      <th>movie1</th>\n",
       "      <th>movie2</th>\n",
       "    </tr>\n",
       "  </thead>\n",
       "  <tbody>\n",
       "    <tr>\n",
       "      <th>Tom</th>\n",
       "      <td>5</td>\n",
       "      <td>4</td>\n",
       "    </tr>\n",
       "    <tr>\n",
       "      <th>Jeff</th>\n",
       "      <td>4</td>\n",
       "      <td>5</td>\n",
       "    </tr>\n",
       "    <tr>\n",
       "      <th>Peter</th>\n",
       "      <td>3</td>\n",
       "      <td>2</td>\n",
       "    </tr>\n",
       "    <tr>\n",
       "      <th>Ramu</th>\n",
       "      <td>3</td>\n",
       "      <td>3</td>\n",
       "    </tr>\n",
       "    <tr>\n",
       "      <th>Ted</th>\n",
       "      <td>2</td>\n",
       "      <td>4</td>\n",
       "    </tr>\n",
       "    <tr>\n",
       "      <th>Paul</th>\n",
       "      <td>1</td>\n",
       "      <td>2</td>\n",
       "    </tr>\n",
       "  </tbody>\n",
       "</table>\n",
       "</div>"
      ],
      "text/plain": [
       "       movie1  movie2\n",
       "Tom         5       4\n",
       "Jeff        4       5\n",
       "Peter       3       2\n",
       "Ramu        3       3\n",
       "Ted         2       4\n",
       "Paul        1       2"
      ]
     },
     "execution_count": 69,
     "metadata": {},
     "output_type": "execute_result"
    }
   ],
   "source": [
    "df_movie_rating"
   ]
  },
  {
   "cell_type": "code",
   "execution_count": 73,
   "metadata": {},
   "outputs": [],
   "source": [
    "def movie_grade(rating):\n",
    "    if rating== 5:\n",
    "        return 'A'\n",
    "    if rating ==4 :\n",
    "        return 'B'\n",
    "    if rating == 3:\n",
    "        return 'C'\n",
    "    if rating ==2 :\n",
    "        return 'D'\n",
    "    else:\n",
    "        return 'F'\n",
    "    "
   ]
  },
  {
   "cell_type": "code",
   "execution_count": 74,
   "metadata": {},
   "outputs": [
    {
     "name": "stdout",
     "output_type": "stream",
     "text": [
      "A\n"
     ]
    }
   ],
   "source": [
    "print(movie_grade(5))"
   ]
  },
  {
   "cell_type": "code",
   "execution_count": 75,
   "metadata": {},
   "outputs": [
    {
     "data": {
      "text/html": [
       "<div>\n",
       "<style scoped>\n",
       "    .dataframe tbody tr th:only-of-type {\n",
       "        vertical-align: middle;\n",
       "    }\n",
       "\n",
       "    .dataframe tbody tr th {\n",
       "        vertical-align: top;\n",
       "    }\n",
       "\n",
       "    .dataframe thead th {\n",
       "        text-align: right;\n",
       "    }\n",
       "</style>\n",
       "<table border=\"1\" class=\"dataframe\">\n",
       "  <thead>\n",
       "    <tr style=\"text-align: right;\">\n",
       "      <th></th>\n",
       "      <th>movie1</th>\n",
       "      <th>movie2</th>\n",
       "    </tr>\n",
       "  </thead>\n",
       "  <tbody>\n",
       "    <tr>\n",
       "      <th>Tom</th>\n",
       "      <td>A</td>\n",
       "      <td>B</td>\n",
       "    </tr>\n",
       "    <tr>\n",
       "      <th>Jeff</th>\n",
       "      <td>B</td>\n",
       "      <td>A</td>\n",
       "    </tr>\n",
       "    <tr>\n",
       "      <th>Peter</th>\n",
       "      <td>C</td>\n",
       "      <td>D</td>\n",
       "    </tr>\n",
       "    <tr>\n",
       "      <th>Ramu</th>\n",
       "      <td>C</td>\n",
       "      <td>C</td>\n",
       "    </tr>\n",
       "    <tr>\n",
       "      <th>Ted</th>\n",
       "      <td>D</td>\n",
       "      <td>B</td>\n",
       "    </tr>\n",
       "    <tr>\n",
       "      <th>Paul</th>\n",
       "      <td>F</td>\n",
       "      <td>D</td>\n",
       "    </tr>\n",
       "  </tbody>\n",
       "</table>\n",
       "</div>"
      ],
      "text/plain": [
       "      movie1 movie2\n",
       "Tom        A      B\n",
       "Jeff       B      A\n",
       "Peter      C      D\n",
       "Ramu       C      C\n",
       "Ted        D      B\n",
       "Paul       F      D"
      ]
     },
     "execution_count": 75,
     "metadata": {},
     "output_type": "execute_result"
    }
   ],
   "source": [
    "df_movie_rating.applymap(movie_grade)"
   ]
  },
  {
   "cell_type": "markdown",
   "metadata": {},
   "source": [
    "# Data Operation with Statistical Functions"
   ]
  },
  {
   "cell_type": "code",
   "execution_count": 76,
   "metadata": {},
   "outputs": [],
   "source": [
    "df_testScores = pd.DataFrame({'Test1':[95,84,73,88,82,61],\n",
    "                             'Test2':[74,85,82,73,77,79]},\n",
    "                            index= ['Kack','Lewis','Patrixk','Rich','Kelly','Paula']\n",
    "                            )"
   ]
  },
  {
   "cell_type": "code",
   "execution_count": 77,
   "metadata": {},
   "outputs": [
    {
     "data": {
      "text/plain": [
       "Test1    95\n",
       "Test2    85\n",
       "dtype: int64"
      ]
     },
     "execution_count": 77,
     "metadata": {},
     "output_type": "execute_result"
    }
   ],
   "source": [
    "df_testScores.max()"
   ]
  },
  {
   "cell_type": "code",
   "execution_count": 78,
   "metadata": {},
   "outputs": [
    {
     "data": {
      "text/plain": [
       "Test1    80.500000\n",
       "Test2    78.333333\n",
       "dtype: float64"
      ]
     },
     "execution_count": 78,
     "metadata": {},
     "output_type": "execute_result"
    }
   ],
   "source": [
    "df_testScores.mean()"
   ]
  },
  {
   "cell_type": "code",
   "execution_count": 79,
   "metadata": {},
   "outputs": [
    {
     "data": {
      "text/plain": [
       "Test1    11.979149\n",
       "Test2     4.633213\n",
       "dtype: float64"
      ]
     },
     "execution_count": 79,
     "metadata": {},
     "output_type": "execute_result"
    }
   ],
   "source": [
    "df_testScores.std()"
   ]
  },
  {
   "cell_type": "markdown",
   "metadata": {},
   "source": [
    "# Data Operation Using Groupby"
   ]
  },
  {
   "cell_type": "code",
   "execution_count": 80,
   "metadata": {},
   "outputs": [],
   "source": [
    "df_president_name = pd.DataFrame(\n",
    "{'First':['George','Bill','Ronald','Jimmy','George'],\n",
    "'Last':['Bush','Clinton','Regan','Carter','Washington']})"
   ]
  },
  {
   "cell_type": "code",
   "execution_count": 81,
   "metadata": {},
   "outputs": [
    {
     "data": {
      "text/html": [
       "<div>\n",
       "<style scoped>\n",
       "    .dataframe tbody tr th:only-of-type {\n",
       "        vertical-align: middle;\n",
       "    }\n",
       "\n",
       "    .dataframe tbody tr th {\n",
       "        vertical-align: top;\n",
       "    }\n",
       "\n",
       "    .dataframe thead th {\n",
       "        text-align: right;\n",
       "    }\n",
       "</style>\n",
       "<table border=\"1\" class=\"dataframe\">\n",
       "  <thead>\n",
       "    <tr style=\"text-align: right;\">\n",
       "      <th></th>\n",
       "      <th>First</th>\n",
       "      <th>Last</th>\n",
       "    </tr>\n",
       "  </thead>\n",
       "  <tbody>\n",
       "    <tr>\n",
       "      <th>0</th>\n",
       "      <td>George</td>\n",
       "      <td>Bush</td>\n",
       "    </tr>\n",
       "    <tr>\n",
       "      <th>1</th>\n",
       "      <td>Bill</td>\n",
       "      <td>Clinton</td>\n",
       "    </tr>\n",
       "    <tr>\n",
       "      <th>2</th>\n",
       "      <td>Ronald</td>\n",
       "      <td>Regan</td>\n",
       "    </tr>\n",
       "    <tr>\n",
       "      <th>3</th>\n",
       "      <td>Jimmy</td>\n",
       "      <td>Carter</td>\n",
       "    </tr>\n",
       "    <tr>\n",
       "      <th>4</th>\n",
       "      <td>George</td>\n",
       "      <td>Washington</td>\n",
       "    </tr>\n",
       "  </tbody>\n",
       "</table>\n",
       "</div>"
      ],
      "text/plain": [
       "    First        Last\n",
       "0  George        Bush\n",
       "1    Bill     Clinton\n",
       "2  Ronald       Regan\n",
       "3   Jimmy      Carter\n",
       "4  George  Washington"
      ]
     },
     "execution_count": 81,
     "metadata": {},
     "output_type": "execute_result"
    }
   ],
   "source": [
    "df_president_name "
   ]
  },
  {
   "cell_type": "code",
   "execution_count": 82,
   "metadata": {},
   "outputs": [],
   "source": [
    "grouped = df_president_name.groupby('First')"
   ]
  },
  {
   "cell_type": "code",
   "execution_count": 83,
   "metadata": {},
   "outputs": [
    {
     "data": {
      "text/html": [
       "<div>\n",
       "<style scoped>\n",
       "    .dataframe tbody tr th:only-of-type {\n",
       "        vertical-align: middle;\n",
       "    }\n",
       "\n",
       "    .dataframe tbody tr th {\n",
       "        vertical-align: top;\n",
       "    }\n",
       "\n",
       "    .dataframe thead th {\n",
       "        text-align: right;\n",
       "    }\n",
       "</style>\n",
       "<table border=\"1\" class=\"dataframe\">\n",
       "  <thead>\n",
       "    <tr style=\"text-align: right;\">\n",
       "      <th></th>\n",
       "      <th>First</th>\n",
       "      <th>Last</th>\n",
       "    </tr>\n",
       "  </thead>\n",
       "  <tbody>\n",
       "    <tr>\n",
       "      <th>0</th>\n",
       "      <td>George</td>\n",
       "      <td>Bush</td>\n",
       "    </tr>\n",
       "    <tr>\n",
       "      <th>4</th>\n",
       "      <td>George</td>\n",
       "      <td>Washington</td>\n",
       "    </tr>\n",
       "  </tbody>\n",
       "</table>\n",
       "</div>"
      ],
      "text/plain": [
       "    First        Last\n",
       "0  George        Bush\n",
       "4  George  Washington"
      ]
     },
     "execution_count": 83,
     "metadata": {},
     "output_type": "execute_result"
    }
   ],
   "source": [
    "grp_data = grouped.get_group('George')\n",
    "grp_data"
   ]
  },
  {
   "cell_type": "markdown",
   "metadata": {},
   "source": [
    "# Data Operation - Sorting "
   ]
  },
  {
   "cell_type": "code",
   "execution_count": 84,
   "metadata": {},
   "outputs": [
    {
     "data": {
      "text/html": [
       "<div>\n",
       "<style scoped>\n",
       "    .dataframe tbody tr th:only-of-type {\n",
       "        vertical-align: middle;\n",
       "    }\n",
       "\n",
       "    .dataframe tbody tr th {\n",
       "        vertical-align: top;\n",
       "    }\n",
       "\n",
       "    .dataframe thead th {\n",
       "        text-align: right;\n",
       "    }\n",
       "</style>\n",
       "<table border=\"1\" class=\"dataframe\">\n",
       "  <thead>\n",
       "    <tr style=\"text-align: right;\">\n",
       "      <th></th>\n",
       "      <th>First</th>\n",
       "      <th>Last</th>\n",
       "    </tr>\n",
       "  </thead>\n",
       "  <tbody>\n",
       "    <tr>\n",
       "      <th>1</th>\n",
       "      <td>Bill</td>\n",
       "      <td>Clinton</td>\n",
       "    </tr>\n",
       "    <tr>\n",
       "      <th>0</th>\n",
       "      <td>George</td>\n",
       "      <td>Bush</td>\n",
       "    </tr>\n",
       "    <tr>\n",
       "      <th>4</th>\n",
       "      <td>George</td>\n",
       "      <td>Washington</td>\n",
       "    </tr>\n",
       "    <tr>\n",
       "      <th>3</th>\n",
       "      <td>Jimmy</td>\n",
       "      <td>Carter</td>\n",
       "    </tr>\n",
       "    <tr>\n",
       "      <th>2</th>\n",
       "      <td>Ronald</td>\n",
       "      <td>Regan</td>\n",
       "    </tr>\n",
       "  </tbody>\n",
       "</table>\n",
       "</div>"
      ],
      "text/plain": [
       "    First        Last\n",
       "1    Bill     Clinton\n",
       "0  George        Bush\n",
       "4  George  Washington\n",
       "3   Jimmy      Carter\n",
       "2  Ronald       Regan"
      ]
     },
     "execution_count": 84,
     "metadata": {},
     "output_type": "execute_result"
    }
   ],
   "source": [
    "df_president_name.sort_values('First')"
   ]
  },
  {
   "cell_type": "code",
   "execution_count": 85,
   "metadata": {},
   "outputs": [
    {
     "data": {
      "text/html": [
       "<div>\n",
       "<style scoped>\n",
       "    .dataframe tbody tr th:only-of-type {\n",
       "        vertical-align: middle;\n",
       "    }\n",
       "\n",
       "    .dataframe tbody tr th {\n",
       "        vertical-align: top;\n",
       "    }\n",
       "\n",
       "    .dataframe thead th {\n",
       "        text-align: right;\n",
       "    }\n",
       "</style>\n",
       "<table border=\"1\" class=\"dataframe\">\n",
       "  <thead>\n",
       "    <tr style=\"text-align: right;\">\n",
       "      <th></th>\n",
       "      <th>First</th>\n",
       "      <th>Last</th>\n",
       "    </tr>\n",
       "  </thead>\n",
       "  <tbody>\n",
       "    <tr>\n",
       "      <th>0</th>\n",
       "      <td>George</td>\n",
       "      <td>Bush</td>\n",
       "    </tr>\n",
       "    <tr>\n",
       "      <th>3</th>\n",
       "      <td>Jimmy</td>\n",
       "      <td>Carter</td>\n",
       "    </tr>\n",
       "    <tr>\n",
       "      <th>1</th>\n",
       "      <td>Bill</td>\n",
       "      <td>Clinton</td>\n",
       "    </tr>\n",
       "    <tr>\n",
       "      <th>2</th>\n",
       "      <td>Ronald</td>\n",
       "      <td>Regan</td>\n",
       "    </tr>\n",
       "    <tr>\n",
       "      <th>4</th>\n",
       "      <td>George</td>\n",
       "      <td>Washington</td>\n",
       "    </tr>\n",
       "  </tbody>\n",
       "</table>\n",
       "</div>"
      ],
      "text/plain": [
       "    First        Last\n",
       "0  George        Bush\n",
       "3   Jimmy      Carter\n",
       "1    Bill     Clinton\n",
       "2  Ronald       Regan\n",
       "4  George  Washington"
      ]
     },
     "execution_count": 85,
     "metadata": {},
     "output_type": "execute_result"
    }
   ],
   "source": [
    "df_president_name.sort_values('Last')"
   ]
  },
  {
   "cell_type": "markdown",
   "metadata": {},
   "source": [
    "# Data Stanrdization"
   ]
  },
  {
   "cell_type": "code",
   "execution_count": 88,
   "metadata": {},
   "outputs": [],
   "source": [
    "df_testScores = pd.DataFrame({'Test1':[95,84,73,88,82,61],\n",
    "                             'Test2':[74,85,82,73,77,79]},\n",
    "                            index= ['Kack','Lewis','Patrixk','Rich','Kelly','Paula']\n",
    "                            )"
   ]
  },
  {
   "cell_type": "code",
   "execution_count": 91,
   "metadata": {},
   "outputs": [],
   "source": [
    "def standardize_tests(test):\n",
    "    return(test -test.mean())/test.std()"
   ]
  },
  {
   "cell_type": "code",
   "execution_count": 92,
   "metadata": {},
   "outputs": [
    {
     "data": {
      "text/plain": [
       "Kack       1.210437\n",
       "Lewis      0.292174\n",
       "Patrixk   -0.626088\n",
       "Rich       0.626088\n",
       "Kelly      0.125218\n",
       "Paula     -1.627829\n",
       "Name: Test1, dtype: float64"
      ]
     },
     "execution_count": 92,
     "metadata": {},
     "output_type": "execute_result"
    }
   ],
   "source": [
    "standardize_tests(df_testScores['Test1'])"
   ]
  },
  {
   "cell_type": "code",
   "execution_count": 93,
   "metadata": {},
   "outputs": [],
   "source": [
    "def standardize_test_scores(datafrm):\n",
    "    return datafrm.apply(standardize_tests)"
   ]
  },
  {
   "cell_type": "code",
   "execution_count": 94,
   "metadata": {},
   "outputs": [
    {
     "data": {
      "text/html": [
       "<div>\n",
       "<style scoped>\n",
       "    .dataframe tbody tr th:only-of-type {\n",
       "        vertical-align: middle;\n",
       "    }\n",
       "\n",
       "    .dataframe tbody tr th {\n",
       "        vertical-align: top;\n",
       "    }\n",
       "\n",
       "    .dataframe thead th {\n",
       "        text-align: right;\n",
       "    }\n",
       "</style>\n",
       "<table border=\"1\" class=\"dataframe\">\n",
       "  <thead>\n",
       "    <tr style=\"text-align: right;\">\n",
       "      <th></th>\n",
       "      <th>Test1</th>\n",
       "      <th>Test2</th>\n",
       "    </tr>\n",
       "  </thead>\n",
       "  <tbody>\n",
       "    <tr>\n",
       "      <th>Kack</th>\n",
       "      <td>1.210437</td>\n",
       "      <td>-0.935276</td>\n",
       "    </tr>\n",
       "    <tr>\n",
       "      <th>Lewis</th>\n",
       "      <td>0.292174</td>\n",
       "      <td>1.438886</td>\n",
       "    </tr>\n",
       "    <tr>\n",
       "      <th>Patrixk</th>\n",
       "      <td>-0.626088</td>\n",
       "      <td>0.791387</td>\n",
       "    </tr>\n",
       "    <tr>\n",
       "      <th>Rich</th>\n",
       "      <td>0.626088</td>\n",
       "      <td>-1.151109</td>\n",
       "    </tr>\n",
       "    <tr>\n",
       "      <th>Kelly</th>\n",
       "      <td>0.125218</td>\n",
       "      <td>-0.287777</td>\n",
       "    </tr>\n",
       "    <tr>\n",
       "      <th>Paula</th>\n",
       "      <td>-1.627829</td>\n",
       "      <td>0.143889</td>\n",
       "    </tr>\n",
       "  </tbody>\n",
       "</table>\n",
       "</div>"
      ],
      "text/plain": [
       "            Test1     Test2\n",
       "Kack     1.210437 -0.935276\n",
       "Lewis    0.292174  1.438886\n",
       "Patrixk -0.626088  0.791387\n",
       "Rich     0.626088 -1.151109\n",
       "Kelly    0.125218 -0.287777\n",
       "Paula   -1.627829  0.143889"
      ]
     },
     "execution_count": 94,
     "metadata": {},
     "output_type": "execute_result"
    }
   ],
   "source": [
    "standardize_test_scores(df_testScores)"
   ]
  },
  {
   "cell_type": "markdown",
   "metadata": {},
   "source": [
    "# Data operation "
   ]
  },
  {
   "cell_type": "code",
   "execution_count": 95,
   "metadata": {},
   "outputs": [],
   "source": [
    "import pandas as pd"
   ]
  },
  {
   "cell_type": "code",
   "execution_count": 97,
   "metadata": {},
   "outputs": [],
   "source": [
    "# Math Students\n",
    "df_student_math = pd.DataFrame({'student':['Tom','Jack','Dab','Ram','JEff','David'],\n",
    "                               'ID': [10,56,31,85,9,22]})"
   ]
  },
  {
   "cell_type": "code",
   "execution_count": 106,
   "metadata": {},
   "outputs": [
    {
     "data": {
      "text/html": [
       "<div>\n",
       "<style scoped>\n",
       "    .dataframe tbody tr th:only-of-type {\n",
       "        vertical-align: middle;\n",
       "    }\n",
       "\n",
       "    .dataframe tbody tr th {\n",
       "        vertical-align: top;\n",
       "    }\n",
       "\n",
       "    .dataframe thead th {\n",
       "        text-align: right;\n",
       "    }\n",
       "</style>\n",
       "<table border=\"1\" class=\"dataframe\">\n",
       "  <thead>\n",
       "    <tr style=\"text-align: right;\">\n",
       "      <th></th>\n",
       "      <th>student</th>\n",
       "      <th>ID</th>\n",
       "    </tr>\n",
       "  </thead>\n",
       "  <tbody>\n",
       "    <tr>\n",
       "      <th>0</th>\n",
       "      <td>Tom</td>\n",
       "      <td>10</td>\n",
       "    </tr>\n",
       "    <tr>\n",
       "      <th>1</th>\n",
       "      <td>Jack</td>\n",
       "      <td>56</td>\n",
       "    </tr>\n",
       "    <tr>\n",
       "      <th>2</th>\n",
       "      <td>Dab</td>\n",
       "      <td>31</td>\n",
       "    </tr>\n",
       "    <tr>\n",
       "      <th>3</th>\n",
       "      <td>Ram</td>\n",
       "      <td>85</td>\n",
       "    </tr>\n",
       "    <tr>\n",
       "      <th>4</th>\n",
       "      <td>JEff</td>\n",
       "      <td>9</td>\n",
       "    </tr>\n",
       "    <tr>\n",
       "      <th>5</th>\n",
       "      <td>David</td>\n",
       "      <td>22</td>\n",
       "    </tr>\n",
       "  </tbody>\n",
       "</table>\n",
       "</div>"
      ],
      "text/plain": [
       "  student  ID\n",
       "0     Tom  10\n",
       "1    Jack  56\n",
       "2     Dab  31\n",
       "3     Ram  85\n",
       "4    JEff   9\n",
       "5   David  22"
      ]
     },
     "execution_count": 106,
     "metadata": {},
     "output_type": "execute_result"
    }
   ],
   "source": [
    "df_student_math"
   ]
  },
  {
   "cell_type": "code",
   "execution_count": 107,
   "metadata": {},
   "outputs": [],
   "source": [
    "# Science Data\n",
    "df_student_science = pd.DataFrame({'student':['Tom','Ram','David'],\n",
    "                               'ID': [10,12,22]})"
   ]
  },
  {
   "cell_type": "code",
   "execution_count": 108,
   "metadata": {},
   "outputs": [
    {
     "data": {
      "text/html": [
       "<div>\n",
       "<style scoped>\n",
       "    .dataframe tbody tr th:only-of-type {\n",
       "        vertical-align: middle;\n",
       "    }\n",
       "\n",
       "    .dataframe tbody tr th {\n",
       "        vertical-align: top;\n",
       "    }\n",
       "\n",
       "    .dataframe thead th {\n",
       "        text-align: right;\n",
       "    }\n",
       "</style>\n",
       "<table border=\"1\" class=\"dataframe\">\n",
       "  <thead>\n",
       "    <tr style=\"text-align: right;\">\n",
       "      <th></th>\n",
       "      <th>student</th>\n",
       "      <th>ID</th>\n",
       "    </tr>\n",
       "  </thead>\n",
       "  <tbody>\n",
       "    <tr>\n",
       "      <th>0</th>\n",
       "      <td>Tom</td>\n",
       "      <td>10</td>\n",
       "    </tr>\n",
       "    <tr>\n",
       "      <th>1</th>\n",
       "      <td>Ram</td>\n",
       "      <td>12</td>\n",
       "    </tr>\n",
       "    <tr>\n",
       "      <th>2</th>\n",
       "      <td>David</td>\n",
       "      <td>22</td>\n",
       "    </tr>\n",
       "  </tbody>\n",
       "</table>\n",
       "</div>"
      ],
      "text/plain": [
       "  student  ID\n",
       "0     Tom  10\n",
       "1     Ram  12\n",
       "2   David  22"
      ]
     },
     "execution_count": 108,
     "metadata": {},
     "output_type": "execute_result"
    }
   ],
   "source": [
    "df_student_science"
   ]
  },
  {
   "cell_type": "code",
   "execution_count": 99,
   "metadata": {},
   "outputs": [
    {
     "data": {
      "text/html": [
       "<div>\n",
       "<style scoped>\n",
       "    .dataframe tbody tr th:only-of-type {\n",
       "        vertical-align: middle;\n",
       "    }\n",
       "\n",
       "    .dataframe tbody tr th {\n",
       "        vertical-align: top;\n",
       "    }\n",
       "\n",
       "    .dataframe thead th {\n",
       "        text-align: right;\n",
       "    }\n",
       "</style>\n",
       "<table border=\"1\" class=\"dataframe\">\n",
       "  <thead>\n",
       "    <tr style=\"text-align: right;\">\n",
       "      <th></th>\n",
       "      <th>student</th>\n",
       "      <th>ID</th>\n",
       "    </tr>\n",
       "  </thead>\n",
       "  <tbody>\n",
       "    <tr>\n",
       "      <th>0</th>\n",
       "      <td>Tom</td>\n",
       "      <td>10</td>\n",
       "    </tr>\n",
       "    <tr>\n",
       "      <th>1</th>\n",
       "      <td>David</td>\n",
       "      <td>22</td>\n",
       "    </tr>\n",
       "  </tbody>\n",
       "</table>\n",
       "</div>"
      ],
      "text/plain": [
       "  student  ID\n",
       "0     Tom  10\n",
       "1   David  22"
      ]
     },
     "execution_count": 99,
     "metadata": {},
     "output_type": "execute_result"
    }
   ],
   "source": [
    "# merge\n",
    "pd.merge(df_student_math,df_student_science)"
   ]
  },
  {
   "cell_type": "code",
   "execution_count": 100,
   "metadata": {},
   "outputs": [
    {
     "data": {
      "text/html": [
       "<div>\n",
       "<style scoped>\n",
       "    .dataframe tbody tr th:only-of-type {\n",
       "        vertical-align: middle;\n",
       "    }\n",
       "\n",
       "    .dataframe tbody tr th {\n",
       "        vertical-align: top;\n",
       "    }\n",
       "\n",
       "    .dataframe thead th {\n",
       "        text-align: right;\n",
       "    }\n",
       "</style>\n",
       "<table border=\"1\" class=\"dataframe\">\n",
       "  <thead>\n",
       "    <tr style=\"text-align: right;\">\n",
       "      <th></th>\n",
       "      <th>student</th>\n",
       "      <th>ID_x</th>\n",
       "      <th>ID_y</th>\n",
       "    </tr>\n",
       "  </thead>\n",
       "  <tbody>\n",
       "    <tr>\n",
       "      <th>0</th>\n",
       "      <td>Tom</td>\n",
       "      <td>10</td>\n",
       "      <td>10</td>\n",
       "    </tr>\n",
       "    <tr>\n",
       "      <th>1</th>\n",
       "      <td>Ram</td>\n",
       "      <td>85</td>\n",
       "      <td>12</td>\n",
       "    </tr>\n",
       "    <tr>\n",
       "      <th>2</th>\n",
       "      <td>David</td>\n",
       "      <td>22</td>\n",
       "      <td>22</td>\n",
       "    </tr>\n",
       "  </tbody>\n",
       "</table>\n",
       "</div>"
      ],
      "text/plain": [
       "  student  ID_x  ID_y\n",
       "0     Tom    10    10\n",
       "1     Ram    85    12\n",
       "2   David    22    22"
      ]
     },
     "execution_count": 100,
     "metadata": {},
     "output_type": "execute_result"
    }
   ],
   "source": [
    "pd.merge(df_student_math,df_student_science,on ='student')"
   ]
  },
  {
   "cell_type": "code",
   "execution_count": 101,
   "metadata": {},
   "outputs": [
    {
     "data": {
      "text/html": [
       "<div>\n",
       "<style scoped>\n",
       "    .dataframe tbody tr th:only-of-type {\n",
       "        vertical-align: middle;\n",
       "    }\n",
       "\n",
       "    .dataframe tbody tr th {\n",
       "        vertical-align: top;\n",
       "    }\n",
       "\n",
       "    .dataframe thead th {\n",
       "        text-align: right;\n",
       "    }\n",
       "</style>\n",
       "<table border=\"1\" class=\"dataframe\">\n",
       "  <thead>\n",
       "    <tr style=\"text-align: right;\">\n",
       "      <th></th>\n",
       "      <th>student_x</th>\n",
       "      <th>ID</th>\n",
       "      <th>student_y</th>\n",
       "    </tr>\n",
       "  </thead>\n",
       "  <tbody>\n",
       "    <tr>\n",
       "      <th>0</th>\n",
       "      <td>Tom</td>\n",
       "      <td>10</td>\n",
       "      <td>Tom</td>\n",
       "    </tr>\n",
       "    <tr>\n",
       "      <th>1</th>\n",
       "      <td>Jack</td>\n",
       "      <td>56</td>\n",
       "      <td>X</td>\n",
       "    </tr>\n",
       "    <tr>\n",
       "      <th>2</th>\n",
       "      <td>Dab</td>\n",
       "      <td>31</td>\n",
       "      <td>X</td>\n",
       "    </tr>\n",
       "    <tr>\n",
       "      <th>3</th>\n",
       "      <td>Ram</td>\n",
       "      <td>85</td>\n",
       "      <td>X</td>\n",
       "    </tr>\n",
       "    <tr>\n",
       "      <th>4</th>\n",
       "      <td>JEff</td>\n",
       "      <td>9</td>\n",
       "      <td>X</td>\n",
       "    </tr>\n",
       "    <tr>\n",
       "      <th>5</th>\n",
       "      <td>David</td>\n",
       "      <td>22</td>\n",
       "      <td>David</td>\n",
       "    </tr>\n",
       "  </tbody>\n",
       "</table>\n",
       "</div>"
      ],
      "text/plain": [
       "  student_x  ID student_y\n",
       "0       Tom  10       Tom\n",
       "1      Jack  56         X\n",
       "2       Dab  31         X\n",
       "3       Ram  85         X\n",
       "4      JEff   9         X\n",
       "5     David  22     David"
      ]
     },
     "execution_count": 101,
     "metadata": {},
     "output_type": "execute_result"
    }
   ],
   "source": [
    "pd.merge(df_student_math,df_student_science,on ='ID',how ='left').fillna('X')"
   ]
  },
  {
   "cell_type": "code",
   "execution_count": 103,
   "metadata": {},
   "outputs": [
    {
     "data": {
      "text/html": [
       "<div>\n",
       "<style scoped>\n",
       "    .dataframe tbody tr th:only-of-type {\n",
       "        vertical-align: middle;\n",
       "    }\n",
       "\n",
       "    .dataframe tbody tr th {\n",
       "        vertical-align: top;\n",
       "    }\n",
       "\n",
       "    .dataframe thead th {\n",
       "        text-align: right;\n",
       "    }\n",
       "</style>\n",
       "<table border=\"1\" class=\"dataframe\">\n",
       "  <thead>\n",
       "    <tr style=\"text-align: right;\">\n",
       "      <th></th>\n",
       "      <th>student</th>\n",
       "      <th>ID</th>\n",
       "    </tr>\n",
       "  </thead>\n",
       "  <tbody>\n",
       "    <tr>\n",
       "      <th>0</th>\n",
       "      <td>Tom</td>\n",
       "      <td>10</td>\n",
       "    </tr>\n",
       "    <tr>\n",
       "      <th>1</th>\n",
       "      <td>Jack</td>\n",
       "      <td>56</td>\n",
       "    </tr>\n",
       "    <tr>\n",
       "      <th>2</th>\n",
       "      <td>Dab</td>\n",
       "      <td>31</td>\n",
       "    </tr>\n",
       "    <tr>\n",
       "      <th>3</th>\n",
       "      <td>Ram</td>\n",
       "      <td>85</td>\n",
       "    </tr>\n",
       "    <tr>\n",
       "      <th>4</th>\n",
       "      <td>JEff</td>\n",
       "      <td>9</td>\n",
       "    </tr>\n",
       "    <tr>\n",
       "      <th>5</th>\n",
       "      <td>David</td>\n",
       "      <td>22</td>\n",
       "    </tr>\n",
       "    <tr>\n",
       "      <th>6</th>\n",
       "      <td>Tom</td>\n",
       "      <td>10</td>\n",
       "    </tr>\n",
       "    <tr>\n",
       "      <th>7</th>\n",
       "      <td>Ram</td>\n",
       "      <td>12</td>\n",
       "    </tr>\n",
       "    <tr>\n",
       "      <th>8</th>\n",
       "      <td>David</td>\n",
       "      <td>22</td>\n",
       "    </tr>\n",
       "  </tbody>\n",
       "</table>\n",
       "</div>"
      ],
      "text/plain": [
       "  student  ID\n",
       "0     Tom  10\n",
       "1    Jack  56\n",
       "2     Dab  31\n",
       "3     Ram  85\n",
       "4    JEff   9\n",
       "5   David  22\n",
       "6     Tom  10\n",
       "7     Ram  12\n",
       "8   David  22"
      ]
     },
     "execution_count": 103,
     "metadata": {},
     "output_type": "execute_result"
    }
   ],
   "source": [
    "# concatenate data frames \n",
    "pd.concat([df_student_math,df_student_science],ignore_index=True)"
   ]
  },
  {
   "cell_type": "code",
   "execution_count": 109,
   "metadata": {},
   "outputs": [],
   "source": [
    "# define new data\n",
    "df_student_survey_data = pd.DataFrame({'student':['Tom','Jack','Dab','Ram','JEff','Kack'],\n",
    "                               'ID': [10,56,10,85,9,56]})"
   ]
  },
  {
   "cell_type": "code",
   "execution_count": 110,
   "metadata": {},
   "outputs": [
    {
     "data": {
      "text/html": [
       "<div>\n",
       "<style scoped>\n",
       "    .dataframe tbody tr th:only-of-type {\n",
       "        vertical-align: middle;\n",
       "    }\n",
       "\n",
       "    .dataframe tbody tr th {\n",
       "        vertical-align: top;\n",
       "    }\n",
       "\n",
       "    .dataframe thead th {\n",
       "        text-align: right;\n",
       "    }\n",
       "</style>\n",
       "<table border=\"1\" class=\"dataframe\">\n",
       "  <thead>\n",
       "    <tr style=\"text-align: right;\">\n",
       "      <th></th>\n",
       "      <th>student</th>\n",
       "      <th>ID</th>\n",
       "    </tr>\n",
       "  </thead>\n",
       "  <tbody>\n",
       "    <tr>\n",
       "      <th>0</th>\n",
       "      <td>Tom</td>\n",
       "      <td>10</td>\n",
       "    </tr>\n",
       "    <tr>\n",
       "      <th>1</th>\n",
       "      <td>Jack</td>\n",
       "      <td>56</td>\n",
       "    </tr>\n",
       "    <tr>\n",
       "      <th>2</th>\n",
       "      <td>Dab</td>\n",
       "      <td>10</td>\n",
       "    </tr>\n",
       "    <tr>\n",
       "      <th>3</th>\n",
       "      <td>Ram</td>\n",
       "      <td>85</td>\n",
       "    </tr>\n",
       "    <tr>\n",
       "      <th>4</th>\n",
       "      <td>JEff</td>\n",
       "      <td>9</td>\n",
       "    </tr>\n",
       "    <tr>\n",
       "      <th>5</th>\n",
       "      <td>Kack</td>\n",
       "      <td>56</td>\n",
       "    </tr>\n",
       "  </tbody>\n",
       "</table>\n",
       "</div>"
      ],
      "text/plain": [
       "  student  ID\n",
       "0     Tom  10\n",
       "1    Jack  56\n",
       "2     Dab  10\n",
       "3     Ram  85\n",
       "4    JEff   9\n",
       "5    Kack  56"
      ]
     },
     "execution_count": 110,
     "metadata": {},
     "output_type": "execute_result"
    }
   ],
   "source": [
    "df_student_survey_data "
   ]
  },
  {
   "cell_type": "code",
   "execution_count": 111,
   "metadata": {},
   "outputs": [
    {
     "data": {
      "text/plain": [
       "0    False\n",
       "1    False\n",
       "2    False\n",
       "3    False\n",
       "4    False\n",
       "5    False\n",
       "dtype: bool"
      ]
     },
     "execution_count": 111,
     "metadata": {},
     "output_type": "execute_result"
    }
   ],
   "source": [
    "df_student_survey_data.duplicated()"
   ]
  },
  {
   "cell_type": "code",
   "execution_count": 113,
   "metadata": {},
   "outputs": [
    {
     "data": {
      "text/html": [
       "<div>\n",
       "<style scoped>\n",
       "    .dataframe tbody tr th:only-of-type {\n",
       "        vertical-align: middle;\n",
       "    }\n",
       "\n",
       "    .dataframe tbody tr th {\n",
       "        vertical-align: top;\n",
       "    }\n",
       "\n",
       "    .dataframe thead th {\n",
       "        text-align: right;\n",
       "    }\n",
       "</style>\n",
       "<table border=\"1\" class=\"dataframe\">\n",
       "  <thead>\n",
       "    <tr style=\"text-align: right;\">\n",
       "      <th></th>\n",
       "      <th>student</th>\n",
       "      <th>ID</th>\n",
       "    </tr>\n",
       "  </thead>\n",
       "  <tbody>\n",
       "    <tr>\n",
       "      <th>0</th>\n",
       "      <td>Tom</td>\n",
       "      <td>10</td>\n",
       "    </tr>\n",
       "    <tr>\n",
       "      <th>1</th>\n",
       "      <td>Jack</td>\n",
       "      <td>56</td>\n",
       "    </tr>\n",
       "    <tr>\n",
       "      <th>2</th>\n",
       "      <td>Dab</td>\n",
       "      <td>10</td>\n",
       "    </tr>\n",
       "    <tr>\n",
       "      <th>3</th>\n",
       "      <td>Ram</td>\n",
       "      <td>85</td>\n",
       "    </tr>\n",
       "    <tr>\n",
       "      <th>4</th>\n",
       "      <td>JEff</td>\n",
       "      <td>9</td>\n",
       "    </tr>\n",
       "    <tr>\n",
       "      <th>5</th>\n",
       "      <td>Kack</td>\n",
       "      <td>56</td>\n",
       "    </tr>\n",
       "  </tbody>\n",
       "</table>\n",
       "</div>"
      ],
      "text/plain": [
       "  student  ID\n",
       "0     Tom  10\n",
       "1    Jack  56\n",
       "2     Dab  10\n",
       "3     Ram  85\n",
       "4    JEff   9\n",
       "5    Kack  56"
      ]
     },
     "execution_count": 113,
     "metadata": {},
     "output_type": "execute_result"
    }
   ],
   "source": [
    "df_student_survey_data.drop_duplicates('student')"
   ]
  },
  {
   "cell_type": "code",
   "execution_count": 114,
   "metadata": {},
   "outputs": [
    {
     "data": {
      "text/html": [
       "<div>\n",
       "<style scoped>\n",
       "    .dataframe tbody tr th:only-of-type {\n",
       "        vertical-align: middle;\n",
       "    }\n",
       "\n",
       "    .dataframe tbody tr th {\n",
       "        vertical-align: top;\n",
       "    }\n",
       "\n",
       "    .dataframe thead th {\n",
       "        text-align: right;\n",
       "    }\n",
       "</style>\n",
       "<table border=\"1\" class=\"dataframe\">\n",
       "  <thead>\n",
       "    <tr style=\"text-align: right;\">\n",
       "      <th></th>\n",
       "      <th>student</th>\n",
       "      <th>ID</th>\n",
       "    </tr>\n",
       "  </thead>\n",
       "  <tbody>\n",
       "    <tr>\n",
       "      <th>0</th>\n",
       "      <td>Tom</td>\n",
       "      <td>10</td>\n",
       "    </tr>\n",
       "    <tr>\n",
       "      <th>1</th>\n",
       "      <td>Jack</td>\n",
       "      <td>56</td>\n",
       "    </tr>\n",
       "    <tr>\n",
       "      <th>3</th>\n",
       "      <td>Ram</td>\n",
       "      <td>85</td>\n",
       "    </tr>\n",
       "    <tr>\n",
       "      <th>4</th>\n",
       "      <td>JEff</td>\n",
       "      <td>9</td>\n",
       "    </tr>\n",
       "  </tbody>\n",
       "</table>\n",
       "</div>"
      ],
      "text/plain": [
       "  student  ID\n",
       "0     Tom  10\n",
       "1    Jack  56\n",
       "3     Ram  85\n",
       "4    JEff   9"
      ]
     },
     "execution_count": 114,
     "metadata": {},
     "output_type": "execute_result"
    }
   ],
   "source": [
    "df_student_survey_data.drop_duplicates('ID')"
   ]
  },
  {
   "cell_type": "markdown",
   "metadata": {},
   "source": [
    "# File Read and Write Support"
   ]
  },
  {
   "cell_type": "code",
   "execution_count": 236,
   "metadata": {},
   "outputs": [],
   "source": [
    "import pandas as pd"
   ]
  },
  {
   "cell_type": "code",
   "execution_count": 237,
   "metadata": {},
   "outputs": [],
   "source": [
    "import sqlite3"
   ]
  },
  {
   "cell_type": "code",
   "execution_count": 238,
   "metadata": {},
   "outputs": [],
   "source": [
    "create_table = \"\"\" CREATE TABLE student_score \n",
    "(Id INTEGER,Name VARCHAR(20),Math REAL, Science REAL);\"\"\""
   ]
  },
  {
   "cell_type": "code",
   "execution_count": 239,
   "metadata": {},
   "outputs": [],
   "source": [
    "# execute the SQL statement\n",
    "executeSQL = sqlite3.connect(':memory:')\n",
    "executeSQL.execute(create_table)\n",
    "executeSQL.commit()"
   ]
  },
  {
   "cell_type": "code",
   "execution_count": 240,
   "metadata": {},
   "outputs": [],
   "source": [
    "#prepare a sQL Query\n",
    "SQL_query = executeSQL.execute('select *from student_score')"
   ]
  },
  {
   "cell_type": "code",
   "execution_count": 241,
   "metadata": {},
   "outputs": [],
   "source": [
    "resulset = SQL_query.fetchall()"
   ]
  },
  {
   "cell_type": "code",
   "execution_count": 242,
   "metadata": {},
   "outputs": [
    {
     "data": {
      "text/plain": [
       "[]"
      ]
     },
     "execution_count": 242,
     "metadata": {},
     "output_type": "execute_result"
    }
   ],
   "source": [
    "resulset"
   ]
  },
  {
   "cell_type": "markdown",
   "metadata": {},
   "source": [
    "# Pandas SQL operation"
   ]
  },
  {
   "cell_type": "code",
   "execution_count": 243,
   "metadata": {},
   "outputs": [],
   "source": [
    "# Prepare Records to insert\n",
    "insertSQL = [(10,'Jack',85,92),(12,'Seenu',75,99),(20,'Seven',65,82),(19,'Palguni',95,95)\n",
    "            ]"
   ]
  },
  {
   "cell_type": "code",
   "execution_count": 244,
   "metadata": {},
   "outputs": [],
   "source": [
    "# insert Records\n",
    "insert_statement = \"Insert into student_score values(?,?,?,?)\"\n",
    "executeSQL.executemany(insert_statement,insertSQL)\n",
    "executeSQL.commit()"
   ]
  },
  {
   "cell_type": "code",
   "execution_count": 245,
   "metadata": {},
   "outputs": [],
   "source": [
    "SQL_query = executeSQL.execute(\"select *from student_score\")"
   ]
  },
  {
   "cell_type": "code",
   "execution_count": 246,
   "metadata": {},
   "outputs": [
    {
     "data": {
      "text/plain": [
       "('Id', None, None, None, None, None, None)"
      ]
     },
     "execution_count": 246,
     "metadata": {},
     "output_type": "execute_result"
    }
   ],
   "source": [
    "(SQL_query.description)[0]"
   ]
  },
  {
   "cell_type": "code",
   "execution_count": 247,
   "metadata": {},
   "outputs": [],
   "source": [
    "resulset = SQL_query.fetchall()"
   ]
  },
  {
   "cell_type": "code",
   "execution_count": 248,
   "metadata": {},
   "outputs": [
    {
     "data": {
      "text/plain": [
       "[(10, 'Jack', 85.0, 92.0),\n",
       " (12, 'Seenu', 75.0, 99.0),\n",
       " (20, 'Seven', 65.0, 82.0),\n",
       " (19, 'Palguni', 95.0, 95.0)]"
      ]
     },
     "execution_count": 248,
     "metadata": {},
     "output_type": "execute_result"
    }
   ],
   "source": [
    "resulset"
   ]
  },
  {
   "cell_type": "code",
   "execution_count": 251,
   "metadata": {},
   "outputs": [
    {
     "ename": "SyntaxError",
     "evalue": "can't use starred expression here (<ipython-input-251-ea2d528372df>, line 4)",
     "output_type": "error",
     "traceback": [
      "\u001b[1;36m  File \u001b[1;32m\"<ipython-input-251-ea2d528372df>\"\u001b[1;36m, line \u001b[1;32m4\u001b[0m\n\u001b[1;31mSyntaxError\u001b[0m\u001b[1;31m:\u001b[0m can't use starred expression here\n"
     ]
    }
   ],
   "source": [
    "SQL_query.description"
   ]
  },
  {
   "cell_type": "code",
   "execution_count": 229,
   "metadata": {},
   "outputs": [],
   "source": [
    "# put the records together in dataframe\n",
    "df_student_records = pd.DataFrame(resulset,columns = *SQL_query.description[0:])"
   ]
  },
  {
   "cell_type": "code",
   "execution_count": 231,
   "metadata": {},
   "outputs": [
    {
     "data": {
      "text/html": [
       "<div>\n",
       "<style scoped>\n",
       "    .dataframe tbody tr th:only-of-type {\n",
       "        vertical-align: middle;\n",
       "    }\n",
       "\n",
       "    .dataframe tbody tr th {\n",
       "        vertical-align: top;\n",
       "    }\n",
       "\n",
       "    .dataframe thead tr th {\n",
       "        text-align: left;\n",
       "    }\n",
       "</style>\n",
       "<table border=\"1\" class=\"dataframe\">\n",
       "  <thead>\n",
       "    <tr>\n",
       "      <th></th>\n",
       "      <th>Id</th>\n",
       "      <th>Name</th>\n",
       "      <th>Math</th>\n",
       "      <th>Science</th>\n",
       "    </tr>\n",
       "    <tr>\n",
       "      <th></th>\n",
       "      <th>NaN</th>\n",
       "      <th>NaN</th>\n",
       "      <th>NaN</th>\n",
       "      <th>NaN</th>\n",
       "    </tr>\n",
       "    <tr>\n",
       "      <th></th>\n",
       "      <th>NaN</th>\n",
       "      <th>NaN</th>\n",
       "      <th>NaN</th>\n",
       "      <th>NaN</th>\n",
       "    </tr>\n",
       "    <tr>\n",
       "      <th></th>\n",
       "      <th>NaN</th>\n",
       "      <th>NaN</th>\n",
       "      <th>NaN</th>\n",
       "      <th>NaN</th>\n",
       "    </tr>\n",
       "    <tr>\n",
       "      <th></th>\n",
       "      <th>NaN</th>\n",
       "      <th>NaN</th>\n",
       "      <th>NaN</th>\n",
       "      <th>NaN</th>\n",
       "    </tr>\n",
       "    <tr>\n",
       "      <th></th>\n",
       "      <th>NaN</th>\n",
       "      <th>NaN</th>\n",
       "      <th>NaN</th>\n",
       "      <th>NaN</th>\n",
       "    </tr>\n",
       "    <tr>\n",
       "      <th></th>\n",
       "      <th>NaN</th>\n",
       "      <th>NaN</th>\n",
       "      <th>NaN</th>\n",
       "      <th>NaN</th>\n",
       "    </tr>\n",
       "  </thead>\n",
       "  <tbody>\n",
       "    <tr>\n",
       "      <th>0</th>\n",
       "      <td>10</td>\n",
       "      <td>Jack</td>\n",
       "      <td>85.0</td>\n",
       "      <td>92.0</td>\n",
       "    </tr>\n",
       "    <tr>\n",
       "      <th>1</th>\n",
       "      <td>12</td>\n",
       "      <td>Seenu</td>\n",
       "      <td>75.0</td>\n",
       "      <td>99.0</td>\n",
       "    </tr>\n",
       "    <tr>\n",
       "      <th>2</th>\n",
       "      <td>20</td>\n",
       "      <td>Seven</td>\n",
       "      <td>65.0</td>\n",
       "      <td>82.0</td>\n",
       "    </tr>\n",
       "    <tr>\n",
       "      <th>3</th>\n",
       "      <td>19</td>\n",
       "      <td>Palguni</td>\n",
       "      <td>95.0</td>\n",
       "      <td>95.0</td>\n",
       "    </tr>\n",
       "    <tr>\n",
       "      <th>4</th>\n",
       "      <td>10</td>\n",
       "      <td>Jack</td>\n",
       "      <td>85.0</td>\n",
       "      <td>92.0</td>\n",
       "    </tr>\n",
       "    <tr>\n",
       "      <th>5</th>\n",
       "      <td>12</td>\n",
       "      <td>Seenu</td>\n",
       "      <td>75.0</td>\n",
       "      <td>99.0</td>\n",
       "    </tr>\n",
       "    <tr>\n",
       "      <th>6</th>\n",
       "      <td>20</td>\n",
       "      <td>Seven</td>\n",
       "      <td>65.0</td>\n",
       "      <td>82.0</td>\n",
       "    </tr>\n",
       "    <tr>\n",
       "      <th>7</th>\n",
       "      <td>19</td>\n",
       "      <td>Palguni</td>\n",
       "      <td>95.0</td>\n",
       "      <td>95.0</td>\n",
       "    </tr>\n",
       "  </tbody>\n",
       "</table>\n",
       "</div>"
      ],
      "text/plain": [
       "   Id     Name  Math Science\n",
       "  NaN      NaN   NaN     NaN\n",
       "  NaN      NaN   NaN     NaN\n",
       "  NaN      NaN   NaN     NaN\n",
       "  NaN      NaN   NaN     NaN\n",
       "  NaN      NaN   NaN     NaN\n",
       "  NaN      NaN   NaN     NaN\n",
       "0  10     Jack  85.0    92.0\n",
       "1  12    Seenu  75.0    99.0\n",
       "2  20    Seven  65.0    82.0\n",
       "3  19  Palguni  95.0    95.0\n",
       "4  10     Jack  85.0    92.0\n",
       "5  12    Seenu  75.0    99.0\n",
       "6  20    Seven  65.0    82.0\n",
       "7  19  Palguni  95.0    95.0"
      ]
     },
     "execution_count": 231,
     "metadata": {},
     "output_type": "execute_result"
    }
   ],
   "source": [
    "df_student_records"
   ]
  },
  {
   "cell_type": "code",
   "execution_count": 256,
   "metadata": {},
   "outputs": [
    {
     "ename": "TypeError",
     "evalue": "'zip' object is not subscriptable",
     "output_type": "error",
     "traceback": [
      "\u001b[1;31m---------------------------------------------------------------------------\u001b[0m",
      "\u001b[1;31mTypeError\u001b[0m                                 Traceback (most recent call last)",
      "\u001b[1;32m<ipython-input-256-4d3729241a7d>\u001b[0m in \u001b[0;36m<module>\u001b[1;34m\u001b[0m\n\u001b[0;32m      1\u001b[0m \u001b[1;31m# put the records together in dataframe\u001b[0m\u001b[1;33m\u001b[0m\u001b[1;33m\u001b[0m\u001b[1;33m\u001b[0m\u001b[0m\n\u001b[1;32m----> 2\u001b[1;33m \u001b[0mdf_student_records\u001b[0m \u001b[1;33m=\u001b[0m \u001b[0mpd\u001b[0m\u001b[1;33m.\u001b[0m\u001b[0mDataFrame\u001b[0m\u001b[1;33m(\u001b[0m\u001b[0mresulset\u001b[0m\u001b[1;33m,\u001b[0m\u001b[0mcolumns\u001b[0m \u001b[1;33m=\u001b[0m \u001b[0mzip\u001b[0m\u001b[1;33m(\u001b[0m\u001b[1;33m*\u001b[0m \u001b[0mSQL_query\u001b[0m\u001b[1;33m.\u001b[0m\u001b[0mdescription\u001b[0m\u001b[1;33m)\u001b[0m\u001b[1;33m[\u001b[0m\u001b[1;36m0\u001b[0m\u001b[1;33m]\u001b[0m\u001b[1;33m)\u001b[0m\u001b[1;33m\u001b[0m\u001b[1;33m\u001b[0m\u001b[0m\n\u001b[0m",
      "\u001b[1;31mTypeError\u001b[0m: 'zip' object is not subscriptable"
     ]
    }
   ],
   "source": [
    "# put the records together in dataframe\n",
    "df_student_records = pd.DataFrame(resulset,columns = zip(* SQL_query.description)[0])"
   ]
  },
  {
   "cell_type": "code",
   "execution_count": null,
   "metadata": {},
   "outputs": [],
   "source": []
  },
  {
   "cell_type": "markdown",
   "metadata": {},
   "source": [
    "# Assignment 1"
   ]
  },
  {
   "cell_type": "markdown",
   "metadata": {},
   "source": [
    "### Analyze the Federal Aviation Authority (FAA) dataset using Pandas to do the following: \n",
    "\n",
    "## 1. View \n",
    "\n",
    "### $a$ Aircraft make name \n",
    "### $b$ State name \n",
    "### $c$ Aircraft model name \n",
    "### $d$ Text information \n",
    "### $e$ Flight phase \n",
    "### $f$ Event description type \n",
    "### $g$Fatal flag \n",
    "\n",
    "## 2. Clean the dataset and replace the fatal flag NaN with “No”\n",
    "\n",
    "## 3. Find the aircraft types and their occurrences in the dataset \n",
    "\n",
    "## 4. Remove all the observations where aircraft names are not available \n",
    "\n",
    "## 5. Display the observations where fatal flag is “Yes”"
   ]
  },
  {
   "cell_type": "code",
   "execution_count": null,
   "metadata": {},
   "outputs": [],
   "source": [
    "import pandas as pd"
   ]
  },
  {
   "cell_type": "code",
   "execution_count": 257,
   "metadata": {},
   "outputs": [],
   "source": [
    "df_faa_dataset = pd.read_csv('faa_ai_prelim.csv')"
   ]
  },
  {
   "cell_type": "code",
   "execution_count": 258,
   "metadata": {},
   "outputs": [
    {
     "data": {
      "text/plain": [
       "(95, 42)"
      ]
     },
     "execution_count": 258,
     "metadata": {},
     "output_type": "execute_result"
    }
   ],
   "source": [
    "df_faa_dataset.shape"
   ]
  },
  {
   "cell_type": "code",
   "execution_count": 259,
   "metadata": {},
   "outputs": [
    {
     "data": {
      "text/html": [
       "<div>\n",
       "<style scoped>\n",
       "    .dataframe tbody tr th:only-of-type {\n",
       "        vertical-align: middle;\n",
       "    }\n",
       "\n",
       "    .dataframe tbody tr th {\n",
       "        vertical-align: top;\n",
       "    }\n",
       "\n",
       "    .dataframe thead th {\n",
       "        text-align: right;\n",
       "    }\n",
       "</style>\n",
       "<table border=\"1\" class=\"dataframe\">\n",
       "  <thead>\n",
       "    <tr style=\"text-align: right;\">\n",
       "      <th></th>\n",
       "      <th>UPDATED</th>\n",
       "      <th>ENTRY_DATE</th>\n",
       "      <th>EVENT_LCL_DATE</th>\n",
       "      <th>EVENT_LCL_TIME</th>\n",
       "      <th>LOC_CITY_NAME</th>\n",
       "      <th>LOC_STATE_NAME</th>\n",
       "      <th>LOC_CNTRY_NAME</th>\n",
       "      <th>RMK_TEXT</th>\n",
       "      <th>EVENT_TYPE_DESC</th>\n",
       "      <th>FSDO_DESC</th>\n",
       "      <th>...</th>\n",
       "      <th>PAX_INJ_NONE</th>\n",
       "      <th>PAX_INJ_MINOR</th>\n",
       "      <th>PAX_INJ_SERIOUS</th>\n",
       "      <th>PAX_INJ_FATAL</th>\n",
       "      <th>PAX_INJ_UNK</th>\n",
       "      <th>GRND_INJ_NONE</th>\n",
       "      <th>GRND_INJ_MINOR</th>\n",
       "      <th>GRND_INJ_SERIOUS</th>\n",
       "      <th>GRND_INJ_FATAL</th>\n",
       "      <th>GRND_INJ_UNK</th>\n",
       "    </tr>\n",
       "  </thead>\n",
       "  <tbody>\n",
       "    <tr>\n",
       "      <th>0</th>\n",
       "      <td>No</td>\n",
       "      <td>31-OCT-16</td>\n",
       "      <td>28-OCT-16</td>\n",
       "      <td>16:15:00Z</td>\n",
       "      <td>BLOOMFIELD</td>\n",
       "      <td>New Mexico</td>\n",
       "      <td>NaN</td>\n",
       "      <td>AIRCRAFT FORCE LANDED IN A DRY RIVER BED AFTER...</td>\n",
       "      <td>Accident</td>\n",
       "      <td>FAA Albuquerque FSDO-01</td>\n",
       "      <td>...</td>\n",
       "      <td>NaN</td>\n",
       "      <td>NaN</td>\n",
       "      <td>NaN</td>\n",
       "      <td>NaN</td>\n",
       "      <td>NaN</td>\n",
       "      <td>NaN</td>\n",
       "      <td>NaN</td>\n",
       "      <td>NaN</td>\n",
       "      <td>NaN</td>\n",
       "      <td>NaN</td>\n",
       "    </tr>\n",
       "    <tr>\n",
       "      <th>1</th>\n",
       "      <td>No</td>\n",
       "      <td>31-OCT-16</td>\n",
       "      <td>29-OCT-16</td>\n",
       "      <td>20:25:00Z</td>\n",
       "      <td>NEW BERN</td>\n",
       "      <td>North Carolina</td>\n",
       "      <td>NaN</td>\n",
       "      <td>AIRCRAFT SHORTLY AFTER TAKEOFF, CRASHED INTO T...</td>\n",
       "      <td>Accident</td>\n",
       "      <td>FAA Greensboro FSDO-39</td>\n",
       "      <td>...</td>\n",
       "      <td>NaN</td>\n",
       "      <td>NaN</td>\n",
       "      <td>NaN</td>\n",
       "      <td>NaN</td>\n",
       "      <td>NaN</td>\n",
       "      <td>NaN</td>\n",
       "      <td>NaN</td>\n",
       "      <td>NaN</td>\n",
       "      <td>NaN</td>\n",
       "      <td>NaN</td>\n",
       "    </tr>\n",
       "    <tr>\n",
       "      <th>2</th>\n",
       "      <td>No</td>\n",
       "      <td>31-OCT-16</td>\n",
       "      <td>28-OCT-16</td>\n",
       "      <td>20:25:00Z</td>\n",
       "      <td>STARBUCK</td>\n",
       "      <td>Washington</td>\n",
       "      <td>NaN</td>\n",
       "      <td>N369BD EUROCOPTER AS350B ECUREUIL ROTORCRAFT, ...</td>\n",
       "      <td>Accident</td>\n",
       "      <td>FAA Spokane FSDO-13</td>\n",
       "      <td>...</td>\n",
       "      <td>NaN</td>\n",
       "      <td>NaN</td>\n",
       "      <td>NaN</td>\n",
       "      <td>NaN</td>\n",
       "      <td>NaN</td>\n",
       "      <td>NaN</td>\n",
       "      <td>NaN</td>\n",
       "      <td>NaN</td>\n",
       "      <td>NaN</td>\n",
       "      <td>NaN</td>\n",
       "    </tr>\n",
       "    <tr>\n",
       "      <th>3</th>\n",
       "      <td>No</td>\n",
       "      <td>31-OCT-16</td>\n",
       "      <td>21-OCT-16</td>\n",
       "      <td>18:00:00Z</td>\n",
       "      <td>LLANO</td>\n",
       "      <td>Texas</td>\n",
       "      <td>NaN</td>\n",
       "      <td>AIRCRAFT ON LANDING GROUND LOOPED, LLANO, TX</td>\n",
       "      <td>Accident</td>\n",
       "      <td>FAA San Antonio FSDO-17</td>\n",
       "      <td>...</td>\n",
       "      <td>NaN</td>\n",
       "      <td>NaN</td>\n",
       "      <td>NaN</td>\n",
       "      <td>NaN</td>\n",
       "      <td>NaN</td>\n",
       "      <td>NaN</td>\n",
       "      <td>NaN</td>\n",
       "      <td>NaN</td>\n",
       "      <td>NaN</td>\n",
       "      <td>NaN</td>\n",
       "    </tr>\n",
       "    <tr>\n",
       "      <th>4</th>\n",
       "      <td>No</td>\n",
       "      <td>31-OCT-16</td>\n",
       "      <td>28-OCT-16</td>\n",
       "      <td>15:00:00Z</td>\n",
       "      <td>ASHERTON</td>\n",
       "      <td>Texas</td>\n",
       "      <td>NaN</td>\n",
       "      <td>N522KC ROBINSON R22 ROTORCRAFT FORCE LANDED NE...</td>\n",
       "      <td>Accident</td>\n",
       "      <td>FAA San Antonio FSDO-17</td>\n",
       "      <td>...</td>\n",
       "      <td>1.0</td>\n",
       "      <td>NaN</td>\n",
       "      <td>NaN</td>\n",
       "      <td>NaN</td>\n",
       "      <td>NaN</td>\n",
       "      <td>NaN</td>\n",
       "      <td>NaN</td>\n",
       "      <td>NaN</td>\n",
       "      <td>NaN</td>\n",
       "      <td>NaN</td>\n",
       "    </tr>\n",
       "  </tbody>\n",
       "</table>\n",
       "<p>5 rows × 42 columns</p>\n",
       "</div>"
      ],
      "text/plain": [
       "  UPDATED ENTRY_DATE EVENT_LCL_DATE EVENT_LCL_TIME LOC_CITY_NAME  \\\n",
       "0      No  31-OCT-16      28-OCT-16      16:15:00Z    BLOOMFIELD   \n",
       "1      No  31-OCT-16      29-OCT-16      20:25:00Z      NEW BERN   \n",
       "2      No  31-OCT-16      28-OCT-16      20:25:00Z      STARBUCK   \n",
       "3      No  31-OCT-16      21-OCT-16      18:00:00Z         LLANO   \n",
       "4      No  31-OCT-16      28-OCT-16      15:00:00Z      ASHERTON   \n",
       "\n",
       "   LOC_STATE_NAME  LOC_CNTRY_NAME  \\\n",
       "0      New Mexico             NaN   \n",
       "1  North Carolina             NaN   \n",
       "2      Washington             NaN   \n",
       "3           Texas             NaN   \n",
       "4           Texas             NaN   \n",
       "\n",
       "                                            RMK_TEXT EVENT_TYPE_DESC  \\\n",
       "0  AIRCRAFT FORCE LANDED IN A DRY RIVER BED AFTER...        Accident   \n",
       "1  AIRCRAFT SHORTLY AFTER TAKEOFF, CRASHED INTO T...        Accident   \n",
       "2  N369BD EUROCOPTER AS350B ECUREUIL ROTORCRAFT, ...        Accident   \n",
       "3       AIRCRAFT ON LANDING GROUND LOOPED, LLANO, TX        Accident   \n",
       "4  N522KC ROBINSON R22 ROTORCRAFT FORCE LANDED NE...        Accident   \n",
       "\n",
       "                 FSDO_DESC  ... PAX_INJ_NONE PAX_INJ_MINOR PAX_INJ_SERIOUS  \\\n",
       "0  FAA Albuquerque FSDO-01  ...          NaN           NaN             NaN   \n",
       "1   FAA Greensboro FSDO-39  ...          NaN           NaN             NaN   \n",
       "2      FAA Spokane FSDO-13  ...          NaN           NaN             NaN   \n",
       "3  FAA San Antonio FSDO-17  ...          NaN           NaN             NaN   \n",
       "4  FAA San Antonio FSDO-17  ...          1.0           NaN             NaN   \n",
       "\n",
       "  PAX_INJ_FATAL PAX_INJ_UNK  GRND_INJ_NONE GRND_INJ_MINOR GRND_INJ_SERIOUS  \\\n",
       "0           NaN         NaN            NaN            NaN              NaN   \n",
       "1           NaN         NaN            NaN            NaN              NaN   \n",
       "2           NaN         NaN            NaN            NaN              NaN   \n",
       "3           NaN         NaN            NaN            NaN              NaN   \n",
       "4           NaN         NaN            NaN            NaN              NaN   \n",
       "\n",
       "  GRND_INJ_FATAL  GRND_INJ_UNK  \n",
       "0            NaN           NaN  \n",
       "1            NaN           NaN  \n",
       "2            NaN           NaN  \n",
       "3            NaN           NaN  \n",
       "4            NaN           NaN  \n",
       "\n",
       "[5 rows x 42 columns]"
      ]
     },
     "execution_count": 259,
     "metadata": {},
     "output_type": "execute_result"
    }
   ],
   "source": [
    "df_faa_dataset.head(5)"
   ]
  },
  {
   "cell_type": "code",
   "execution_count": 260,
   "metadata": {},
   "outputs": [
    {
     "data": {
      "text/plain": [
       "Index(['UPDATED', 'ENTRY_DATE', 'EVENT_LCL_DATE', 'EVENT_LCL_TIME',\n",
       "       'LOC_CITY_NAME', 'LOC_STATE_NAME', 'LOC_CNTRY_NAME', 'RMK_TEXT',\n",
       "       'EVENT_TYPE_DESC', 'FSDO_DESC', 'REGIST_NBR', 'FLT_NBR', 'ACFT_OPRTR',\n",
       "       'ACFT_MAKE_NAME', 'ACFT_MODEL_NAME', 'ACFT_MISSING_FLAG',\n",
       "       'ACFT_DMG_DESC', 'FLT_ACTIVITY', 'FLT_PHASE', 'FAR_PART', 'MAX_INJ_LVL',\n",
       "       'FATAL_FLAG', 'FLT_CRW_INJ_NONE', 'FLT_CRW_INJ_MINOR',\n",
       "       'FLT_CRW_INJ_SERIOUS', 'FLT_CRW_INJ_FATAL', 'FLT_CRW_INJ_UNK',\n",
       "       'CBN_CRW_INJ_NONE', 'CBN_CRW_INJ_MINOR', 'CBN_CRW_INJ_SERIOUS',\n",
       "       'CBN_CRW_INJ_FATAL', 'CBN_CRW_INJ_UNK', 'PAX_INJ_NONE', 'PAX_INJ_MINOR',\n",
       "       'PAX_INJ_SERIOUS', 'PAX_INJ_FATAL', 'PAX_INJ_UNK', 'GRND_INJ_NONE',\n",
       "       'GRND_INJ_MINOR', 'GRND_INJ_SERIOUS', 'GRND_INJ_FATAL', 'GRND_INJ_UNK'],\n",
       "      dtype='object')"
      ]
     },
     "execution_count": 260,
     "metadata": {},
     "output_type": "execute_result"
    }
   ],
   "source": [
    "df_faa_dataset.columns"
   ]
  },
  {
   "cell_type": "code",
   "execution_count": 262,
   "metadata": {},
   "outputs": [],
   "source": [
    "df_analyze_dataset =df_faa_dataset[['ACFT_MAKE_NAME','LOC_STATE_NAME','ACFT_MODEL_NAME','RMK_TEXT','FLT_PHASE',\n",
    "                                  'EVENT_TYPE_DESC','FATAL_FLAG']]"
   ]
  },
  {
   "cell_type": "code",
   "execution_count": 263,
   "metadata": {},
   "outputs": [
    {
     "data": {
      "text/plain": [
       "pandas.core.frame.DataFrame"
      ]
     },
     "execution_count": 263,
     "metadata": {},
     "output_type": "execute_result"
    }
   ],
   "source": [
    "type(df_analyze_dataset)"
   ]
  },
  {
   "cell_type": "code",
   "execution_count": 264,
   "metadata": {},
   "outputs": [
    {
     "data": {
      "text/html": [
       "<div>\n",
       "<style scoped>\n",
       "    .dataframe tbody tr th:only-of-type {\n",
       "        vertical-align: middle;\n",
       "    }\n",
       "\n",
       "    .dataframe tbody tr th {\n",
       "        vertical-align: top;\n",
       "    }\n",
       "\n",
       "    .dataframe thead th {\n",
       "        text-align: right;\n",
       "    }\n",
       "</style>\n",
       "<table border=\"1\" class=\"dataframe\">\n",
       "  <thead>\n",
       "    <tr style=\"text-align: right;\">\n",
       "      <th></th>\n",
       "      <th>ACFT_MAKE_NAME</th>\n",
       "      <th>LOC_STATE_NAME</th>\n",
       "      <th>ACFT_MODEL_NAME</th>\n",
       "      <th>RMK_TEXT</th>\n",
       "      <th>FLT_PHASE</th>\n",
       "      <th>EVENT_TYPE_DESC</th>\n",
       "      <th>FATAL_FLAG</th>\n",
       "    </tr>\n",
       "  </thead>\n",
       "  <tbody>\n",
       "    <tr>\n",
       "      <th>0</th>\n",
       "      <td>CIRRUS</td>\n",
       "      <td>New Mexico</td>\n",
       "      <td>SR22</td>\n",
       "      <td>AIRCRAFT FORCE LANDED IN A DRY RIVER BED AFTER...</td>\n",
       "      <td>UNKNOWN (UNK)</td>\n",
       "      <td>Accident</td>\n",
       "      <td>NaN</td>\n",
       "    </tr>\n",
       "    <tr>\n",
       "      <th>1</th>\n",
       "      <td>PITTS</td>\n",
       "      <td>North Carolina</td>\n",
       "      <td>S1</td>\n",
       "      <td>AIRCRAFT SHORTLY AFTER TAKEOFF, CRASHED INTO T...</td>\n",
       "      <td>UNKNOWN (UNK)</td>\n",
       "      <td>Accident</td>\n",
       "      <td>NaN</td>\n",
       "    </tr>\n",
       "    <tr>\n",
       "      <th>2</th>\n",
       "      <td>EUROCOPTER</td>\n",
       "      <td>Washington</td>\n",
       "      <td>AS355</td>\n",
       "      <td>N369BD EUROCOPTER AS350B ECUREUIL ROTORCRAFT, ...</td>\n",
       "      <td>UNKNOWN (UNK)</td>\n",
       "      <td>Accident</td>\n",
       "      <td>NaN</td>\n",
       "    </tr>\n",
       "    <tr>\n",
       "      <th>3</th>\n",
       "      <td>CESSNA</td>\n",
       "      <td>Texas</td>\n",
       "      <td>305</td>\n",
       "      <td>AIRCRAFT ON LANDING GROUND LOOPED, LLANO, TX</td>\n",
       "      <td>LANDING (LDG)</td>\n",
       "      <td>Accident</td>\n",
       "      <td>NaN</td>\n",
       "    </tr>\n",
       "    <tr>\n",
       "      <th>4</th>\n",
       "      <td>ROBINSON</td>\n",
       "      <td>Texas</td>\n",
       "      <td>R22</td>\n",
       "      <td>N522KC ROBINSON R22 ROTORCRAFT FORCE LANDED NE...</td>\n",
       "      <td>UNKNOWN (UNK)</td>\n",
       "      <td>Accident</td>\n",
       "      <td>NaN</td>\n",
       "    </tr>\n",
       "  </tbody>\n",
       "</table>\n",
       "</div>"
      ],
      "text/plain": [
       "  ACFT_MAKE_NAME  LOC_STATE_NAME ACFT_MODEL_NAME  \\\n",
       "0         CIRRUS      New Mexico            SR22   \n",
       "1          PITTS  North Carolina              S1   \n",
       "2     EUROCOPTER      Washington           AS355   \n",
       "3         CESSNA           Texas             305   \n",
       "4       ROBINSON           Texas             R22   \n",
       "\n",
       "                                            RMK_TEXT      FLT_PHASE  \\\n",
       "0  AIRCRAFT FORCE LANDED IN A DRY RIVER BED AFTER...  UNKNOWN (UNK)   \n",
       "1  AIRCRAFT SHORTLY AFTER TAKEOFF, CRASHED INTO T...  UNKNOWN (UNK)   \n",
       "2  N369BD EUROCOPTER AS350B ECUREUIL ROTORCRAFT, ...  UNKNOWN (UNK)   \n",
       "3       AIRCRAFT ON LANDING GROUND LOOPED, LLANO, TX  LANDING (LDG)   \n",
       "4  N522KC ROBINSON R22 ROTORCRAFT FORCE LANDED NE...  UNKNOWN (UNK)   \n",
       "\n",
       "  EVENT_TYPE_DESC FATAL_FLAG  \n",
       "0        Accident        NaN  \n",
       "1        Accident        NaN  \n",
       "2        Accident        NaN  \n",
       "3        Accident        NaN  \n",
       "4        Accident        NaN  "
      ]
     },
     "execution_count": 264,
     "metadata": {},
     "output_type": "execute_result"
    }
   ],
   "source": [
    "df_analyze_dataset.head()"
   ]
  },
  {
   "cell_type": "code",
   "execution_count": 266,
   "metadata": {},
   "outputs": [
    {
     "name": "stderr",
     "output_type": "stream",
     "text": [
      "C:\\Users\\thyagaraj\\Anaconda3\\lib\\site-packages\\pandas\\core\\generic.py:6130: SettingWithCopyWarning: \n",
      "A value is trying to be set on a copy of a slice from a DataFrame\n",
      "\n",
      "See the caveats in the documentation: http://pandas.pydata.org/pandas-docs/stable/indexing.html#indexing-view-versus-copy\n",
      "  self._update_inplace(new_data)\n"
     ]
    }
   ],
   "source": [
    "df_analyze_dataset['FATAL_FLAG'].fillna(value='No',inplace = True)"
   ]
  },
  {
   "cell_type": "code",
   "execution_count": 267,
   "metadata": {},
   "outputs": [
    {
     "data": {
      "text/html": [
       "<div>\n",
       "<style scoped>\n",
       "    .dataframe tbody tr th:only-of-type {\n",
       "        vertical-align: middle;\n",
       "    }\n",
       "\n",
       "    .dataframe tbody tr th {\n",
       "        vertical-align: top;\n",
       "    }\n",
       "\n",
       "    .dataframe thead th {\n",
       "        text-align: right;\n",
       "    }\n",
       "</style>\n",
       "<table border=\"1\" class=\"dataframe\">\n",
       "  <thead>\n",
       "    <tr style=\"text-align: right;\">\n",
       "      <th></th>\n",
       "      <th>ACFT_MAKE_NAME</th>\n",
       "      <th>LOC_STATE_NAME</th>\n",
       "      <th>ACFT_MODEL_NAME</th>\n",
       "      <th>RMK_TEXT</th>\n",
       "      <th>FLT_PHASE</th>\n",
       "      <th>EVENT_TYPE_DESC</th>\n",
       "      <th>FATAL_FLAG</th>\n",
       "    </tr>\n",
       "  </thead>\n",
       "  <tbody>\n",
       "    <tr>\n",
       "      <th>0</th>\n",
       "      <td>CIRRUS</td>\n",
       "      <td>New Mexico</td>\n",
       "      <td>SR22</td>\n",
       "      <td>AIRCRAFT FORCE LANDED IN A DRY RIVER BED AFTER...</td>\n",
       "      <td>UNKNOWN (UNK)</td>\n",
       "      <td>Accident</td>\n",
       "      <td>No</td>\n",
       "    </tr>\n",
       "    <tr>\n",
       "      <th>1</th>\n",
       "      <td>PITTS</td>\n",
       "      <td>North Carolina</td>\n",
       "      <td>S1</td>\n",
       "      <td>AIRCRAFT SHORTLY AFTER TAKEOFF, CRASHED INTO T...</td>\n",
       "      <td>UNKNOWN (UNK)</td>\n",
       "      <td>Accident</td>\n",
       "      <td>No</td>\n",
       "    </tr>\n",
       "    <tr>\n",
       "      <th>2</th>\n",
       "      <td>EUROCOPTER</td>\n",
       "      <td>Washington</td>\n",
       "      <td>AS355</td>\n",
       "      <td>N369BD EUROCOPTER AS350B ECUREUIL ROTORCRAFT, ...</td>\n",
       "      <td>UNKNOWN (UNK)</td>\n",
       "      <td>Accident</td>\n",
       "      <td>No</td>\n",
       "    </tr>\n",
       "    <tr>\n",
       "      <th>3</th>\n",
       "      <td>CESSNA</td>\n",
       "      <td>Texas</td>\n",
       "      <td>305</td>\n",
       "      <td>AIRCRAFT ON LANDING GROUND LOOPED, LLANO, TX</td>\n",
       "      <td>LANDING (LDG)</td>\n",
       "      <td>Accident</td>\n",
       "      <td>No</td>\n",
       "    </tr>\n",
       "    <tr>\n",
       "      <th>4</th>\n",
       "      <td>ROBINSON</td>\n",
       "      <td>Texas</td>\n",
       "      <td>R22</td>\n",
       "      <td>N522KC ROBINSON R22 ROTORCRAFT FORCE LANDED NE...</td>\n",
       "      <td>UNKNOWN (UNK)</td>\n",
       "      <td>Accident</td>\n",
       "      <td>No</td>\n",
       "    </tr>\n",
       "  </tbody>\n",
       "</table>\n",
       "</div>"
      ],
      "text/plain": [
       "  ACFT_MAKE_NAME  LOC_STATE_NAME ACFT_MODEL_NAME  \\\n",
       "0         CIRRUS      New Mexico            SR22   \n",
       "1          PITTS  North Carolina              S1   \n",
       "2     EUROCOPTER      Washington           AS355   \n",
       "3         CESSNA           Texas             305   \n",
       "4       ROBINSON           Texas             R22   \n",
       "\n",
       "                                            RMK_TEXT      FLT_PHASE  \\\n",
       "0  AIRCRAFT FORCE LANDED IN A DRY RIVER BED AFTER...  UNKNOWN (UNK)   \n",
       "1  AIRCRAFT SHORTLY AFTER TAKEOFF, CRASHED INTO T...  UNKNOWN (UNK)   \n",
       "2  N369BD EUROCOPTER AS350B ECUREUIL ROTORCRAFT, ...  UNKNOWN (UNK)   \n",
       "3       AIRCRAFT ON LANDING GROUND LOOPED, LLANO, TX  LANDING (LDG)   \n",
       "4  N522KC ROBINSON R22 ROTORCRAFT FORCE LANDED NE...  UNKNOWN (UNK)   \n",
       "\n",
       "  EVENT_TYPE_DESC FATAL_FLAG  \n",
       "0        Accident         No  \n",
       "1        Accident         No  \n",
       "2        Accident         No  \n",
       "3        Accident         No  \n",
       "4        Accident         No  "
      ]
     },
     "execution_count": 267,
     "metadata": {},
     "output_type": "execute_result"
    }
   ],
   "source": [
    "df_analyze_dataset.head()"
   ]
  },
  {
   "cell_type": "code",
   "execution_count": 285,
   "metadata": {},
   "outputs": [
    {
     "data": {
      "text/plain": [
       "(87, 7)"
      ]
     },
     "execution_count": 285,
     "metadata": {},
     "output_type": "execute_result"
    }
   ],
   "source": [
    "df_analyze_dataset.shape"
   ]
  },
  {
   "cell_type": "code",
   "execution_count": 286,
   "metadata": {},
   "outputs": [],
   "source": [
    "df_final_dataset= df_analyze_dataset.dropna(subset=['ACFT_MAKE_NAME'])"
   ]
  },
  {
   "cell_type": "code",
   "execution_count": 287,
   "metadata": {},
   "outputs": [
    {
     "data": {
      "text/plain": [
       "(87, 7)"
      ]
     },
     "execution_count": 287,
     "metadata": {},
     "output_type": "execute_result"
    }
   ],
   "source": [
    "df_final_dataset.shape"
   ]
  },
  {
   "cell_type": "code",
   "execution_count": 288,
   "metadata": {},
   "outputs": [],
   "source": [
    "aircraftType= df_final_dataset.groupby('ACFT_MAKE_NAME')"
   ]
  },
  {
   "cell_type": "code",
   "execution_count": 289,
   "metadata": {},
   "outputs": [
    {
     "data": {
      "text/plain": [
       "ACFT_MAKE_NAME\n",
       "AEROSTAR INTERNATIONAL     1\n",
       "AIR TRACTOR                1\n",
       "AIRBUS                     1\n",
       "AVIAT                      3\n",
       "BEECH                     11\n",
       "BELL                       1\n",
       "BOEING                     4\n",
       "BOMBARDIER                 1\n",
       "CESSNA                    27\n",
       "CIRRUS                     2\n",
       "DIAMOND                    2\n",
       "EUROCOPTER                 1\n",
       "GREAT LAKES                1\n",
       "LANCAIR                    2\n",
       "MCDONNELL DOUGLAS          1\n",
       "MOONEY                     3\n",
       "NORTH AMERICAN             1\n",
       "PILATUS                    1\n",
       "PIPER                     10\n",
       "PITTS                      1\n",
       "PROGRESSIVE AERODYNE       1\n",
       "RAYTHEON                   1\n",
       "ROBINSON                   1\n",
       "ROCKWELL                   1\n",
       "STEARMAN                   2\n",
       "STINSON                    2\n",
       "VANS                       2\n",
       "WITTMAN                    1\n",
       "ZENITH                     1\n",
       "dtype: int64"
      ]
     },
     "execution_count": 289,
     "metadata": {},
     "output_type": "execute_result"
    }
   ],
   "source": [
    "aircraftType .size()"
   ]
  },
  {
   "cell_type": "code",
   "execution_count": 290,
   "metadata": {},
   "outputs": [],
   "source": [
    "fatalAccidents = df_final_dataset.groupby('FATAL_FLAG')"
   ]
  },
  {
   "cell_type": "code",
   "execution_count": 291,
   "metadata": {},
   "outputs": [
    {
     "data": {
      "text/plain": [
       "FATAL_FLAG\n",
       "No     81\n",
       "Yes     6\n",
       "dtype: int64"
      ]
     },
     "execution_count": 291,
     "metadata": {},
     "output_type": "execute_result"
    }
   ],
   "source": [
    "fatalAccidents.size()"
   ]
  },
  {
   "cell_type": "code",
   "execution_count": 292,
   "metadata": {},
   "outputs": [],
   "source": [
    "accidents_with_fatality = fatalAccidents.get_group('Yes')"
   ]
  },
  {
   "cell_type": "code",
   "execution_count": 293,
   "metadata": {},
   "outputs": [
    {
     "data": {
      "text/html": [
       "<div>\n",
       "<style scoped>\n",
       "    .dataframe tbody tr th:only-of-type {\n",
       "        vertical-align: middle;\n",
       "    }\n",
       "\n",
       "    .dataframe tbody tr th {\n",
       "        vertical-align: top;\n",
       "    }\n",
       "\n",
       "    .dataframe thead th {\n",
       "        text-align: right;\n",
       "    }\n",
       "</style>\n",
       "<table border=\"1\" class=\"dataframe\">\n",
       "  <thead>\n",
       "    <tr style=\"text-align: right;\">\n",
       "      <th></th>\n",
       "      <th>ACFT_MAKE_NAME</th>\n",
       "      <th>LOC_STATE_NAME</th>\n",
       "      <th>ACFT_MODEL_NAME</th>\n",
       "      <th>RMK_TEXT</th>\n",
       "      <th>FLT_PHASE</th>\n",
       "      <th>EVENT_TYPE_DESC</th>\n",
       "      <th>FATAL_FLAG</th>\n",
       "    </tr>\n",
       "  </thead>\n",
       "  <tbody>\n",
       "    <tr>\n",
       "      <th>5</th>\n",
       "      <td>CESSNA</td>\n",
       "      <td>Alaska</td>\n",
       "      <td>172</td>\n",
       "      <td>AIRCRAFT CRASHED ONTO THE KNIK RIVER BANK UNDE...</td>\n",
       "      <td>UNKNOWN (UNK)</td>\n",
       "      <td>Accident</td>\n",
       "      <td>Yes</td>\n",
       "    </tr>\n",
       "    <tr>\n",
       "      <th>6</th>\n",
       "      <td>AVIAT</td>\n",
       "      <td>Texas</td>\n",
       "      <td>A1</td>\n",
       "      <td>AIRCRAFT CRASHED UNDER UNKNOWN CIRCUMSTANCES, ...</td>\n",
       "      <td>UNKNOWN (UNK)</td>\n",
       "      <td>Accident</td>\n",
       "      <td>Yes</td>\n",
       "    </tr>\n",
       "    <tr>\n",
       "      <th>20</th>\n",
       "      <td>WITTMAN</td>\n",
       "      <td>Texas</td>\n",
       "      <td>W10</td>\n",
       "      <td>AIRCRAFT CRASHED UNDER UNKNOWN CIRCUMSTANCES, ...</td>\n",
       "      <td>UNKNOWN (UNK)</td>\n",
       "      <td>Accident</td>\n",
       "      <td>Yes</td>\n",
       "    </tr>\n",
       "    <tr>\n",
       "      <th>21</th>\n",
       "      <td>BEECH</td>\n",
       "      <td>California</td>\n",
       "      <td>36</td>\n",
       "      <td>AIRCRAFT CRASHED IN A RURAL AREA AND BURNED, T...</td>\n",
       "      <td>UNKNOWN (UNK)</td>\n",
       "      <td>Accident</td>\n",
       "      <td>Yes</td>\n",
       "    </tr>\n",
       "    <tr>\n",
       "      <th>51</th>\n",
       "      <td>VANS</td>\n",
       "      <td>Wyoming</td>\n",
       "      <td>RV10</td>\n",
       "      <td>AIRCRAFT CRASHED OFF THE AIRPORT AND CAUGHT FI...</td>\n",
       "      <td>UNKNOWN (UNK)</td>\n",
       "      <td>Accident</td>\n",
       "      <td>Yes</td>\n",
       "    </tr>\n",
       "    <tr>\n",
       "      <th>57</th>\n",
       "      <td>PILATUS</td>\n",
       "      <td>Alaska</td>\n",
       "      <td>PC6</td>\n",
       "      <td>AIRCRAFT CRASHED UNDER UNKNOWN CIRCUMSTANCES, ...</td>\n",
       "      <td>UNKNOWN (UNK)</td>\n",
       "      <td>Accident</td>\n",
       "      <td>Yes</td>\n",
       "    </tr>\n",
       "  </tbody>\n",
       "</table>\n",
       "</div>"
      ],
      "text/plain": [
       "   ACFT_MAKE_NAME LOC_STATE_NAME ACFT_MODEL_NAME  \\\n",
       "5          CESSNA         Alaska             172   \n",
       "6           AVIAT          Texas              A1   \n",
       "20        WITTMAN          Texas             W10   \n",
       "21          BEECH     California              36   \n",
       "51           VANS        Wyoming            RV10   \n",
       "57        PILATUS         Alaska             PC6   \n",
       "\n",
       "                                             RMK_TEXT      FLT_PHASE  \\\n",
       "5   AIRCRAFT CRASHED ONTO THE KNIK RIVER BANK UNDE...  UNKNOWN (UNK)   \n",
       "6   AIRCRAFT CRASHED UNDER UNKNOWN CIRCUMSTANCES, ...  UNKNOWN (UNK)   \n",
       "20  AIRCRAFT CRASHED UNDER UNKNOWN CIRCUMSTANCES, ...  UNKNOWN (UNK)   \n",
       "21  AIRCRAFT CRASHED IN A RURAL AREA AND BURNED, T...  UNKNOWN (UNK)   \n",
       "51  AIRCRAFT CRASHED OFF THE AIRPORT AND CAUGHT FI...  UNKNOWN (UNK)   \n",
       "57  AIRCRAFT CRASHED UNDER UNKNOWN CIRCUMSTANCES, ...  UNKNOWN (UNK)   \n",
       "\n",
       "   EVENT_TYPE_DESC FATAL_FLAG  \n",
       "5         Accident        Yes  \n",
       "6         Accident        Yes  \n",
       "20        Accident        Yes  \n",
       "21        Accident        Yes  \n",
       "51        Accident        Yes  \n",
       "57        Accident        Yes  "
      ]
     },
     "execution_count": 293,
     "metadata": {},
     "output_type": "execute_result"
    }
   ],
   "source": [
    "accidents_with_fatality "
   ]
  },
  {
   "cell_type": "code",
   "execution_count": null,
   "metadata": {},
   "outputs": [],
   "source": []
  },
  {
   "cell_type": "markdown",
   "metadata": {},
   "source": [
    "# Assignment 02\n"
   ]
  },
  {
   "cell_type": "markdown",
   "metadata": {},
   "source": [
    "### A dataset in CSV format is given for the Fire Department of New York City. Analyze the dataset to determine: "
   ]
  },
  {
   "cell_type": "markdown",
   "metadata": {},
   "source": [
    "#### 1. The total number of fire department facilities in New York city \n",
    "#### 2. The number of fire department facilities in each borough \n",
    "#### 3. The facility names in Manhattan\n"
   ]
  },
  {
   "cell_type": "code",
   "execution_count": 1,
   "metadata": {},
   "outputs": [],
   "source": [
    "import pandas as pd"
   ]
  },
  {
   "cell_type": "code",
   "execution_count": 24,
   "metadata": {},
   "outputs": [],
   "source": [
    "df_fdny_csv_data_raw = pd.read_csv('fdny-firehouse-listing.csv')"
   ]
  },
  {
   "cell_type": "code",
   "execution_count": 25,
   "metadata": {},
   "outputs": [
    {
     "data": {
      "text/html": [
       "<div>\n",
       "<style scoped>\n",
       "    .dataframe tbody tr th:only-of-type {\n",
       "        vertical-align: middle;\n",
       "    }\n",
       "\n",
       "    .dataframe tbody tr th {\n",
       "        vertical-align: top;\n",
       "    }\n",
       "\n",
       "    .dataframe thead th {\n",
       "        text-align: right;\n",
       "    }\n",
       "</style>\n",
       "<table border=\"1\" class=\"dataframe\">\n",
       "  <thead>\n",
       "    <tr style=\"text-align: right;\">\n",
       "      <th></th>\n",
       "      <th>Postcode</th>\n",
       "      <th>Latitude</th>\n",
       "      <th>Longitude</th>\n",
       "      <th>Community Board</th>\n",
       "      <th>Community Council</th>\n",
       "      <th>Census Tract</th>\n",
       "      <th>BIN</th>\n",
       "      <th>BBL</th>\n",
       "    </tr>\n",
       "  </thead>\n",
       "  <tbody>\n",
       "    <tr>\n",
       "      <th>count</th>\n",
       "      <td>213.000000</td>\n",
       "      <td>213.000000</td>\n",
       "      <td>213.000000</td>\n",
       "      <td>213.000000</td>\n",
       "      <td>213.000000</td>\n",
       "      <td>213.000000</td>\n",
       "      <td>2.130000e+02</td>\n",
       "      <td>2.130000e+02</td>\n",
       "    </tr>\n",
       "    <tr>\n",
       "      <th>mean</th>\n",
       "      <td>10783.774648</td>\n",
       "      <td>40.719125</td>\n",
       "      <td>-73.937440</td>\n",
       "      <td>7.075117</td>\n",
       "      <td>25.629108</td>\n",
       "      <td>5949.535211</td>\n",
       "      <td>2.900421e+06</td>\n",
       "      <td>2.849843e+09</td>\n",
       "    </tr>\n",
       "    <tr>\n",
       "      <th>std</th>\n",
       "      <td>556.522394</td>\n",
       "      <td>0.083674</td>\n",
       "      <td>0.093686</td>\n",
       "      <td>7.033880</td>\n",
       "      <td>15.648512</td>\n",
       "      <td>19571.786111</td>\n",
       "      <td>1.306104e+06</td>\n",
       "      <td>1.285511e+09</td>\n",
       "    </tr>\n",
       "    <tr>\n",
       "      <th>min</th>\n",
       "      <td>10001.000000</td>\n",
       "      <td>40.512518</td>\n",
       "      <td>-74.238822</td>\n",
       "      <td>1.000000</td>\n",
       "      <td>1.000000</td>\n",
       "      <td>1.000000</td>\n",
       "      <td>1.000867e+06</td>\n",
       "      <td>1.000350e+09</td>\n",
       "    </tr>\n",
       "    <tr>\n",
       "      <th>25%</th>\n",
       "      <td>10304.000000</td>\n",
       "      <td>40.663404</td>\n",
       "      <td>-73.987182</td>\n",
       "      <td>3.000000</td>\n",
       "      <td>12.000000</td>\n",
       "      <td>129.000000</td>\n",
       "      <td>2.003268e+06</td>\n",
       "      <td>2.025140e+09</td>\n",
       "    </tr>\n",
       "    <tr>\n",
       "      <th>50%</th>\n",
       "      <td>11103.000000</td>\n",
       "      <td>40.715147</td>\n",
       "      <td>-73.938066</td>\n",
       "      <td>6.000000</td>\n",
       "      <td>27.000000</td>\n",
       "      <td>275.000000</td>\n",
       "      <td>3.064786e+06</td>\n",
       "      <td>3.024650e+09</td>\n",
       "    </tr>\n",
       "    <tr>\n",
       "      <th>75%</th>\n",
       "      <td>11231.000000</td>\n",
       "      <td>40.774505</td>\n",
       "      <td>-73.886796</td>\n",
       "      <td>11.000000</td>\n",
       "      <td>38.000000</td>\n",
       "      <td>800.000000</td>\n",
       "      <td>4.090228e+06</td>\n",
       "      <td>4.032940e+09</td>\n",
       "    </tr>\n",
       "    <tr>\n",
       "      <th>max</th>\n",
       "      <td>11695.000000</td>\n",
       "      <td>40.892803</td>\n",
       "      <td>-73.716559</td>\n",
       "      <td>84.000000</td>\n",
       "      <td>51.000000</td>\n",
       "      <td>157902.000000</td>\n",
       "      <td>5.154879e+06</td>\n",
       "      <td>5.080400e+09</td>\n",
       "    </tr>\n",
       "  </tbody>\n",
       "</table>\n",
       "</div>"
      ],
      "text/plain": [
       "           Postcode    Latitude   Longitude  Community Board  \\\n",
       "count    213.000000  213.000000  213.000000       213.000000   \n",
       "mean   10783.774648   40.719125  -73.937440         7.075117   \n",
       "std      556.522394    0.083674    0.093686         7.033880   \n",
       "min    10001.000000   40.512518  -74.238822         1.000000   \n",
       "25%    10304.000000   40.663404  -73.987182         3.000000   \n",
       "50%    11103.000000   40.715147  -73.938066         6.000000   \n",
       "75%    11231.000000   40.774505  -73.886796        11.000000   \n",
       "max    11695.000000   40.892803  -73.716559        84.000000   \n",
       "\n",
       "       Community Council    Census Tract           BIN           BBL  \n",
       "count          213.000000     213.000000  2.130000e+02  2.130000e+02  \n",
       "mean            25.629108    5949.535211  2.900421e+06  2.849843e+09  \n",
       "std             15.648512   19571.786111  1.306104e+06  1.285511e+09  \n",
       "min              1.000000       1.000000  1.000867e+06  1.000350e+09  \n",
       "25%             12.000000     129.000000  2.003268e+06  2.025140e+09  \n",
       "50%             27.000000     275.000000  3.064786e+06  3.024650e+09  \n",
       "75%             38.000000     800.000000  4.090228e+06  4.032940e+09  \n",
       "max             51.000000  157902.000000  5.154879e+06  5.080400e+09  "
      ]
     },
     "execution_count": 25,
     "metadata": {},
     "output_type": "execute_result"
    }
   ],
   "source": [
    "df_fdny_csv_data_raw.describe()"
   ]
  },
  {
   "cell_type": "code",
   "execution_count": 26,
   "metadata": {},
   "outputs": [
    {
     "data": {
      "text/html": [
       "<div>\n",
       "<style scoped>\n",
       "    .dataframe tbody tr th:only-of-type {\n",
       "        vertical-align: middle;\n",
       "    }\n",
       "\n",
       "    .dataframe tbody tr th {\n",
       "        vertical-align: top;\n",
       "    }\n",
       "\n",
       "    .dataframe thead th {\n",
       "        text-align: right;\n",
       "    }\n",
       "</style>\n",
       "<table border=\"1\" class=\"dataframe\">\n",
       "  <thead>\n",
       "    <tr style=\"text-align: right;\">\n",
       "      <th></th>\n",
       "      <th>FacilityName</th>\n",
       "      <th>FacilityAddress</th>\n",
       "      <th>Borough</th>\n",
       "      <th>Postcode</th>\n",
       "      <th>Latitude</th>\n",
       "      <th>Longitude</th>\n",
       "      <th>Community Board</th>\n",
       "      <th>Community Council</th>\n",
       "      <th>Census Tract</th>\n",
       "      <th>BIN</th>\n",
       "      <th>BBL</th>\n",
       "      <th>NTA</th>\n",
       "    </tr>\n",
       "  </thead>\n",
       "  <tbody>\n",
       "    <tr>\n",
       "      <th>0</th>\n",
       "      <td>Engine 4/Ladder 15</td>\n",
       "      <td>42 South Street</td>\n",
       "      <td>Manhattan</td>\n",
       "      <td>10005.0</td>\n",
       "      <td>40.703466</td>\n",
       "      <td>-74.007538</td>\n",
       "      <td>1.0</td>\n",
       "      <td>1.0</td>\n",
       "      <td>7.0</td>\n",
       "      <td>1000867.0</td>\n",
       "      <td>1.000350e+09</td>\n",
       "      <td>Battery Park City-Lower Manhattan             ...</td>\n",
       "    </tr>\n",
       "    <tr>\n",
       "      <th>1</th>\n",
       "      <td>Engine 10/Ladder 10</td>\n",
       "      <td>124 Liberty Street</td>\n",
       "      <td>Manhattan</td>\n",
       "      <td>10006.0</td>\n",
       "      <td>40.710072</td>\n",
       "      <td>-74.012523</td>\n",
       "      <td>1.0</td>\n",
       "      <td>1.0</td>\n",
       "      <td>13.0</td>\n",
       "      <td>1075700.0</td>\n",
       "      <td>1.000520e+09</td>\n",
       "      <td>Battery Park City-Lower Manhattan             ...</td>\n",
       "    </tr>\n",
       "    <tr>\n",
       "      <th>2</th>\n",
       "      <td>Engine 6</td>\n",
       "      <td>49 Beekman Street</td>\n",
       "      <td>Manhattan</td>\n",
       "      <td>10038.0</td>\n",
       "      <td>40.710048</td>\n",
       "      <td>-74.005245</td>\n",
       "      <td>1.0</td>\n",
       "      <td>1.0</td>\n",
       "      <td>1501.0</td>\n",
       "      <td>1001287.0</td>\n",
       "      <td>1.000930e+09</td>\n",
       "      <td>Battery Park City-Lower Manhattan             ...</td>\n",
       "    </tr>\n",
       "    <tr>\n",
       "      <th>3</th>\n",
       "      <td>Engine 7/Ladder 1/Battalion 1/Manhattan Boroug...</td>\n",
       "      <td>100-104 Duane Street</td>\n",
       "      <td>Manhattan</td>\n",
       "      <td>10007.0</td>\n",
       "      <td>40.715463</td>\n",
       "      <td>-74.005938</td>\n",
       "      <td>1.0</td>\n",
       "      <td>1.0</td>\n",
       "      <td>33.0</td>\n",
       "      <td>1001647.0</td>\n",
       "      <td>1.001500e+09</td>\n",
       "      <td>SoHo-TriBeCa-Civic Center-Little Italy        ...</td>\n",
       "    </tr>\n",
       "    <tr>\n",
       "      <th>4</th>\n",
       "      <td>Ladder 8</td>\n",
       "      <td>14 North Moore Street</td>\n",
       "      <td>Manhattan</td>\n",
       "      <td>10013.0</td>\n",
       "      <td>40.719759</td>\n",
       "      <td>-74.006678</td>\n",
       "      <td>1.0</td>\n",
       "      <td>1.0</td>\n",
       "      <td>33.0</td>\n",
       "      <td>1002150.0</td>\n",
       "      <td>1.001890e+09</td>\n",
       "      <td>SoHo-TriBeCa-Civic Center-Little Italy        ...</td>\n",
       "    </tr>\n",
       "  </tbody>\n",
       "</table>\n",
       "</div>"
      ],
      "text/plain": [
       "                                        FacilityName        FacilityAddress  \\\n",
       "0                                 Engine 4/Ladder 15        42 South Street   \n",
       "1                                Engine 10/Ladder 10     124 Liberty Street   \n",
       "2                                           Engine 6      49 Beekman Street   \n",
       "3  Engine 7/Ladder 1/Battalion 1/Manhattan Boroug...   100-104 Duane Street   \n",
       "4                                           Ladder 8  14 North Moore Street   \n",
       "\n",
       "     Borough  Postcode   Latitude  Longitude  Community Board  \\\n",
       "0  Manhattan   10005.0  40.703466 -74.007538              1.0   \n",
       "1  Manhattan   10006.0  40.710072 -74.012523              1.0   \n",
       "2  Manhattan   10038.0  40.710048 -74.005245              1.0   \n",
       "3  Manhattan   10007.0  40.715463 -74.005938              1.0   \n",
       "4  Manhattan   10013.0  40.719759 -74.006678              1.0   \n",
       "\n",
       "   Community Council   Census Tract        BIN           BBL  \\\n",
       "0                 1.0           7.0  1000867.0  1.000350e+09   \n",
       "1                 1.0          13.0  1075700.0  1.000520e+09   \n",
       "2                 1.0        1501.0  1001287.0  1.000930e+09   \n",
       "3                 1.0          33.0  1001647.0  1.001500e+09   \n",
       "4                 1.0          33.0  1002150.0  1.001890e+09   \n",
       "\n",
       "                                                 NTA  \n",
       "0  Battery Park City-Lower Manhattan             ...  \n",
       "1  Battery Park City-Lower Manhattan             ...  \n",
       "2  Battery Park City-Lower Manhattan             ...  \n",
       "3  SoHo-TriBeCa-Civic Center-Little Italy        ...  \n",
       "4  SoHo-TriBeCa-Civic Center-Little Italy        ...  "
      ]
     },
     "execution_count": 26,
     "metadata": {},
     "output_type": "execute_result"
    }
   ],
   "source": [
    "df_fdny_csv_data_raw.head(5)"
   ]
  },
  {
   "cell_type": "code",
   "execution_count": 30,
   "metadata": {},
   "outputs": [],
   "source": [
    "df_fdny_csv_data = pd.read_csv('fdny-firehouse-listing.csv')"
   ]
  },
  {
   "cell_type": "code",
   "execution_count": 31,
   "metadata": {},
   "outputs": [
    {
     "data": {
      "text/html": [
       "<div>\n",
       "<style scoped>\n",
       "    .dataframe tbody tr th:only-of-type {\n",
       "        vertical-align: middle;\n",
       "    }\n",
       "\n",
       "    .dataframe tbody tr th {\n",
       "        vertical-align: top;\n",
       "    }\n",
       "\n",
       "    .dataframe thead th {\n",
       "        text-align: right;\n",
       "    }\n",
       "</style>\n",
       "<table border=\"1\" class=\"dataframe\">\n",
       "  <thead>\n",
       "    <tr style=\"text-align: right;\">\n",
       "      <th></th>\n",
       "      <th>FacilityName</th>\n",
       "      <th>FacilityAddress</th>\n",
       "      <th>Borough</th>\n",
       "      <th>Postcode</th>\n",
       "      <th>Latitude</th>\n",
       "      <th>Longitude</th>\n",
       "      <th>Community Board</th>\n",
       "      <th>Community Council</th>\n",
       "      <th>Census Tract</th>\n",
       "      <th>BIN</th>\n",
       "      <th>BBL</th>\n",
       "      <th>NTA</th>\n",
       "    </tr>\n",
       "  </thead>\n",
       "  <tbody>\n",
       "    <tr>\n",
       "      <th>0</th>\n",
       "      <td>Engine 4/Ladder 15</td>\n",
       "      <td>42 South Street</td>\n",
       "      <td>Manhattan</td>\n",
       "      <td>10005.0</td>\n",
       "      <td>40.703466</td>\n",
       "      <td>-74.007538</td>\n",
       "      <td>1.0</td>\n",
       "      <td>1.0</td>\n",
       "      <td>7.0</td>\n",
       "      <td>1000867.0</td>\n",
       "      <td>1.000350e+09</td>\n",
       "      <td>Battery Park City-Lower Manhattan             ...</td>\n",
       "    </tr>\n",
       "    <tr>\n",
       "      <th>1</th>\n",
       "      <td>Engine 10/Ladder 10</td>\n",
       "      <td>124 Liberty Street</td>\n",
       "      <td>Manhattan</td>\n",
       "      <td>10006.0</td>\n",
       "      <td>40.710072</td>\n",
       "      <td>-74.012523</td>\n",
       "      <td>1.0</td>\n",
       "      <td>1.0</td>\n",
       "      <td>13.0</td>\n",
       "      <td>1075700.0</td>\n",
       "      <td>1.000520e+09</td>\n",
       "      <td>Battery Park City-Lower Manhattan             ...</td>\n",
       "    </tr>\n",
       "    <tr>\n",
       "      <th>2</th>\n",
       "      <td>Engine 6</td>\n",
       "      <td>49 Beekman Street</td>\n",
       "      <td>Manhattan</td>\n",
       "      <td>10038.0</td>\n",
       "      <td>40.710048</td>\n",
       "      <td>-74.005245</td>\n",
       "      <td>1.0</td>\n",
       "      <td>1.0</td>\n",
       "      <td>1501.0</td>\n",
       "      <td>1001287.0</td>\n",
       "      <td>1.000930e+09</td>\n",
       "      <td>Battery Park City-Lower Manhattan             ...</td>\n",
       "    </tr>\n",
       "    <tr>\n",
       "      <th>3</th>\n",
       "      <td>Engine 7/Ladder 1/Battalion 1/Manhattan Boroug...</td>\n",
       "      <td>100-104 Duane Street</td>\n",
       "      <td>Manhattan</td>\n",
       "      <td>10007.0</td>\n",
       "      <td>40.715463</td>\n",
       "      <td>-74.005938</td>\n",
       "      <td>1.0</td>\n",
       "      <td>1.0</td>\n",
       "      <td>33.0</td>\n",
       "      <td>1001647.0</td>\n",
       "      <td>1.001500e+09</td>\n",
       "      <td>SoHo-TriBeCa-Civic Center-Little Italy        ...</td>\n",
       "    </tr>\n",
       "    <tr>\n",
       "      <th>4</th>\n",
       "      <td>Ladder 8</td>\n",
       "      <td>14 North Moore Street</td>\n",
       "      <td>Manhattan</td>\n",
       "      <td>10013.0</td>\n",
       "      <td>40.719759</td>\n",
       "      <td>-74.006678</td>\n",
       "      <td>1.0</td>\n",
       "      <td>1.0</td>\n",
       "      <td>33.0</td>\n",
       "      <td>1002150.0</td>\n",
       "      <td>1.001890e+09</td>\n",
       "      <td>SoHo-TriBeCa-Civic Center-Little Italy        ...</td>\n",
       "    </tr>\n",
       "  </tbody>\n",
       "</table>\n",
       "</div>"
      ],
      "text/plain": [
       "                                        FacilityName        FacilityAddress  \\\n",
       "0                                 Engine 4/Ladder 15        42 South Street   \n",
       "1                                Engine 10/Ladder 10     124 Liberty Street   \n",
       "2                                           Engine 6      49 Beekman Street   \n",
       "3  Engine 7/Ladder 1/Battalion 1/Manhattan Boroug...   100-104 Duane Street   \n",
       "4                                           Ladder 8  14 North Moore Street   \n",
       "\n",
       "     Borough  Postcode   Latitude  Longitude  Community Board  \\\n",
       "0  Manhattan   10005.0  40.703466 -74.007538              1.0   \n",
       "1  Manhattan   10006.0  40.710072 -74.012523              1.0   \n",
       "2  Manhattan   10038.0  40.710048 -74.005245              1.0   \n",
       "3  Manhattan   10007.0  40.715463 -74.005938              1.0   \n",
       "4  Manhattan   10013.0  40.719759 -74.006678              1.0   \n",
       "\n",
       "   Community Council   Census Tract        BIN           BBL  \\\n",
       "0                 1.0           7.0  1000867.0  1.000350e+09   \n",
       "1                 1.0          13.0  1075700.0  1.000520e+09   \n",
       "2                 1.0        1501.0  1001287.0  1.000930e+09   \n",
       "3                 1.0          33.0  1001647.0  1.001500e+09   \n",
       "4                 1.0          33.0  1002150.0  1.001890e+09   \n",
       "\n",
       "                                                 NTA  \n",
       "0  Battery Park City-Lower Manhattan             ...  \n",
       "1  Battery Park City-Lower Manhattan             ...  \n",
       "2  Battery Park City-Lower Manhattan             ...  \n",
       "3  SoHo-TriBeCa-Civic Center-Little Italy        ...  \n",
       "4  SoHo-TriBeCa-Civic Center-Little Italy        ...  "
      ]
     },
     "execution_count": 31,
     "metadata": {},
     "output_type": "execute_result"
    }
   ],
   "source": [
    "df_fdny_csv_data.head(5)"
   ]
  },
  {
   "cell_type": "code",
   "execution_count": 32,
   "metadata": {},
   "outputs": [
    {
     "data": {
      "text/html": [
       "<div>\n",
       "<style scoped>\n",
       "    .dataframe tbody tr th:only-of-type {\n",
       "        vertical-align: middle;\n",
       "    }\n",
       "\n",
       "    .dataframe tbody tr th {\n",
       "        vertical-align: top;\n",
       "    }\n",
       "\n",
       "    .dataframe thead th {\n",
       "        text-align: right;\n",
       "    }\n",
       "</style>\n",
       "<table border=\"1\" class=\"dataframe\">\n",
       "  <thead>\n",
       "    <tr style=\"text-align: right;\">\n",
       "      <th></th>\n",
       "      <th>Postcode</th>\n",
       "      <th>Latitude</th>\n",
       "      <th>Longitude</th>\n",
       "      <th>Community Board</th>\n",
       "      <th>Community Council</th>\n",
       "      <th>Census Tract</th>\n",
       "      <th>BIN</th>\n",
       "      <th>BBL</th>\n",
       "    </tr>\n",
       "  </thead>\n",
       "  <tbody>\n",
       "    <tr>\n",
       "      <th>count</th>\n",
       "      <td>213.000000</td>\n",
       "      <td>213.000000</td>\n",
       "      <td>213.000000</td>\n",
       "      <td>213.000000</td>\n",
       "      <td>213.000000</td>\n",
       "      <td>213.000000</td>\n",
       "      <td>2.130000e+02</td>\n",
       "      <td>2.130000e+02</td>\n",
       "    </tr>\n",
       "    <tr>\n",
       "      <th>mean</th>\n",
       "      <td>10783.774648</td>\n",
       "      <td>40.719125</td>\n",
       "      <td>-73.937440</td>\n",
       "      <td>7.075117</td>\n",
       "      <td>25.629108</td>\n",
       "      <td>5949.535211</td>\n",
       "      <td>2.900421e+06</td>\n",
       "      <td>2.849843e+09</td>\n",
       "    </tr>\n",
       "    <tr>\n",
       "      <th>std</th>\n",
       "      <td>556.522394</td>\n",
       "      <td>0.083674</td>\n",
       "      <td>0.093686</td>\n",
       "      <td>7.033880</td>\n",
       "      <td>15.648512</td>\n",
       "      <td>19571.786111</td>\n",
       "      <td>1.306104e+06</td>\n",
       "      <td>1.285511e+09</td>\n",
       "    </tr>\n",
       "    <tr>\n",
       "      <th>min</th>\n",
       "      <td>10001.000000</td>\n",
       "      <td>40.512518</td>\n",
       "      <td>-74.238822</td>\n",
       "      <td>1.000000</td>\n",
       "      <td>1.000000</td>\n",
       "      <td>1.000000</td>\n",
       "      <td>1.000867e+06</td>\n",
       "      <td>1.000350e+09</td>\n",
       "    </tr>\n",
       "    <tr>\n",
       "      <th>25%</th>\n",
       "      <td>10304.000000</td>\n",
       "      <td>40.663404</td>\n",
       "      <td>-73.987182</td>\n",
       "      <td>3.000000</td>\n",
       "      <td>12.000000</td>\n",
       "      <td>129.000000</td>\n",
       "      <td>2.003268e+06</td>\n",
       "      <td>2.025140e+09</td>\n",
       "    </tr>\n",
       "    <tr>\n",
       "      <th>50%</th>\n",
       "      <td>11103.000000</td>\n",
       "      <td>40.715147</td>\n",
       "      <td>-73.938066</td>\n",
       "      <td>6.000000</td>\n",
       "      <td>27.000000</td>\n",
       "      <td>275.000000</td>\n",
       "      <td>3.064786e+06</td>\n",
       "      <td>3.024650e+09</td>\n",
       "    </tr>\n",
       "    <tr>\n",
       "      <th>75%</th>\n",
       "      <td>11231.000000</td>\n",
       "      <td>40.774505</td>\n",
       "      <td>-73.886796</td>\n",
       "      <td>11.000000</td>\n",
       "      <td>38.000000</td>\n",
       "      <td>800.000000</td>\n",
       "      <td>4.090228e+06</td>\n",
       "      <td>4.032940e+09</td>\n",
       "    </tr>\n",
       "    <tr>\n",
       "      <th>max</th>\n",
       "      <td>11695.000000</td>\n",
       "      <td>40.892803</td>\n",
       "      <td>-73.716559</td>\n",
       "      <td>84.000000</td>\n",
       "      <td>51.000000</td>\n",
       "      <td>157902.000000</td>\n",
       "      <td>5.154879e+06</td>\n",
       "      <td>5.080400e+09</td>\n",
       "    </tr>\n",
       "  </tbody>\n",
       "</table>\n",
       "</div>"
      ],
      "text/plain": [
       "           Postcode    Latitude   Longitude  Community Board  \\\n",
       "count    213.000000  213.000000  213.000000       213.000000   \n",
       "mean   10783.774648   40.719125  -73.937440         7.075117   \n",
       "std      556.522394    0.083674    0.093686         7.033880   \n",
       "min    10001.000000   40.512518  -74.238822         1.000000   \n",
       "25%    10304.000000   40.663404  -73.987182         3.000000   \n",
       "50%    11103.000000   40.715147  -73.938066         6.000000   \n",
       "75%    11231.000000   40.774505  -73.886796        11.000000   \n",
       "max    11695.000000   40.892803  -73.716559        84.000000   \n",
       "\n",
       "       Community Council    Census Tract           BIN           BBL  \n",
       "count          213.000000     213.000000  2.130000e+02  2.130000e+02  \n",
       "mean            25.629108    5949.535211  2.900421e+06  2.849843e+09  \n",
       "std             15.648512   19571.786111  1.306104e+06  1.285511e+09  \n",
       "min              1.000000       1.000000  1.000867e+06  1.000350e+09  \n",
       "25%             12.000000     129.000000  2.003268e+06  2.025140e+09  \n",
       "50%             27.000000     275.000000  3.064786e+06  3.024650e+09  \n",
       "75%             38.000000     800.000000  4.090228e+06  4.032940e+09  \n",
       "max             51.000000  157902.000000  5.154879e+06  5.080400e+09  "
      ]
     },
     "execution_count": 32,
     "metadata": {},
     "output_type": "execute_result"
    }
   ],
   "source": [
    "df_fdny_csv_data.describe()"
   ]
  },
  {
   "cell_type": "code",
   "execution_count": 33,
   "metadata": {},
   "outputs": [
    {
     "data": {
      "text/plain": [
       "Index(['FacilityName', 'FacilityAddress', 'Borough', 'Postcode', 'Latitude',\n",
       "       'Longitude', 'Community Board', 'Community Council ', 'Census Tract',\n",
       "       'BIN', 'BBL', 'NTA'],\n",
       "      dtype='object')"
      ]
     },
     "execution_count": 33,
     "metadata": {},
     "output_type": "execute_result"
    }
   ],
   "source": [
    "df_fdny_csv_data.columns"
   ]
  },
  {
   "cell_type": "code",
   "execution_count": 35,
   "metadata": {},
   "outputs": [
    {
     "data": {
      "text/plain": [
       "RangeIndex(start=0, stop=218, step=1)"
      ]
     },
     "execution_count": 35,
     "metadata": {},
     "output_type": "execute_result"
    }
   ],
   "source": [
    "df_fdny_csv_data.index"
   ]
  },
  {
   "cell_type": "code",
   "execution_count": 21,
   "metadata": {},
   "outputs": [
    {
     "data": {
      "text/plain": [
       "Engine 4/Ladder 15                                                             217\n",
       "42 South Street                                                                217\n",
       "Manhattan                                                                      217\n",
       "10005                                                                          212\n",
       "40.703466                                                                      212\n",
       "-74.007538                                                                     212\n",
       "1                                                                              212\n",
       "1.1                                                                            212\n",
       "7                                                                              212\n",
       "1000867                                                                        212\n",
       "1000350001                                                                     212\n",
       "Battery Park City-Lower Manhattan                                              212\n",
       "dtype: int64"
      ]
     },
     "execution_count": 21,
     "metadata": {},
     "output_type": "execute_result"
    }
   ],
   "source": [
    "df_fdny_csv_data.count()"
   ]
  },
  {
   "cell_type": "code",
   "execution_count": 36,
   "metadata": {},
   "outputs": [
    {
     "data": {
      "text/plain": [
       "FacilityName           object\n",
       "FacilityAddress        object\n",
       "Borough                object\n",
       "Postcode              float64\n",
       "Latitude              float64\n",
       "Longitude             float64\n",
       "Community Board       float64\n",
       "Community Council     float64\n",
       "Census Tract          float64\n",
       "BIN                   float64\n",
       "BBL                   float64\n",
       "NTA                    object\n",
       "dtype: object"
      ]
     },
     "execution_count": 36,
     "metadata": {},
     "output_type": "execute_result"
    }
   ],
   "source": [
    "df_fdny_csv_data.dtypes"
   ]
  },
  {
   "cell_type": "code",
   "execution_count": 37,
   "metadata": {},
   "outputs": [],
   "source": [
    "groupby_borough = df_fdny_csv_data.groupby('Borough')"
   ]
  },
  {
   "cell_type": "code",
   "execution_count": 38,
   "metadata": {},
   "outputs": [
    {
     "data": {
      "text/plain": [
       "Borough\n",
       "Bronx            34\n",
       "Brooklyn         66\n",
       "Manhattan        48\n",
       "Queens           50\n",
       "Staten Island    20\n",
       "dtype: int64"
      ]
     },
     "execution_count": 38,
     "metadata": {},
     "output_type": "execute_result"
    }
   ],
   "source": [
    "groupby_borough.size()"
   ]
  },
  {
   "cell_type": "code",
   "execution_count": 39,
   "metadata": {},
   "outputs": [],
   "source": [
    "fdny_info_Manhattan= groupby_borough.get_group('Manhattan')"
   ]
  },
  {
   "cell_type": "code",
   "execution_count": 41,
   "metadata": {},
   "outputs": [
    {
     "data": {
      "text/html": [
       "<div>\n",
       "<style scoped>\n",
       "    .dataframe tbody tr th:only-of-type {\n",
       "        vertical-align: middle;\n",
       "    }\n",
       "\n",
       "    .dataframe tbody tr th {\n",
       "        vertical-align: top;\n",
       "    }\n",
       "\n",
       "    .dataframe thead th {\n",
       "        text-align: right;\n",
       "    }\n",
       "</style>\n",
       "<table border=\"1\" class=\"dataframe\">\n",
       "  <thead>\n",
       "    <tr style=\"text-align: right;\">\n",
       "      <th></th>\n",
       "      <th>FacilityName</th>\n",
       "      <th>FacilityAddress</th>\n",
       "      <th>Borough</th>\n",
       "      <th>Postcode</th>\n",
       "      <th>Latitude</th>\n",
       "      <th>Longitude</th>\n",
       "      <th>Community Board</th>\n",
       "      <th>Community Council</th>\n",
       "      <th>Census Tract</th>\n",
       "      <th>BIN</th>\n",
       "      <th>BBL</th>\n",
       "      <th>NTA</th>\n",
       "    </tr>\n",
       "  </thead>\n",
       "  <tbody>\n",
       "    <tr>\n",
       "      <th>0</th>\n",
       "      <td>Engine 4/Ladder 15</td>\n",
       "      <td>42 South Street</td>\n",
       "      <td>Manhattan</td>\n",
       "      <td>10005.0</td>\n",
       "      <td>40.703466</td>\n",
       "      <td>-74.007538</td>\n",
       "      <td>1.0</td>\n",
       "      <td>1.0</td>\n",
       "      <td>7.0</td>\n",
       "      <td>1000867.0</td>\n",
       "      <td>1.000350e+09</td>\n",
       "      <td>Battery Park City-Lower Manhattan             ...</td>\n",
       "    </tr>\n",
       "    <tr>\n",
       "      <th>1</th>\n",
       "      <td>Engine 10/Ladder 10</td>\n",
       "      <td>124 Liberty Street</td>\n",
       "      <td>Manhattan</td>\n",
       "      <td>10006.0</td>\n",
       "      <td>40.710072</td>\n",
       "      <td>-74.012523</td>\n",
       "      <td>1.0</td>\n",
       "      <td>1.0</td>\n",
       "      <td>13.0</td>\n",
       "      <td>1075700.0</td>\n",
       "      <td>1.000520e+09</td>\n",
       "      <td>Battery Park City-Lower Manhattan             ...</td>\n",
       "    </tr>\n",
       "    <tr>\n",
       "      <th>2</th>\n",
       "      <td>Engine 6</td>\n",
       "      <td>49 Beekman Street</td>\n",
       "      <td>Manhattan</td>\n",
       "      <td>10038.0</td>\n",
       "      <td>40.710048</td>\n",
       "      <td>-74.005245</td>\n",
       "      <td>1.0</td>\n",
       "      <td>1.0</td>\n",
       "      <td>1501.0</td>\n",
       "      <td>1001287.0</td>\n",
       "      <td>1.000930e+09</td>\n",
       "      <td>Battery Park City-Lower Manhattan             ...</td>\n",
       "    </tr>\n",
       "    <tr>\n",
       "      <th>3</th>\n",
       "      <td>Engine 7/Ladder 1/Battalion 1/Manhattan Boroug...</td>\n",
       "      <td>100-104 Duane Street</td>\n",
       "      <td>Manhattan</td>\n",
       "      <td>10007.0</td>\n",
       "      <td>40.715463</td>\n",
       "      <td>-74.005938</td>\n",
       "      <td>1.0</td>\n",
       "      <td>1.0</td>\n",
       "      <td>33.0</td>\n",
       "      <td>1001647.0</td>\n",
       "      <td>1.001500e+09</td>\n",
       "      <td>SoHo-TriBeCa-Civic Center-Little Italy        ...</td>\n",
       "    </tr>\n",
       "    <tr>\n",
       "      <th>4</th>\n",
       "      <td>Ladder 8</td>\n",
       "      <td>14 North Moore Street</td>\n",
       "      <td>Manhattan</td>\n",
       "      <td>10013.0</td>\n",
       "      <td>40.719759</td>\n",
       "      <td>-74.006678</td>\n",
       "      <td>1.0</td>\n",
       "      <td>1.0</td>\n",
       "      <td>33.0</td>\n",
       "      <td>1002150.0</td>\n",
       "      <td>1.001890e+09</td>\n",
       "      <td>SoHo-TriBeCa-Civic Center-Little Italy        ...</td>\n",
       "    </tr>\n",
       "    <tr>\n",
       "      <th>5</th>\n",
       "      <td>Engine 9/Ladder 6</td>\n",
       "      <td>75 Canal Street</td>\n",
       "      <td>Manhattan</td>\n",
       "      <td>10002.0</td>\n",
       "      <td>40.715213</td>\n",
       "      <td>-73.992901</td>\n",
       "      <td>3.0</td>\n",
       "      <td>1.0</td>\n",
       "      <td>16.0</td>\n",
       "      <td>1003898.0</td>\n",
       "      <td>1.003000e+09</td>\n",
       "      <td>Chinatown                                     ...</td>\n",
       "    </tr>\n",
       "    <tr>\n",
       "      <th>6</th>\n",
       "      <td>Engine 15/Ladder 18/Battalion 4</td>\n",
       "      <td>25 Pitt Street</td>\n",
       "      <td>Manhattan</td>\n",
       "      <td>10002.0</td>\n",
       "      <td>40.716395</td>\n",
       "      <td>-73.983478</td>\n",
       "      <td>3.0</td>\n",
       "      <td>1.0</td>\n",
       "      <td>12.0</td>\n",
       "      <td>1004078.0</td>\n",
       "      <td>1.003420e+09</td>\n",
       "      <td>Lower East Side                               ...</td>\n",
       "    </tr>\n",
       "    <tr>\n",
       "      <th>7</th>\n",
       "      <td>Engine 28/Ladder 11</td>\n",
       "      <td>222 East 2nd Street</td>\n",
       "      <td>Manhattan</td>\n",
       "      <td>10009.0</td>\n",
       "      <td>40.721682</td>\n",
       "      <td>-73.982622</td>\n",
       "      <td>3.0</td>\n",
       "      <td>2.0</td>\n",
       "      <td>2202.0</td>\n",
       "      <td>1004608.0</td>\n",
       "      <td>1.003850e+09</td>\n",
       "      <td>Lower East Side                               ...</td>\n",
       "    </tr>\n",
       "    <tr>\n",
       "      <th>8</th>\n",
       "      <td>Engine 5</td>\n",
       "      <td>340 East 14th Street</td>\n",
       "      <td>Manhattan</td>\n",
       "      <td>10003.0</td>\n",
       "      <td>40.731752</td>\n",
       "      <td>-73.983536</td>\n",
       "      <td>3.0</td>\n",
       "      <td>2.0</td>\n",
       "      <td>40.0</td>\n",
       "      <td>1006520.0</td>\n",
       "      <td>1.004550e+09</td>\n",
       "      <td>East Village                                  ...</td>\n",
       "    </tr>\n",
       "    <tr>\n",
       "      <th>9</th>\n",
       "      <td>Engine 55</td>\n",
       "      <td>363 Broome Street</td>\n",
       "      <td>Manhattan</td>\n",
       "      <td>10013.0</td>\n",
       "      <td>40.720033</td>\n",
       "      <td>-73.995689</td>\n",
       "      <td>2.0</td>\n",
       "      <td>1.0</td>\n",
       "      <td>41.0</td>\n",
       "      <td>1066722.0</td>\n",
       "      <td>1.004700e+09</td>\n",
       "      <td>SoHo-TriBeCa-Civic Center-Little Italy        ...</td>\n",
       "    </tr>\n",
       "    <tr>\n",
       "      <th>10</th>\n",
       "      <td>Ladder 20/Division 1</td>\n",
       "      <td>253 Lafayette Street</td>\n",
       "      <td>Manhattan</td>\n",
       "      <td>10012.0</td>\n",
       "      <td>40.723072</td>\n",
       "      <td>-73.996804</td>\n",
       "      <td>2.0</td>\n",
       "      <td>1.0</td>\n",
       "      <td>43.0</td>\n",
       "      <td>1007523.0</td>\n",
       "      <td>1.004950e+09</td>\n",
       "      <td>SoHo-TriBeCa-Civic Center-Little Italy        ...</td>\n",
       "    </tr>\n",
       "    <tr>\n",
       "      <th>11</th>\n",
       "      <td>Engine 24/Ladder 5/Battalion 2</td>\n",
       "      <td>227-29 6th Avenue</td>\n",
       "      <td>Manhattan</td>\n",
       "      <td>10014.0</td>\n",
       "      <td>40.727914</td>\n",
       "      <td>-74.003157</td>\n",
       "      <td>2.0</td>\n",
       "      <td>3.0</td>\n",
       "      <td>37.0</td>\n",
       "      <td>1080044.0</td>\n",
       "      <td>1.005200e+09</td>\n",
       "      <td>SoHo-TriBeCa-Civic Center-Little Italy        ...</td>\n",
       "    </tr>\n",
       "    <tr>\n",
       "      <th>12</th>\n",
       "      <td>Engine 33/Ladder 9</td>\n",
       "      <td>42 Great Jones Street</td>\n",
       "      <td>Manhattan</td>\n",
       "      <td>10012.0</td>\n",
       "      <td>40.726815</td>\n",
       "      <td>-73.992643</td>\n",
       "      <td>2.0</td>\n",
       "      <td>1.0</td>\n",
       "      <td>5502.0</td>\n",
       "      <td>1008526.0</td>\n",
       "      <td>1.005310e+09</td>\n",
       "      <td>West Village                                  ...</td>\n",
       "    </tr>\n",
       "    <tr>\n",
       "      <th>13</th>\n",
       "      <td>Ladder 3/Battalion 6</td>\n",
       "      <td>108 East 13th Street</td>\n",
       "      <td>Manhattan</td>\n",
       "      <td>10003.0</td>\n",
       "      <td>40.733329</td>\n",
       "      <td>-73.989421</td>\n",
       "      <td>3.0</td>\n",
       "      <td>2.0</td>\n",
       "      <td>42.0</td>\n",
       "      <td>1009010.0</td>\n",
       "      <td>1.005580e+09</td>\n",
       "      <td>East Village                                  ...</td>\n",
       "    </tr>\n",
       "    <tr>\n",
       "      <th>14</th>\n",
       "      <td>Squad 18</td>\n",
       "      <td>132 West 10th Street</td>\n",
       "      <td>Manhattan</td>\n",
       "      <td>10014.0</td>\n",
       "      <td>40.734625</td>\n",
       "      <td>-74.000346</td>\n",
       "      <td>2.0</td>\n",
       "      <td>3.0</td>\n",
       "      <td>71.0</td>\n",
       "      <td>1010686.0</td>\n",
       "      <td>1.006100e+09</td>\n",
       "      <td>West Village                                  ...</td>\n",
       "    </tr>\n",
       "    <tr>\n",
       "      <th>15</th>\n",
       "      <td>Engine 34/Ladder 21</td>\n",
       "      <td>440 West 38th Street</td>\n",
       "      <td>Manhattan</td>\n",
       "      <td>10018.0</td>\n",
       "      <td>40.756635</td>\n",
       "      <td>-73.996217</td>\n",
       "      <td>4.0</td>\n",
       "      <td>3.0</td>\n",
       "      <td>111.0</td>\n",
       "      <td>1012982.0</td>\n",
       "      <td>1.007350e+09</td>\n",
       "      <td>Hudson Yards-Chelsea-Flatiron-Union Square    ...</td>\n",
       "    </tr>\n",
       "    <tr>\n",
       "      <th>16</th>\n",
       "      <td>Engine 26</td>\n",
       "      <td>220 West 37th Street</td>\n",
       "      <td>Manhattan</td>\n",
       "      <td>10018.0</td>\n",
       "      <td>40.753239</td>\n",
       "      <td>-73.990078</td>\n",
       "      <td>5.0</td>\n",
       "      <td>3.0</td>\n",
       "      <td>109.0</td>\n",
       "      <td>1014447.0</td>\n",
       "      <td>1.007860e+09</td>\n",
       "      <td>Midtown-Midtown South                         ...</td>\n",
       "    </tr>\n",
       "    <tr>\n",
       "      <th>17</th>\n",
       "      <td>Engine 3/Ladder 12/Battalion 7</td>\n",
       "      <td>150 West 19th Street</td>\n",
       "      <td>Manhattan</td>\n",
       "      <td>10011.0</td>\n",
       "      <td>40.741044</td>\n",
       "      <td>-73.996041</td>\n",
       "      <td>4.0</td>\n",
       "      <td>3.0</td>\n",
       "      <td>87.0</td>\n",
       "      <td>1014724.0</td>\n",
       "      <td>1.007940e+09</td>\n",
       "      <td>Hudson Yards-Chelsea-Flatiron-Union Square    ...</td>\n",
       "    </tr>\n",
       "    <tr>\n",
       "      <th>18</th>\n",
       "      <td>Engine 1/Ladder 24</td>\n",
       "      <td>142-46 West 31st Street</td>\n",
       "      <td>Manhattan</td>\n",
       "      <td>10001.0</td>\n",
       "      <td>40.748430</td>\n",
       "      <td>-73.990447</td>\n",
       "      <td>5.0</td>\n",
       "      <td>3.0</td>\n",
       "      <td>101.0</td>\n",
       "      <td>1015173.0</td>\n",
       "      <td>1.008060e+09</td>\n",
       "      <td>Midtown-Midtown South                         ...</td>\n",
       "    </tr>\n",
       "    <tr>\n",
       "      <th>19</th>\n",
       "      <td>Engine 14</td>\n",
       "      <td>14 East 18th Street</td>\n",
       "      <td>Manhattan</td>\n",
       "      <td>10003.0</td>\n",
       "      <td>40.738143</td>\n",
       "      <td>-73.990964</td>\n",
       "      <td>5.0</td>\n",
       "      <td>2.0</td>\n",
       "      <td>52.0</td>\n",
       "      <td>1016141.0</td>\n",
       "      <td>1.008460e+09</td>\n",
       "      <td>Hudson Yards-Chelsea-Flatiron-Union Square    ...</td>\n",
       "    </tr>\n",
       "    <tr>\n",
       "      <th>20</th>\n",
       "      <td>Engine 16 / Ladder 7</td>\n",
       "      <td>234 East 29th Street</td>\n",
       "      <td>Manhattan</td>\n",
       "      <td>10016.0</td>\n",
       "      <td>40.742209</td>\n",
       "      <td>-73.979535</td>\n",
       "      <td>6.0</td>\n",
       "      <td>2.0</td>\n",
       "      <td>66.0</td>\n",
       "      <td>1019903.0</td>\n",
       "      <td>1.009090e+09</td>\n",
       "      <td>Murray Hill-Kips Bay                          ...</td>\n",
       "    </tr>\n",
       "    <tr>\n",
       "      <th>21</th>\n",
       "      <td>Engine 21</td>\n",
       "      <td>238 East 40th Street</td>\n",
       "      <td>Manhattan</td>\n",
       "      <td>10016.0</td>\n",
       "      <td>40.748845</td>\n",
       "      <td>-73.973888</td>\n",
       "      <td>6.0</td>\n",
       "      <td>4.0</td>\n",
       "      <td>88.0</td>\n",
       "      <td>1020385.0</td>\n",
       "      <td>1.009200e+09</td>\n",
       "      <td>Turtle Bay-East Midtown                       ...</td>\n",
       "    </tr>\n",
       "    <tr>\n",
       "      <th>22</th>\n",
       "      <td>Engine 54/Ladder 4/Battalion 9</td>\n",
       "      <td>782 8th Avenue</td>\n",
       "      <td>Manhattan</td>\n",
       "      <td>10036.0</td>\n",
       "      <td>40.760792</td>\n",
       "      <td>-73.987182</td>\n",
       "      <td>5.0</td>\n",
       "      <td>3.0</td>\n",
       "      <td>125.0</td>\n",
       "      <td>1024767.0</td>\n",
       "      <td>1.010190e+09</td>\n",
       "      <td>Midtown-Midtown South                         ...</td>\n",
       "    </tr>\n",
       "    <tr>\n",
       "      <th>23</th>\n",
       "      <td>Engine 23</td>\n",
       "      <td>215 West 58th Street</td>\n",
       "      <td>Manhattan</td>\n",
       "      <td>10019.0</td>\n",
       "      <td>40.766544</td>\n",
       "      <td>-73.980350</td>\n",
       "      <td>5.0</td>\n",
       "      <td>4.0</td>\n",
       "      <td>137.0</td>\n",
       "      <td>1024915.0</td>\n",
       "      <td>1.010300e+09</td>\n",
       "      <td>Midtown-Midtown South                         ...</td>\n",
       "    </tr>\n",
       "    <tr>\n",
       "      <th>24</th>\n",
       "      <td>Rescue 1</td>\n",
       "      <td>530 West 43rd Street</td>\n",
       "      <td>Manhattan</td>\n",
       "      <td>10036.0</td>\n",
       "      <td>40.760892</td>\n",
       "      <td>-73.996405</td>\n",
       "      <td>4.0</td>\n",
       "      <td>3.0</td>\n",
       "      <td>129.0</td>\n",
       "      <td>1070109.0</td>\n",
       "      <td>1.010710e+09</td>\n",
       "      <td>Clinton                                       ...</td>\n",
       "    </tr>\n",
       "    <tr>\n",
       "      <th>25</th>\n",
       "      <td>Engine 40/Ladder 35</td>\n",
       "      <td>131 Amsterdam Avenue</td>\n",
       "      <td>Manhattan</td>\n",
       "      <td>10023.0</td>\n",
       "      <td>40.774505</td>\n",
       "      <td>-73.984619</td>\n",
       "      <td>7.0</td>\n",
       "      <td>6.0</td>\n",
       "      <td>149.0</td>\n",
       "      <td>1077844.0</td>\n",
       "      <td>1.011378e+09</td>\n",
       "      <td>Lincoln Square                                ...</td>\n",
       "    </tr>\n",
       "    <tr>\n",
       "      <th>26</th>\n",
       "      <td>Ladder 25/District Office 4/Division 3</td>\n",
       "      <td>205-207 West 77th Street</td>\n",
       "      <td>Manhattan</td>\n",
       "      <td>10024.0</td>\n",
       "      <td>40.781992</td>\n",
       "      <td>-73.979627</td>\n",
       "      <td>7.0</td>\n",
       "      <td>6.0</td>\n",
       "      <td>163.0</td>\n",
       "      <td>1030885.0</td>\n",
       "      <td>1.011690e+09</td>\n",
       "      <td>Upper West Side                               ...</td>\n",
       "    </tr>\n",
       "    <tr>\n",
       "      <th>27</th>\n",
       "      <td>Engine 74</td>\n",
       "      <td>120 West 83rd Street</td>\n",
       "      <td>Manhattan</td>\n",
       "      <td>10024.0</td>\n",
       "      <td>40.784881</td>\n",
       "      <td>-73.974434</td>\n",
       "      <td>7.0</td>\n",
       "      <td>6.0</td>\n",
       "      <td>169.0</td>\n",
       "      <td>1032079.0</td>\n",
       "      <td>1.012130e+09</td>\n",
       "      <td>Upper West Side                               ...</td>\n",
       "    </tr>\n",
       "    <tr>\n",
       "      <th>28</th>\n",
       "      <td>Engine 65</td>\n",
       "      <td>33 West 43rd Street</td>\n",
       "      <td>Manhattan</td>\n",
       "      <td>10036.0</td>\n",
       "      <td>40.754676</td>\n",
       "      <td>-73.981610</td>\n",
       "      <td>5.0</td>\n",
       "      <td>4.0</td>\n",
       "      <td>96.0</td>\n",
       "      <td>1076256.0</td>\n",
       "      <td>1.012590e+09</td>\n",
       "      <td>Midtown-Midtown South                         ...</td>\n",
       "    </tr>\n",
       "    <tr>\n",
       "      <th>29</th>\n",
       "      <td>Engine 8 / Ladder 2 / Battalion 8</td>\n",
       "      <td>167 East 51st Street</td>\n",
       "      <td>Manhattan</td>\n",
       "      <td>10022.0</td>\n",
       "      <td>40.756812</td>\n",
       "      <td>-73.971142</td>\n",
       "      <td>6.0</td>\n",
       "      <td>4.0</td>\n",
       "      <td>100.0</td>\n",
       "      <td>1036462.0</td>\n",
       "      <td>1.013060e+09</td>\n",
       "      <td>Turtle Bay-East Midtown                       ...</td>\n",
       "    </tr>\n",
       "    <tr>\n",
       "      <th>30</th>\n",
       "      <td>Engine 39/Ladder 16</td>\n",
       "      <td>157-59 East 67th Street</td>\n",
       "      <td>Manhattan</td>\n",
       "      <td>10065.0</td>\n",
       "      <td>40.766960</td>\n",
       "      <td>-73.963856</td>\n",
       "      <td>8.0</td>\n",
       "      <td>4.0</td>\n",
       "      <td>120.0</td>\n",
       "      <td>1072190.0</td>\n",
       "      <td>1.014020e+09</td>\n",
       "      <td>Upper East Side-Carnegie Hill                 ...</td>\n",
       "    </tr>\n",
       "    <tr>\n",
       "      <th>31</th>\n",
       "      <td>Engine 44</td>\n",
       "      <td>221 East 75th Street</td>\n",
       "      <td>Manhattan</td>\n",
       "      <td>10021.0</td>\n",
       "      <td>40.771427</td>\n",
       "      <td>-73.958521</td>\n",
       "      <td>8.0</td>\n",
       "      <td>4.0</td>\n",
       "      <td>134.0</td>\n",
       "      <td>1044059.0</td>\n",
       "      <td>1.014300e+09</td>\n",
       "      <td>Lenox Hill-Roosevelt Island                   ...</td>\n",
       "    </tr>\n",
       "    <tr>\n",
       "      <th>32</th>\n",
       "      <td>Engine 22/Ladder 13/Battalion 10</td>\n",
       "      <td>159 East 85th Street</td>\n",
       "      <td>Manhattan</td>\n",
       "      <td>10028.0</td>\n",
       "      <td>40.778584</td>\n",
       "      <td>-73.955516</td>\n",
       "      <td>8.0</td>\n",
       "      <td>5.0</td>\n",
       "      <td>14801.0</td>\n",
       "      <td>1047937.0</td>\n",
       "      <td>1.015140e+09</td>\n",
       "      <td>Upper East Side-Carnegie Hill                 ...</td>\n",
       "    </tr>\n",
       "    <tr>\n",
       "      <th>33</th>\n",
       "      <td>Engine 58/Ladder 26</td>\n",
       "      <td>1367 5th Avenue</td>\n",
       "      <td>Manhattan</td>\n",
       "      <td>10029.0</td>\n",
       "      <td>40.798873</td>\n",
       "      <td>-73.947759</td>\n",
       "      <td>11.0</td>\n",
       "      <td>9.0</td>\n",
       "      <td>184.0</td>\n",
       "      <td>1080501.0</td>\n",
       "      <td>1.016180e+09</td>\n",
       "      <td>East Harlem North                             ...</td>\n",
       "    </tr>\n",
       "    <tr>\n",
       "      <th>34</th>\n",
       "      <td>Engine 53/Ladder 43</td>\n",
       "      <td>1836-46 3rd  Avenue</td>\n",
       "      <td>Manhattan</td>\n",
       "      <td>10029.0</td>\n",
       "      <td>40.788714</td>\n",
       "      <td>-73.946774</td>\n",
       "      <td>11.0</td>\n",
       "      <td>8.0</td>\n",
       "      <td>166.0</td>\n",
       "      <td>1051850.0</td>\n",
       "      <td>1.016290e+09</td>\n",
       "      <td>East Harlem South                             ...</td>\n",
       "    </tr>\n",
       "    <tr>\n",
       "      <th>35</th>\n",
       "      <td>Engine 91</td>\n",
       "      <td>242 East 111th Street</td>\n",
       "      <td>Manhattan</td>\n",
       "      <td>10029.0</td>\n",
       "      <td>40.794327</td>\n",
       "      <td>-73.941345</td>\n",
       "      <td>11.0</td>\n",
       "      <td>8.0</td>\n",
       "      <td>180.0</td>\n",
       "      <td>1052473.0</td>\n",
       "      <td>1.016600e+09</td>\n",
       "      <td>East Harlem North                             ...</td>\n",
       "    </tr>\n",
       "    <tr>\n",
       "      <th>36</th>\n",
       "      <td>Engine 35/Ladder 14</td>\n",
       "      <td>2282 3rd Avenue</td>\n",
       "      <td>Manhattan</td>\n",
       "      <td>10035.0</td>\n",
       "      <td>40.803129</td>\n",
       "      <td>-73.936244</td>\n",
       "      <td>11.0</td>\n",
       "      <td>8.0</td>\n",
       "      <td>196.0</td>\n",
       "      <td>1054465.0</td>\n",
       "      <td>1.017730e+09</td>\n",
       "      <td>East Harlem North                             ...</td>\n",
       "    </tr>\n",
       "    <tr>\n",
       "      <th>37</th>\n",
       "      <td>Engine 76/Ladder 22/Battalion 11</td>\n",
       "      <td>145-51 West 100th Street</td>\n",
       "      <td>Manhattan</td>\n",
       "      <td>10025.0</td>\n",
       "      <td>40.795924</td>\n",
       "      <td>-73.966726</td>\n",
       "      <td>7.0</td>\n",
       "      <td>7.0</td>\n",
       "      <td>189.0</td>\n",
       "      <td>1055910.0</td>\n",
       "      <td>1.018550e+09</td>\n",
       "      <td>Upper West Side                               ...</td>\n",
       "    </tr>\n",
       "    <tr>\n",
       "      <th>38</th>\n",
       "      <td>Engine 47</td>\n",
       "      <td>502 West 113th Street</td>\n",
       "      <td>Manhattan</td>\n",
       "      <td>10025.0</td>\n",
       "      <td>40.805068</td>\n",
       "      <td>-73.962929</td>\n",
       "      <td>9.0</td>\n",
       "      <td>7.0</td>\n",
       "      <td>199.0</td>\n",
       "      <td>1057000.0</td>\n",
       "      <td>1.018840e+09</td>\n",
       "      <td>Morningside Heights                           ...</td>\n",
       "    </tr>\n",
       "    <tr>\n",
       "      <th>39</th>\n",
       "      <td>Engine 59/Ladder 30</td>\n",
       "      <td>111 West 133rd Street</td>\n",
       "      <td>Manhattan</td>\n",
       "      <td>10030.0</td>\n",
       "      <td>40.813057</td>\n",
       "      <td>-73.942358</td>\n",
       "      <td>10.0</td>\n",
       "      <td>9.0</td>\n",
       "      <td>226.0</td>\n",
       "      <td>1058225.0</td>\n",
       "      <td>1.019180e+09</td>\n",
       "      <td>Central Harlem North-Polo Grounds             ...</td>\n",
       "    </tr>\n",
       "    <tr>\n",
       "      <th>40</th>\n",
       "      <td>Engine 37/Ladder 40</td>\n",
       "      <td>415 West 125th Street</td>\n",
       "      <td>Manhattan</td>\n",
       "      <td>10027.0</td>\n",
       "      <td>40.811770</td>\n",
       "      <td>-73.954858</td>\n",
       "      <td>9.0</td>\n",
       "      <td>7.0</td>\n",
       "      <td>20901.0</td>\n",
       "      <td>1059547.0</td>\n",
       "      <td>1.019660e+09</td>\n",
       "      <td>Morningside Heights                           ...</td>\n",
       "    </tr>\n",
       "    <tr>\n",
       "      <th>41</th>\n",
       "      <td>Engine 69/Ladder 28/Battalion 16</td>\n",
       "      <td>248 West 143rd Street</td>\n",
       "      <td>Manhattan</td>\n",
       "      <td>10030.0</td>\n",
       "      <td>40.821105</td>\n",
       "      <td>-73.941849</td>\n",
       "      <td>10.0</td>\n",
       "      <td>9.0</td>\n",
       "      <td>232.0</td>\n",
       "      <td>1075491.0</td>\n",
       "      <td>1.020280e+09</td>\n",
       "      <td>Central Harlem North-Polo Grounds             ...</td>\n",
       "    </tr>\n",
       "    <tr>\n",
       "      <th>42</th>\n",
       "      <td>Engine 80/Ladder 23</td>\n",
       "      <td>503 West 139th Street</td>\n",
       "      <td>Manhattan</td>\n",
       "      <td>10031.0</td>\n",
       "      <td>40.821586</td>\n",
       "      <td>-73.950689</td>\n",
       "      <td>9.0</td>\n",
       "      <td>7.0</td>\n",
       "      <td>225.0</td>\n",
       "      <td>1075504.0</td>\n",
       "      <td>1.020710e+09</td>\n",
       "      <td>Hamilton Heights                              ...</td>\n",
       "    </tr>\n",
       "    <tr>\n",
       "      <th>43</th>\n",
       "      <td>Engine 84/Ladder 34</td>\n",
       "      <td>513 West 161st Street</td>\n",
       "      <td>Manhattan</td>\n",
       "      <td>10032.0</td>\n",
       "      <td>40.835640</td>\n",
       "      <td>-73.940856</td>\n",
       "      <td>12.0</td>\n",
       "      <td>7.0</td>\n",
       "      <td>245.0</td>\n",
       "      <td>1062872.0</td>\n",
       "      <td>1.021200e+09</td>\n",
       "      <td>Washington Heights South                      ...</td>\n",
       "    </tr>\n",
       "    <tr>\n",
       "      <th>44</th>\n",
       "      <td>Engine 67</td>\n",
       "      <td>518 West 170th Street</td>\n",
       "      <td>Manhattan</td>\n",
       "      <td>10032.0</td>\n",
       "      <td>40.841394</td>\n",
       "      <td>-73.936836</td>\n",
       "      <td>12.0</td>\n",
       "      <td>10.0</td>\n",
       "      <td>253.0</td>\n",
       "      <td>1063024.0</td>\n",
       "      <td>1.021260e+09</td>\n",
       "      <td>Washington Heights South                      ...</td>\n",
       "    </tr>\n",
       "    <tr>\n",
       "      <th>45</th>\n",
       "      <td>Engine 93/Ladder 45/Battalion 13</td>\n",
       "      <td>515 West 181st Street</td>\n",
       "      <td>Manhattan</td>\n",
       "      <td>10033.0</td>\n",
       "      <td>40.848398</td>\n",
       "      <td>-73.931516</td>\n",
       "      <td>12.0</td>\n",
       "      <td>10.0</td>\n",
       "      <td>269.0</td>\n",
       "      <td>1075518.0</td>\n",
       "      <td>1.021550e+09</td>\n",
       "      <td>Washington Heights North                      ...</td>\n",
       "    </tr>\n",
       "    <tr>\n",
       "      <th>46</th>\n",
       "      <td>Engine 95/Ladder 36</td>\n",
       "      <td>29 Vermilyea Avenue</td>\n",
       "      <td>Manhattan</td>\n",
       "      <td>10034.0</td>\n",
       "      <td>40.864975</td>\n",
       "      <td>-73.925403</td>\n",
       "      <td>12.0</td>\n",
       "      <td>10.0</td>\n",
       "      <td>291.0</td>\n",
       "      <td>1064801.0</td>\n",
       "      <td>1.022240e+09</td>\n",
       "      <td>Marble Hill-Inwood                            ...</td>\n",
       "    </tr>\n",
       "    <tr>\n",
       "      <th>47</th>\n",
       "      <td>Marine 1</td>\n",
       "      <td>Little West 12th Street/Hudson River</td>\n",
       "      <td>Manhattan</td>\n",
       "      <td>NaN</td>\n",
       "      <td>NaN</td>\n",
       "      <td>NaN</td>\n",
       "      <td>NaN</td>\n",
       "      <td>NaN</td>\n",
       "      <td>NaN</td>\n",
       "      <td>NaN</td>\n",
       "      <td>NaN</td>\n",
       "      <td>NaN</td>\n",
       "    </tr>\n",
       "  </tbody>\n",
       "</table>\n",
       "</div>"
      ],
      "text/plain": [
       "                                         FacilityName  \\\n",
       "0                                  Engine 4/Ladder 15   \n",
       "1                                 Engine 10/Ladder 10   \n",
       "2                                            Engine 6   \n",
       "3   Engine 7/Ladder 1/Battalion 1/Manhattan Boroug...   \n",
       "4                                            Ladder 8   \n",
       "5                                   Engine 9/Ladder 6   \n",
       "6                     Engine 15/Ladder 18/Battalion 4   \n",
       "7                                 Engine 28/Ladder 11   \n",
       "8                                            Engine 5   \n",
       "9                                           Engine 55   \n",
       "10                               Ladder 20/Division 1   \n",
       "11                     Engine 24/Ladder 5/Battalion 2   \n",
       "12                                 Engine 33/Ladder 9   \n",
       "13                               Ladder 3/Battalion 6   \n",
       "14                                           Squad 18   \n",
       "15                                Engine 34/Ladder 21   \n",
       "16                                          Engine 26   \n",
       "17                     Engine 3/Ladder 12/Battalion 7   \n",
       "18                                 Engine 1/Ladder 24   \n",
       "19                                          Engine 14   \n",
       "20                              Engine 16 / Ladder 7    \n",
       "21                                          Engine 21   \n",
       "22                     Engine 54/Ladder 4/Battalion 9   \n",
       "23                                          Engine 23   \n",
       "24                                           Rescue 1   \n",
       "25                                Engine 40/Ladder 35   \n",
       "26             Ladder 25/District Office 4/Division 3   \n",
       "27                                          Engine 74   \n",
       "28                                          Engine 65   \n",
       "29                  Engine 8 / Ladder 2 / Battalion 8   \n",
       "30                                Engine 39/Ladder 16   \n",
       "31                                          Engine 44   \n",
       "32                   Engine 22/Ladder 13/Battalion 10   \n",
       "33                                Engine 58/Ladder 26   \n",
       "34                                Engine 53/Ladder 43   \n",
       "35                                          Engine 91   \n",
       "36                                Engine 35/Ladder 14   \n",
       "37                   Engine 76/Ladder 22/Battalion 11   \n",
       "38                                          Engine 47   \n",
       "39                                Engine 59/Ladder 30   \n",
       "40                                Engine 37/Ladder 40   \n",
       "41                   Engine 69/Ladder 28/Battalion 16   \n",
       "42                                Engine 80/Ladder 23   \n",
       "43                                Engine 84/Ladder 34   \n",
       "44                                          Engine 67   \n",
       "45                   Engine 93/Ladder 45/Battalion 13   \n",
       "46                                Engine 95/Ladder 36   \n",
       "47                                           Marine 1   \n",
       "\n",
       "                         FacilityAddress    Borough  Postcode   Latitude  \\\n",
       "0                        42 South Street  Manhattan   10005.0  40.703466   \n",
       "1                     124 Liberty Street  Manhattan   10006.0  40.710072   \n",
       "2                      49 Beekman Street  Manhattan   10038.0  40.710048   \n",
       "3                   100-104 Duane Street  Manhattan   10007.0  40.715463   \n",
       "4                  14 North Moore Street  Manhattan   10013.0  40.719759   \n",
       "5                        75 Canal Street  Manhattan   10002.0  40.715213   \n",
       "6                         25 Pitt Street  Manhattan   10002.0  40.716395   \n",
       "7                    222 East 2nd Street  Manhattan   10009.0  40.721682   \n",
       "8                   340 East 14th Street  Manhattan   10003.0  40.731752   \n",
       "9                      363 Broome Street  Manhattan   10013.0  40.720033   \n",
       "10                  253 Lafayette Street  Manhattan   10012.0  40.723072   \n",
       "11                     227-29 6th Avenue  Manhattan   10014.0  40.727914   \n",
       "12                 42 Great Jones Street  Manhattan   10012.0  40.726815   \n",
       "13                  108 East 13th Street  Manhattan   10003.0  40.733329   \n",
       "14                  132 West 10th Street  Manhattan   10014.0  40.734625   \n",
       "15                  440 West 38th Street  Manhattan   10018.0  40.756635   \n",
       "16                  220 West 37th Street  Manhattan   10018.0  40.753239   \n",
       "17                  150 West 19th Street  Manhattan   10011.0  40.741044   \n",
       "18               142-46 West 31st Street  Manhattan   10001.0  40.748430   \n",
       "19                   14 East 18th Street  Manhattan   10003.0  40.738143   \n",
       "20                  234 East 29th Street  Manhattan   10016.0  40.742209   \n",
       "21                  238 East 40th Street  Manhattan   10016.0  40.748845   \n",
       "22                        782 8th Avenue  Manhattan   10036.0  40.760792   \n",
       "23                  215 West 58th Street  Manhattan   10019.0  40.766544   \n",
       "24                  530 West 43rd Street  Manhattan   10036.0  40.760892   \n",
       "25                131 Amsterdam Avenue    Manhattan   10023.0  40.774505   \n",
       "26              205-207 West 77th Street  Manhattan   10024.0  40.781992   \n",
       "27                 120 West 83rd Street   Manhattan   10024.0  40.784881   \n",
       "28                   33 West 43rd Street  Manhattan   10036.0  40.754676   \n",
       "29                  167 East 51st Street  Manhattan   10022.0  40.756812   \n",
       "30               157-59 East 67th Street  Manhattan   10065.0  40.766960   \n",
       "31                  221 East 75th Street  Manhattan   10021.0  40.771427   \n",
       "32                  159 East 85th Street  Manhattan   10028.0  40.778584   \n",
       "33                       1367 5th Avenue  Manhattan   10029.0  40.798873   \n",
       "34                   1836-46 3rd  Avenue  Manhattan   10029.0  40.788714   \n",
       "35                 242 East 111th Street  Manhattan   10029.0  40.794327   \n",
       "36                       2282 3rd Avenue  Manhattan   10035.0  40.803129   \n",
       "37              145-51 West 100th Street  Manhattan   10025.0  40.795924   \n",
       "38                 502 West 113th Street  Manhattan   10025.0  40.805068   \n",
       "39                 111 West 133rd Street  Manhattan   10030.0  40.813057   \n",
       "40                 415 West 125th Street  Manhattan   10027.0  40.811770   \n",
       "41                 248 West 143rd Street  Manhattan   10030.0  40.821105   \n",
       "42                 503 West 139th Street  Manhattan   10031.0  40.821586   \n",
       "43                 513 West 161st Street  Manhattan   10032.0  40.835640   \n",
       "44                 518 West 170th Street  Manhattan   10032.0  40.841394   \n",
       "45                 515 West 181st Street  Manhattan   10033.0  40.848398   \n",
       "46                   29 Vermilyea Avenue  Manhattan   10034.0  40.864975   \n",
       "47  Little West 12th Street/Hudson River  Manhattan       NaN        NaN   \n",
       "\n",
       "    Longitude  Community Board  Community Council   Census Tract        BIN  \\\n",
       "0  -74.007538              1.0                 1.0           7.0  1000867.0   \n",
       "1  -74.012523              1.0                 1.0          13.0  1075700.0   \n",
       "2  -74.005245              1.0                 1.0        1501.0  1001287.0   \n",
       "3  -74.005938              1.0                 1.0          33.0  1001647.0   \n",
       "4  -74.006678              1.0                 1.0          33.0  1002150.0   \n",
       "5  -73.992901              3.0                 1.0          16.0  1003898.0   \n",
       "6  -73.983478              3.0                 1.0          12.0  1004078.0   \n",
       "7  -73.982622              3.0                 2.0        2202.0  1004608.0   \n",
       "8  -73.983536              3.0                 2.0          40.0  1006520.0   \n",
       "9  -73.995689              2.0                 1.0          41.0  1066722.0   \n",
       "10 -73.996804              2.0                 1.0          43.0  1007523.0   \n",
       "11 -74.003157              2.0                 3.0          37.0  1080044.0   \n",
       "12 -73.992643              2.0                 1.0        5502.0  1008526.0   \n",
       "13 -73.989421              3.0                 2.0          42.0  1009010.0   \n",
       "14 -74.000346              2.0                 3.0          71.0  1010686.0   \n",
       "15 -73.996217              4.0                 3.0         111.0  1012982.0   \n",
       "16 -73.990078              5.0                 3.0         109.0  1014447.0   \n",
       "17 -73.996041              4.0                 3.0          87.0  1014724.0   \n",
       "18 -73.990447              5.0                 3.0         101.0  1015173.0   \n",
       "19 -73.990964              5.0                 2.0          52.0  1016141.0   \n",
       "20 -73.979535              6.0                 2.0          66.0  1019903.0   \n",
       "21 -73.973888              6.0                 4.0          88.0  1020385.0   \n",
       "22 -73.987182              5.0                 3.0         125.0  1024767.0   \n",
       "23 -73.980350              5.0                 4.0         137.0  1024915.0   \n",
       "24 -73.996405              4.0                 3.0         129.0  1070109.0   \n",
       "25 -73.984619              7.0                 6.0         149.0  1077844.0   \n",
       "26 -73.979627              7.0                 6.0         163.0  1030885.0   \n",
       "27 -73.974434              7.0                 6.0         169.0  1032079.0   \n",
       "28 -73.981610              5.0                 4.0          96.0  1076256.0   \n",
       "29 -73.971142              6.0                 4.0         100.0  1036462.0   \n",
       "30 -73.963856              8.0                 4.0         120.0  1072190.0   \n",
       "31 -73.958521              8.0                 4.0         134.0  1044059.0   \n",
       "32 -73.955516              8.0                 5.0       14801.0  1047937.0   \n",
       "33 -73.947759             11.0                 9.0         184.0  1080501.0   \n",
       "34 -73.946774             11.0                 8.0         166.0  1051850.0   \n",
       "35 -73.941345             11.0                 8.0         180.0  1052473.0   \n",
       "36 -73.936244             11.0                 8.0         196.0  1054465.0   \n",
       "37 -73.966726              7.0                 7.0         189.0  1055910.0   \n",
       "38 -73.962929              9.0                 7.0         199.0  1057000.0   \n",
       "39 -73.942358             10.0                 9.0         226.0  1058225.0   \n",
       "40 -73.954858              9.0                 7.0       20901.0  1059547.0   \n",
       "41 -73.941849             10.0                 9.0         232.0  1075491.0   \n",
       "42 -73.950689              9.0                 7.0         225.0  1075504.0   \n",
       "43 -73.940856             12.0                 7.0         245.0  1062872.0   \n",
       "44 -73.936836             12.0                10.0         253.0  1063024.0   \n",
       "45 -73.931516             12.0                10.0         269.0  1075518.0   \n",
       "46 -73.925403             12.0                10.0         291.0  1064801.0   \n",
       "47        NaN              NaN                 NaN           NaN        NaN   \n",
       "\n",
       "             BBL                                                NTA  \n",
       "0   1.000350e+09  Battery Park City-Lower Manhattan             ...  \n",
       "1   1.000520e+09  Battery Park City-Lower Manhattan             ...  \n",
       "2   1.000930e+09  Battery Park City-Lower Manhattan             ...  \n",
       "3   1.001500e+09  SoHo-TriBeCa-Civic Center-Little Italy        ...  \n",
       "4   1.001890e+09  SoHo-TriBeCa-Civic Center-Little Italy        ...  \n",
       "5   1.003000e+09  Chinatown                                     ...  \n",
       "6   1.003420e+09  Lower East Side                               ...  \n",
       "7   1.003850e+09  Lower East Side                               ...  \n",
       "8   1.004550e+09  East Village                                  ...  \n",
       "9   1.004700e+09  SoHo-TriBeCa-Civic Center-Little Italy        ...  \n",
       "10  1.004950e+09  SoHo-TriBeCa-Civic Center-Little Italy        ...  \n",
       "11  1.005200e+09  SoHo-TriBeCa-Civic Center-Little Italy        ...  \n",
       "12  1.005310e+09  West Village                                  ...  \n",
       "13  1.005580e+09  East Village                                  ...  \n",
       "14  1.006100e+09  West Village                                  ...  \n",
       "15  1.007350e+09  Hudson Yards-Chelsea-Flatiron-Union Square    ...  \n",
       "16  1.007860e+09  Midtown-Midtown South                         ...  \n",
       "17  1.007940e+09  Hudson Yards-Chelsea-Flatiron-Union Square    ...  \n",
       "18  1.008060e+09  Midtown-Midtown South                         ...  \n",
       "19  1.008460e+09  Hudson Yards-Chelsea-Flatiron-Union Square    ...  \n",
       "20  1.009090e+09  Murray Hill-Kips Bay                          ...  \n",
       "21  1.009200e+09  Turtle Bay-East Midtown                       ...  \n",
       "22  1.010190e+09  Midtown-Midtown South                         ...  \n",
       "23  1.010300e+09  Midtown-Midtown South                         ...  \n",
       "24  1.010710e+09  Clinton                                       ...  \n",
       "25  1.011378e+09  Lincoln Square                                ...  \n",
       "26  1.011690e+09  Upper West Side                               ...  \n",
       "27  1.012130e+09  Upper West Side                               ...  \n",
       "28  1.012590e+09  Midtown-Midtown South                         ...  \n",
       "29  1.013060e+09  Turtle Bay-East Midtown                       ...  \n",
       "30  1.014020e+09  Upper East Side-Carnegie Hill                 ...  \n",
       "31  1.014300e+09  Lenox Hill-Roosevelt Island                   ...  \n",
       "32  1.015140e+09  Upper East Side-Carnegie Hill                 ...  \n",
       "33  1.016180e+09  East Harlem North                             ...  \n",
       "34  1.016290e+09  East Harlem South                             ...  \n",
       "35  1.016600e+09  East Harlem North                             ...  \n",
       "36  1.017730e+09  East Harlem North                             ...  \n",
       "37  1.018550e+09  Upper West Side                               ...  \n",
       "38  1.018840e+09  Morningside Heights                           ...  \n",
       "39  1.019180e+09  Central Harlem North-Polo Grounds             ...  \n",
       "40  1.019660e+09  Morningside Heights                           ...  \n",
       "41  1.020280e+09  Central Harlem North-Polo Grounds             ...  \n",
       "42  1.020710e+09  Hamilton Heights                              ...  \n",
       "43  1.021200e+09  Washington Heights South                      ...  \n",
       "44  1.021260e+09  Washington Heights South                      ...  \n",
       "45  1.021550e+09  Washington Heights North                      ...  \n",
       "46  1.022240e+09  Marble Hill-Inwood                            ...  \n",
       "47           NaN                                                NaN  "
      ]
     },
     "execution_count": 41,
     "metadata": {},
     "output_type": "execute_result"
    }
   ],
   "source": [
    "fdny_info_Manhattan"
   ]
  },
  {
   "cell_type": "code",
   "execution_count": null,
   "metadata": {},
   "outputs": [],
   "source": []
  }
 ],
 "metadata": {
  "kernelspec": {
   "display_name": "Python 3",
   "language": "python",
   "name": "python3"
  },
  "language_info": {
   "codemirror_mode": {
    "name": "ipython",
    "version": 3
   },
   "file_extension": ".py",
   "mimetype": "text/x-python",
   "name": "python",
   "nbconvert_exporter": "python",
   "pygments_lexer": "ipython3",
   "version": "3.7.3"
  }
 },
 "nbformat": 4,
 "nbformat_minor": 2
}
